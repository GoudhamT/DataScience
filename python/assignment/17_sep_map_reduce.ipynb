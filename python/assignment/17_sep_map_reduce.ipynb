{
 "cells": [
  {
   "cell_type": "markdown",
   "id": "717d49fc-7b08-4f9b-ba86-c190e70a4798",
   "metadata": {},
   "source": [
    "## For Loop\n"
   ]
  },
  {
   "cell_type": "markdown",
   "id": "1cb77d44-b6bc-4472-b4dd-a07771d1dad5",
   "metadata": {},
   "source": [
    "### 1.Write a Python program to print numbers from 1 to 10 using a for loop."
   ]
  },
  {
   "cell_type": "code",
   "execution_count": 16,
   "id": "ee6af40e-e7bf-4dbf-955d-b274efd38c9f",
   "metadata": {},
   "outputs": [
    {
     "name": "stdout",
     "output_type": "stream",
     "text": [
      "1\n",
      "2\n",
      "3\n",
      "4\n",
      "5\n",
      "6\n",
      "7\n",
      "8\n",
      "9\n",
      "10\n"
     ]
    }
   ],
   "source": [
    "for i in range(1,11):\n",
    "    print(i)"
   ]
  },
  {
   "cell_type": "markdown",
   "id": "0e33270e-3a64-4bf8-98e5-ba52dbaaa64b",
   "metadata": {},
   "source": [
    "### 2.Explain the difference between a for loop and a while loop in Python."
   ]
  },
  {
   "cell_type": "raw",
   "id": "6af3effd-61c1-4ca0-b58b-641a7aa1433c",
   "metadata": {},
   "source": [
    "Loop executes for definite iteration, before executoin it knows how many itertaion loop is going to be executed\n",
    "While loop can executes indefinite iteration, it executes till condition are satisfied, while will exit only when condition is not satisfied\n",
    "\n",
    "example:\n",
    "LOOP:\n",
    "for i in range(1,10):\n",
    "    loop knows, it is going to execute 10 times and exit from loop\n",
    "\n",
    "while loop:\n",
    "i = 0\n",
    "while i <= 10:\n",
    "    i = i + 1\n",
    "    loop executes till i comes to value 10, there is chance, it may run indefinite times if i is not incremented inside while loop condition"
   ]
  },
  {
   "cell_type": "markdown",
   "id": "a8d95990-5315-4693-af5f-82283dbb3e91",
   "metadata": {},
   "source": [
    "### 3.Write a Python program to calculate the sum of all numbers from 1 to 100 using a for loop."
   ]
  },
  {
   "cell_type": "code",
   "execution_count": 17,
   "id": "9c3cab9b-48bd-4d6f-89cb-743d664d8c9c",
   "metadata": {},
   "outputs": [
    {
     "name": "stdout",
     "output_type": "stream",
     "text": [
      "Sum of 1 to 100 is  5050\n"
     ]
    }
   ],
   "source": [
    "sum = 0\n",
    "for i in range(1,101):\n",
    "    sum += i\n",
    "else:\n",
    "    print(\"Sum of 1 to 100 is \",sum)"
   ]
  },
  {
   "cell_type": "markdown",
   "id": "20d2f8ae-a0e2-40af-bbad-00f72c75410b",
   "metadata": {},
   "source": [
    "### 4.How do you iterate through a list using a for loop in Python?"
   ]
  },
  {
   "cell_type": "code",
   "execution_count": 18,
   "id": "cc08d224-1408-4590-8d16-41c01e7b5eed",
   "metadata": {},
   "outputs": [
    {
     "name": "stdout",
     "output_type": "stream",
     "text": [
      "1\n",
      "2\n",
      "5\n",
      "90.89\n",
      "(78+89j)\n",
      "text\n"
     ]
    }
   ],
   "source": [
    "mylist = [1,2,5,90.89,78+89j,'text']\n",
    "for element in mylist:\n",
    "    print(element)"
   ]
  },
  {
   "cell_type": "markdown",
   "id": "8de4e7bf-2944-4247-96cb-0093bb0c4064",
   "metadata": {},
   "source": [
    "### 5. Write a Python program to find the product of all elements in a list using a for loop."
   ]
  },
  {
   "cell_type": "code",
   "execution_count": 19,
   "id": "3184165f-6968-405f-88aa-67165ec3b651",
   "metadata": {},
   "outputs": [
    {
     "name": "stdout",
     "output_type": "stream",
     "text": [
      "Product of all elements is  72576\n"
     ]
    }
   ],
   "source": [
    "myproduct = [1,2,3,4,6,7,8,9]\n",
    "finalprod = 1\n",
    "for i in myproduct:\n",
    "    finalprod = finalprod * i\n",
    "else:\n",
    "    print(\"Product of all elements is \",finalprod)"
   ]
  },
  {
   "cell_type": "markdown",
   "id": "d1a1e557-8dcc-471b-b45e-cd56d76094c2",
   "metadata": {},
   "source": [
    "### 6.Create a Python program that prints all even numbers from 1 to 20 using a for loop."
   ]
  },
  {
   "cell_type": "code",
   "execution_count": 20,
   "id": "2c12dfdc-88ef-4d62-a5a3-514f8d778ed0",
   "metadata": {},
   "outputs": [
    {
     "name": "stdout",
     "output_type": "stream",
     "text": [
      "2\n",
      "4\n",
      "6\n",
      "8\n",
      "10\n",
      "12\n",
      "14\n",
      "16\n",
      "18\n",
      "20\n"
     ]
    }
   ],
   "source": [
    "for i in range(1,21):\n",
    "    if i % 2 == 0:\n",
    "        print(i)"
   ]
  },
  {
   "cell_type": "markdown",
   "id": "67ac4453-2ab6-45dd-ada7-1d720f7cf180",
   "metadata": {},
   "source": [
    "### 7.Write a Python program that calculates the factorial of a number using a for loop."
   ]
  },
  {
   "cell_type": "code",
   "execution_count": 21,
   "id": "3ea29db9-753d-471d-a432-88f69be0411b",
   "metadata": {},
   "outputs": [
    {
     "name": "stdin",
     "output_type": "stream",
     "text": [
      "Enter any number 5\n"
     ]
    },
    {
     "name": "stdout",
     "output_type": "stream",
     "text": [
      "Factorial of given number is  120\n"
     ]
    }
   ],
   "source": [
    "n = int(input(\"Enter any number\"))\n",
    "fact = 1\n",
    "for i in range(1,n+1):\n",
    "    fact = fact * i\n",
    "print(\"Factorial of given number is \",fact)"
   ]
  },
  {
   "cell_type": "markdown",
   "id": "aec6abdc-b1d6-4452-a4b9-5ae1d96619f8",
   "metadata": {},
   "source": [
    "### 8.How can you iterate through the characters of a string using a for loop in Python?"
   ]
  },
  {
   "cell_type": "code",
   "execution_count": 23,
   "id": "9e086a9d-b26b-4ea9-81f5-5350439053a9",
   "metadata": {},
   "outputs": [
    {
     "name": "stdout",
     "output_type": "stream",
     "text": [
      "p\n",
      "y\n",
      "t\n",
      "h\n",
      "o\n",
      "n\n"
     ]
    }
   ],
   "source": [
    "mystr = 'python'\n",
    "for char in mystr:\n",
    "    print(char)"
   ]
  },
  {
   "cell_type": "markdown",
   "id": "ab82feb1-7cb2-4c2a-85e0-2fc10272dd94",
   "metadata": {},
   "source": [
    "### 9.Write a Python program to find the largest number in a list using a for loop."
   ]
  },
  {
   "cell_type": "code",
   "execution_count": 24,
   "id": "bc7f0893-e527-4b35-a8f3-48d30b92fe5d",
   "metadata": {},
   "outputs": [
    {
     "name": "stdout",
     "output_type": "stream",
     "text": [
      "Largest number in given list is  3456\n"
     ]
    }
   ],
   "source": [
    "largno = 0\n",
    "list_no = [1,9,2,4,7,89,56,456,3456,2,1,4,67]\n",
    "for i in list_no:\n",
    "    if i > largno:\n",
    "        largno = i\n",
    "print(\"Largest number in given list is \",largno)"
   ]
  },
  {
   "cell_type": "markdown",
   "id": "bf2f1900-be0d-4c1a-897f-93c8a11541b4",
   "metadata": {},
   "source": [
    "### 10. Create a Python program that prints the Fibonacci sequence up to a specified limit using a for loop."
   ]
  },
  {
   "cell_type": "code",
   "execution_count": 43,
   "id": "6cb2f1b3-cca4-4019-9701-f540a82f64b2",
   "metadata": {},
   "outputs": [
    {
     "name": "stdin",
     "output_type": "stream",
     "text": [
      "enter any number 5\n"
     ]
    },
    {
     "name": "stdout",
     "output_type": "stream",
     "text": [
      "0\n",
      "1\n",
      "1\n",
      "2\n",
      "3\n",
      "5\n"
     ]
    }
   ],
   "source": [
    " first_no = 0\n",
    "second_no = 1\n",
    "n = int(input(\"enter any number\"))\n",
    "print(first_no)\n",
    "print(second_no)\n",
    "for i in range(1,n+1):\n",
    "    third_no = first_no + second_no\n",
    "    if third_no <= n:\n",
    "        print(third_no)\n",
    "        first_no = second_no\n",
    "        second_no = third_no"
   ]
  },
  {
   "cell_type": "markdown",
   "id": "697fe45e-58ca-4379-843d-2e5f369f852e",
   "metadata": {},
   "source": [
    "### 11.Write a Python program to count the number of vowels in a given string using a for loop."
   ]
  },
  {
   "cell_type": "code",
   "execution_count": 39,
   "id": "75f32200-7be0-4870-a72d-2d2ea70042ee",
   "metadata": {},
   "outputs": [
    {
     "name": "stdout",
     "output_type": "stream",
     "text": [
      "Number of vowels in given word is  6\n"
     ]
    }
   ],
   "source": [
    "mystr = 'machine learning'\n",
    "vowel_cnt = 0\n",
    "vowels = ['a','e','i','o','u']\n",
    "for i in mystr:\n",
    "    if i in vowels:\n",
    "        vowel_cnt += 1\n",
    "print(\"Number of vowels in given word is \",vowel_cnt)"
   ]
  },
  {
   "cell_type": "markdown",
   "id": "04d930cd-4a08-4852-8d53-eadcc8e88883",
   "metadata": {},
   "source": [
    "### 12.Create a Python program that generates a multiplication table for a given number using a for loop."
   ]
  },
  {
   "cell_type": "code",
   "execution_count": 1,
   "id": "f96a7d5e-9226-4505-ae2c-1cb1dcbcca60",
   "metadata": {},
   "outputs": [
    {
     "name": "stdin",
     "output_type": "stream",
     "text": [
      " 10\n"
     ]
    },
    {
     "name": "stdout",
     "output_type": "stream",
     "text": [
      "1 * 10 = 10\n",
      "2 * 10 = 20\n",
      "3 * 10 = 30\n",
      "4 * 10 = 40\n",
      "5 * 10 = 50\n",
      "6 * 10 = 60\n",
      "7 * 10 = 70\n",
      "8 * 10 = 80\n",
      "9 * 10 = 90\n",
      "10 * 10 = 100\n"
     ]
    }
   ],
   "source": [
    "n = int(input())\n",
    "for i in range(1,11):\n",
    "    print(f\"{i} * {n} = {i*n}\")"
   ]
  },
  {
   "cell_type": "markdown",
   "id": "d4fe2189-d522-4914-b056-7d4c1d2d5ad2",
   "metadata": {},
   "source": [
    "### 13.Write a Python program to reverse a list using a for loop."
   ]
  },
  {
   "cell_type": "code",
   "execution_count": 4,
   "id": "0591fdf5-748b-447f-85bb-4ab027ebf809",
   "metadata": {},
   "outputs": [
    {
     "name": "stdout",
     "output_type": "stream",
     "text": [
      "[[67, 89, (90+89j)], (89+90j), 'DS', 'python', 2, 1]\n"
     ]
    }
   ],
   "source": [
    "mylist = [1,2,'python','DS',89+90j,[67,89,90+89j]]\n",
    "myresult = []\n",
    "for i in range(len(mylist)-1,-1,-1):\n",
    "    myresult.append(mylist[i])\n",
    "print(myresult)"
   ]
  },
  {
   "cell_type": "markdown",
   "id": "421398ac-583f-46de-a555-cbb7d7e80666",
   "metadata": {},
   "source": [
    "### 14.Write a Python program to find the common elements between two lists using a for loop."
   ]
  },
  {
   "cell_type": "code",
   "execution_count": 6,
   "id": "7bf50b33-ddfa-4785-8339-4ca027f4f028",
   "metadata": {},
   "outputs": [
    {
     "name": "stdout",
     "output_type": "stream",
     "text": [
      "common elements are [6, 7, 'python', 'machine learning']\n"
     ]
    }
   ],
   "source": [
    "mylist1 = [5,6,7,90,[1,2,3,4],'python','machine learning']\n",
    "mylist2 = [1,2,3,6,7,'python','DS','machine learning','56,78']\n",
    "mycommon = []\n",
    "for i in mylist1 :\n",
    "    if i in mylist2:\n",
    "        mycommon.append(i)\n",
    "print(\"common elements are\",mycommon)"
   ]
  },
  {
   "cell_type": "markdown",
   "id": "747056c1-79b8-4e6b-9f30-2563b471aefa",
   "metadata": {},
   "source": [
    "### 15.Explain how to use a for loop to iterate through the keys and values of a dictionary in Python."
   ]
  },
  {
   "cell_type": "code",
   "execution_count": 10,
   "id": "c81b6a85-1591-4394-b812-0ab7280a48f1",
   "metadata": {},
   "outputs": [
    {
     "name": "stdout",
     "output_type": "stream",
     "text": [
      "My keys are:\n",
      "key\n",
      "fname\n",
      "skills\n",
      "age\n",
      "my valus are\n",
      "value\n",
      "python\n",
      "ML\n",
      "30\n"
     ]
    }
   ],
   "source": [
    "mydict = {'key':'value','fname':'python','skills':'ML','age':30}\n",
    "print(\"My keys are:\")\n",
    "for i in mydict.keys():\n",
    "    print(i)\n",
    "\n",
    "print(\"my valus are\")\n",
    "for j in mydict.values():\n",
    "    print(j)"
   ]
  },
  {
   "cell_type": "markdown",
   "id": "a3f2feb9-d9b6-4df3-a37c-50de26b99eff",
   "metadata": {},
   "source": [
    "### 16.Write a Python program to find the GCD (Greatest Common Divisor) of two numbers using a for loop."
   ]
  },
  {
   "cell_type": "code",
   "execution_count": 8,
   "id": "11bf983e-e022-44cb-a859-9a702c4db7fd",
   "metadata": {},
   "outputs": [
    {
     "name": "stdout",
     "output_type": "stream",
     "text": [
      "Greatest divisor is  9\n"
     ]
    }
   ],
   "source": [
    "num1 = 81\n",
    "num2 = 27\n",
    "num = 0\n",
    "gcd = 0\n",
    "if num1 > num2 :\n",
    "    num = num2\n",
    "elif num1 == num2:\n",
    "    num = num1\n",
    "else:\n",
    "    num = num1\n",
    "\n",
    "for i in range(2,num):\n",
    "    if num1 % i == 0 and num2 % i == 0:\n",
    "        gcd = i\n",
    "if gcd > 0:\n",
    "    print(\"Greatest divisor is \",gcd)\n",
    "else:\n",
    "    print(\"Thse numbers cannot be divided\")"
   ]
  },
  {
   "cell_type": "markdown",
   "id": "bbbcb594-0c09-4b80-bed7-fd75d29aa746",
   "metadata": {},
   "source": [
    "### 17.Create a Python program that checks if a string is a palindrome using a for loop."
   ]
  },
  {
   "cell_type": "code",
   "execution_count": 19,
   "id": "7dbd79cd-ea65-44c0-ac68-e97e14cabb24",
   "metadata": {},
   "outputs": [
    {
     "name": "stdout",
     "output_type": "stream",
     "text": [
      "it is palindrome\n"
     ]
    }
   ],
   "source": [
    "mystr1 = 'madam'\n",
    "j = 1\n",
    "for i in range(0,len(mystr1)):\n",
    "    if mystr1[i] == mystr1[len(mystr1)-j]:\n",
    "        j += 1\n",
    "    else:\n",
    "        print(\"Given string not palindrome\")\n",
    "        break\n",
    "else:\n",
    "    print(\"it is palindrome\")"
   ]
  },
  {
   "cell_type": "markdown",
   "id": "951793af-669c-4d4b-915a-3823859985c8",
   "metadata": {},
   "source": [
    "### 18.Write a Python program to remove duplicates from a list using a for loop."
   ]
  },
  {
   "cell_type": "code",
   "execution_count": 30,
   "id": "bf486b24-d47f-4b92-a27d-7aa53e6790b4",
   "metadata": {},
   "outputs": [
    {
     "name": "stdout",
     "output_type": "stream",
     "text": [
      "After removing duplicates [1, 2, 3, 'ML', 'DS', 'program', (89+90j), {1, 2, 3}]\n"
     ]
    }
   ],
   "source": [
    "mylist = [1,2,3,'ML','DS','program',89+90j,{1,2,3},2,3,'ML','DS']\n",
    "mydup = []\n",
    "for i in mylist:\n",
    "    if i not in mydup:\n",
    "        mydup.append(i)\n",
    "print(\"After removing duplicates\", mydup)"
   ]
  },
  {
   "cell_type": "markdown",
   "id": "923e1498-8b3d-4e49-89e7-80b2f6769c55",
   "metadata": {},
   "source": [
    "### 19.Create a Python program that counts the number of words in a sentence using a for loop."
   ]
  },
  {
   "cell_type": "code",
   "execution_count": 21,
   "id": "bd8fedbb-7a05-4d13-a20b-059653ddda21",
   "metadata": {},
   "outputs": [
    {
     "name": "stdout",
     "output_type": "stream",
     "text": [
      "total words are  5\n"
     ]
    }
   ],
   "source": [
    "myword = 'machine learning is in progress'\n",
    "mysplit = myword.split(' ')\n",
    "j = 0\n",
    "for i in mysplit:\n",
    "    j += 1\n",
    "print(\"total words are \",j)"
   ]
  },
  {
   "cell_type": "markdown",
   "id": "d141bb73-4e76-4f32-ac98-6617577f5640",
   "metadata": {},
   "source": [
    "### 20.Write a Python program to find the sum of all odd numbers from 1 to 50 using a for loop."
   ]
  },
  {
   "cell_type": "code",
   "execution_count": 22,
   "id": "96e2e34c-d26a-405e-b5a5-9d101e784493",
   "metadata": {},
   "outputs": [
    {
     "name": "stdout",
     "output_type": "stream",
     "text": [
      "Sum is 625\n"
     ]
    }
   ],
   "source": [
    "odd_sum = 0\n",
    "for i in range(1,51):\n",
    "    if i % 2 != 0:\n",
    "        odd_sum += i\n",
    "print(\"Sum is\",odd_sum)"
   ]
  },
  {
   "cell_type": "markdown",
   "id": "dd62cfac-0378-4331-a305-c2cfd5426a35",
   "metadata": {},
   "source": [
    "### 21.Write a Python program that checks if a given year is a leap year using a for loop."
   ]
  },
  {
   "cell_type": "code",
   "execution_count": 25,
   "id": "bb1b1d3d-858a-48de-9cf2-f8ce0d4ff33c",
   "metadata": {},
   "outputs": [
    {
     "name": "stdin",
     "output_type": "stream",
     "text": [
      "enter any year 2020\n"
     ]
    },
    {
     "name": "stdout",
     "output_type": "stream",
     "text": [
      "given year is not leap\n"
     ]
    }
   ],
   "source": [
    "year = int(input(\"enter any year\"))\n",
    "\n",
    "if year % 4 == 0 and year % 400 == 0:\n",
    "    print(\"Given year is leap\")\n",
    "else:\n",
    "    print(\"given year is not leap\")"
   ]
  },
  {
   "cell_type": "markdown",
   "id": "d370b8b1-2025-42de-afea-f201144afd1d",
   "metadata": {},
   "source": [
    "### 22.Create a Python program that calculates the square root of a number using a for loop."
   ]
  },
  {
   "cell_type": "code",
   "execution_count": 35,
   "id": "5d8b4fe2-618d-4018-bcbe-6e7fbd1b3051",
   "metadata": {},
   "outputs": [
    {
     "name": "stdin",
     "output_type": "stream",
     "text": [
      "enter any number 4\n"
     ]
    },
    {
     "name": "stdout",
     "output_type": "stream",
     "text": [
      "Square root is 2\n"
     ]
    }
   ],
   "source": [
    "n = int(input(\"enter any number\"))\n",
    "for i in range(1,n):\n",
    "    if i ** 2 == n:\n",
    "        print('Square root is', i)\n",
    "        break"
   ]
  },
  {
   "cell_type": "markdown",
   "id": "c60172cf-1092-466b-8e2b-1bd20bc66673",
   "metadata": {},
   "source": [
    "### 23. Write a Python program to find the LCM (Least Common Multiple) of two numbers using a for loop."
   ]
  },
  {
   "cell_type": "code",
   "execution_count": 10,
   "id": "921e815f-67b7-40ca-b153-cff422e0cf80",
   "metadata": {},
   "outputs": [
    {
     "name": "stdout",
     "output_type": "stream",
     "text": [
      "Least common multiple is  3\n"
     ]
    }
   ],
   "source": [
    "num1 = 81\n",
    "num2 = 27\n",
    "num = 0\n",
    "lcm = 0\n",
    "if num1 > num2 :\n",
    "    num = num2\n",
    "elif num1 == num2:\n",
    "    num = num1\n",
    "else:\n",
    "    num = num1\n",
    "\n",
    "for i in range(2,num):\n",
    "    if num1 % i == 0 and num2 % i == 0:\n",
    "        lcm = i\n",
    "        break\n",
    "if lcm > 0:\n",
    "    print(\"Least common multiple is \",lcm)\n",
    "else:\n",
    "    print(\"Thse numbers cannot be divided\")"
   ]
  },
  {
   "cell_type": "markdown",
   "id": "dc6434f3-c311-4dac-9cb8-7eff558dfb1e",
   "metadata": {},
   "source": [
    "## If else "
   ]
  },
  {
   "cell_type": "markdown",
   "id": "4e7aa364-0f09-491f-81e4-5c35c4b2cf75",
   "metadata": {},
   "source": [
    "### 1.Write a Python program to check if a number is positive, negative, or zero using an if-else statement."
   ]
  },
  {
   "cell_type": "code",
   "execution_count": 1,
   "id": "52aafd5e-d406-499d-aa94-c67cfc0a4798",
   "metadata": {},
   "outputs": [
    {
     "name": "stdin",
     "output_type": "stream",
     "text": [
      "Enter any number 10\n"
     ]
    },
    {
     "name": "stdout",
     "output_type": "stream",
     "text": [
      "Number is positive\n"
     ]
    }
   ],
   "source": [
    "n = int(input(\"Enter any number\"))\n",
    "if n > 0:\n",
    "    print(\"Number is positive\")\n",
    "elif n < 0:\n",
    "    print(\"Number is negative\")\n",
    "else:\n",
    "    print(\"Number is zero\")\n"
   ]
  },
  {
   "cell_type": "markdown",
   "id": "b9bec04b-c911-4e1b-9b15-756fe673a3d2",
   "metadata": {},
   "source": [
    "### 2.Create a Python program that checks if a given number is even or odd using an if-else statement."
   ]
  },
  {
   "cell_type": "code",
   "execution_count": 3,
   "id": "0e8fbbf7-f3f8-4f6e-8e05-0fc4d725b16c",
   "metadata": {},
   "outputs": [
    {
     "name": "stdin",
     "output_type": "stream",
     "text": [
      "Enter any number 20\n"
     ]
    },
    {
     "name": "stdout",
     "output_type": "stream",
     "text": [
      "number is even\n"
     ]
    }
   ],
   "source": [
    "n = int(input(\"Enter any number\"))\n",
    "if n % 2 == 0:\n",
    "    print(\"number is even\")\n",
    "else:\n",
    "    print(\"number is odd\")"
   ]
  },
  {
   "cell_type": "markdown",
   "id": "c0a24b13-0a87-4949-8fb9-be2a4a0fff9c",
   "metadata": {},
   "source": [
    "### 3.How can you use nested if-else statements in Python, and provide an example?\n",
    "#### for given student mark if greater than 0 then also check number graeter than 80 then display grade as A+ only "
   ]
  },
  {
   "cell_type": "code",
   "execution_count": 2,
   "id": "9de0a3c2-2347-41f5-8d80-748f14a8550e",
   "metadata": {},
   "outputs": [
    {
     "name": "stdout",
     "output_type": "stream",
     "text": [
      "Your grade is A+\n"
     ]
    }
   ],
   "source": [
    "student_mark = 88\n",
    "if student_mark > 0:\n",
    "    if student_mark > 80:\n",
    "        print(\"Your grade is A+\")\n",
    "    else:\n",
    "        print(\"Your grade is B\")\n",
    "else:\n",
    "    print(\"Not eligible for grade\")"
   ]
  },
  {
   "cell_type": "markdown",
   "id": "b6988dce-0f1b-4c66-b5cc-1ff7d8f8248e",
   "metadata": {},
   "source": [
    "### 4.Write a Python program to determine the largest of three numbers using if-else."
   ]
  },
  {
   "cell_type": "code",
   "execution_count": 7,
   "id": "297470f1-0910-4222-a4a7-f940558bef3b",
   "metadata": {},
   "outputs": [
    {
     "name": "stdout",
     "output_type": "stream",
     "text": [
      "No3 is bigger\n"
     ]
    }
   ],
   "source": [
    "no1 = 20\n",
    "no2 = 30\n",
    "no3 = 40\n",
    "if no1 > no2 and no1 > no3:\n",
    "    print(\"No1 is bigger\")\n",
    "elif no2 > no3 and no2 > no1:\n",
    "    print(\"No2 is bigger\")\n",
    "else:\n",
    "    print(\"No3 is bigger\")"
   ]
  },
  {
   "cell_type": "markdown",
   "id": "b614193a-6717-45b0-8fb2-d5356f2f801f",
   "metadata": {},
   "source": [
    "### 5.Write a Python program that calculates the absolute value of a number using if-else"
   ]
  },
  {
   "cell_type": "code",
   "execution_count": 11,
   "id": "588d5651-c708-4f8c-b2a7-d131800f09a0",
   "metadata": {},
   "outputs": [
    {
     "name": "stdin",
     "output_type": "stream",
     "text": [
      "Enter any number -20\n"
     ]
    },
    {
     "name": "stdout",
     "output_type": "stream",
     "text": [
      "Absoulte value of -20 is 20\n"
     ]
    }
   ],
   "source": [
    "num = int(input(\"Enter any number\"))\n",
    "abs_val = 0\n",
    "if num < 0:\n",
    "    abs_val = num * -1\n",
    "elif num == 0:\n",
    "    abs_val = num\n",
    "else:\n",
    "    abs_val = num\n",
    "\n",
    "print(f\"Absoulte value of {num} is {abs_val}\")"
   ]
  },
  {
   "cell_type": "markdown",
   "id": "c1809ac0-a4de-4449-b2aa-52ae5c8c8a51",
   "metadata": {},
   "source": [
    "### 6.Create a Python program that checks if a given character is a vowel or consonant using if-else."
   ]
  },
  {
   "cell_type": "code",
   "execution_count": 3,
   "id": "7f746668-3c01-45d2-ba33-31e30b74edf5",
   "metadata": {},
   "outputs": [
    {
     "name": "stdin",
     "output_type": "stream",
     "text": [
      "enter any one character fhfjhgkjg\n"
     ]
    },
    {
     "name": "stdout",
     "output_type": "stream",
     "text": [
      "Give only one character\n"
     ]
    }
   ],
   "source": [
    "mychar = input(\"enter any one character\")\n",
    "if len(mychar) > 1:\n",
    "    print(\"Give only one character\")\n",
    "else:\n",
    "    if mychar in ['a','e','i','o','u']:\n",
    "        print(\"Given character is vowel\")\n",
    "    else:\n",
    "        print(\"given character is consonant\")\n",
    "        "
   ]
  },
  {
   "cell_type": "markdown",
   "id": "4d41735b-1619-4168-8140-41acb72043d0",
   "metadata": {},
   "source": [
    "### 7.Write a Python program to determine if a user is eligible to vote based on their age using if-else"
   ]
  },
  {
   "cell_type": "code",
   "execution_count": 8,
   "id": "a1a5eaa6-a957-41f8-bc6f-ac530d80977f",
   "metadata": {},
   "outputs": [
    {
     "name": "stdin",
     "output_type": "stream",
     "text": [
      "Enter Age 22\n"
     ]
    },
    {
     "name": "stdout",
     "output_type": "stream",
     "text": [
      "You ar eeligible to vote\n"
     ]
    }
   ],
   "source": [
    "age = int(input(\"Enter Age\"))\n",
    "if age > 18:\n",
    "    print(\"You ar eeligible to vote\")\n",
    "else:\n",
    "    print(f\"You have to wait {18-age} more years to vote\")"
   ]
  },
  {
   "cell_type": "markdown",
   "id": "d94fc946-8521-4809-ad56-3fb562884778",
   "metadata": {},
   "source": [
    "### 8.Create a Python program that calculates the discount amount based on the purchase amount using if-else."
   ]
  },
  {
   "cell_type": "code",
   "execution_count": 11,
   "id": "c20bcc71-3054-49c8-b18f-524d32308b3b",
   "metadata": {},
   "outputs": [
    {
     "name": "stdin",
     "output_type": "stream",
     "text": [
      "enter your total bill amount 3000\n"
     ]
    },
    {
     "name": "stdout",
     "output_type": "stream",
     "text": [
      "You are eligible for 20% discount and you have pay only 2400.0  amount\n"
     ]
    }
   ],
   "source": [
    "purchase_amt = int(input(\"enter your total bill amount\"))\n",
    "\n",
    "if purchase_amt >= 2000 and purchase_amt < 3000:\n",
    "    print(\"You are eligible for 15% discount and you have pay only\",(purchase_amt - (purchase_amt * 15/100)),\" amount\")\n",
    "elif purchase_amt >= 3000 and purchase_amt < 5000:\n",
    "    print(\"You are eligible for 20% discount and you have pay only\",(purchase_amt - (purchase_amt * 20/100)),\" amount\")\n",
    "else:\n",
    "    print(\"You are eligible for 35% discount and you have pay only\",(purchase_amt - (purchase_amt * 35/100)),\" amount\")"
   ]
  },
  {
   "cell_type": "markdown",
   "id": "eca109a9-ca47-4162-9a90-57c49e0faa29",
   "metadata": {},
   "source": [
    "### 9.Write a Python program to check if a number is within a specified range using if-else.\n"
   ]
  },
  {
   "cell_type": "code",
   "execution_count": 13,
   "id": "1a8e104e-fc57-45c4-a678-86f9ccc6a260",
   "metadata": {},
   "outputs": [
    {
     "name": "stdin",
     "output_type": "stream",
     "text": [
      "Enter any number 400\n"
     ]
    },
    {
     "name": "stdout",
     "output_type": "stream",
     "text": [
      "given number lying below 500\n"
     ]
    }
   ],
   "source": [
    "number = int(input(\"Enter any number\"))\n",
    "if number in range(0,100):\n",
    "    print(\"given number lying below 100\")\n",
    "elif number in range(100,500):\n",
    "    print(\"given number lying below 500\")\n",
    "else:\n",
    "    print(\"number not in any range\")"
   ]
  },
  {
   "cell_type": "markdown",
   "id": "82b6852f-0d67-49f2-a8f6-f30531367164",
   "metadata": {},
   "source": [
    "### 10.Create a Python program that determines the grade of a student based on their score using if-else.\n"
   ]
  },
  {
   "cell_type": "code",
   "execution_count": 15,
   "id": "223d9176-1b17-42d2-ad79-a6066990e78c",
   "metadata": {},
   "outputs": [
    {
     "name": "stdin",
     "output_type": "stream",
     "text": [
      "Enter marks to determine grade 80\n"
     ]
    },
    {
     "name": "stdout",
     "output_type": "stream",
     "text": [
      "Your grade i A\n"
     ]
    }
   ],
   "source": [
    "student_mark = int(input(\"Enter marks to determine grade\"))\n",
    "if student_mark >= 50 and student_mark < 65:\n",
    "    print(\"Your grade is C\")\n",
    "elif student_mark >= 65 and student_mark < 75:\n",
    "    print(\"Your grade is B\")\n",
    "elif student_mark >= 75:\n",
    "    print(\"Your grade i A\")\n",
    "else:\n",
    "    print(\"Your grade is F\")"
   ]
  },
  {
   "cell_type": "markdown",
   "id": "9bd05c30-427a-4bdf-b9ac-5a02b2b481c7",
   "metadata": {},
   "source": [
    "### 11.Write a Python program to check if a string is empty or not using if-else."
   ]
  },
  {
   "cell_type": "code",
   "execution_count": 21,
   "id": "01c67e93-e93d-4db5-8cac-2c726ab5c401",
   "metadata": {},
   "outputs": [
    {
     "name": "stdin",
     "output_type": "stream",
     "text": [
      "Enter anything \n"
     ]
    },
    {
     "name": "stdout",
     "output_type": "stream",
     "text": [
      "No string provided\n"
     ]
    }
   ],
   "source": [
    "mystr = input(\"Enter anything\")\n",
    "if len(mystr) == 0:\n",
    "    print(\"No string provided\")\n",
    "else:\n",
    "    print(\"String has value\")"
   ]
  },
  {
   "cell_type": "markdown",
   "id": "ae2054bb-f630-45ec-8fcc-a00eb6099d4d",
   "metadata": {},
   "source": [
    "### 12. Create a Python program that identifies the type of a triangle (e.g., equilateral, isosceles, or scalene) based on input values using if-else."
   ]
  },
  {
   "cell_type": "code",
   "execution_count": 25,
   "id": "515c98a2-5b76-4910-9194-bef7d5e747c6",
   "metadata": {},
   "outputs": [
    {
     "name": "stdin",
     "output_type": "stream",
     "text": [
      "Enter any number 30\n",
      "Enter any number 10\n",
      "Enter any number 10\n"
     ]
    },
    {
     "name": "stdout",
     "output_type": "stream",
     "text": [
      "Triangle is isosceles\n"
     ]
    }
   ],
   "source": [
    "a = int(input(\"Enter any number\"))\n",
    "b = int(input(\"Enter any number\"))\n",
    "c = int(input(\"Enter any number\"))\n",
    "if a == b == c:\n",
    "    print(\"Triangle is equilateral\")\n",
    "elif a == b or b == c or a == c :\n",
    "    print(\"Triangle is isosceles\")\n",
    "else:\n",
    "    print(\"Triangle is scalene\")"
   ]
  },
  {
   "cell_type": "markdown",
   "id": "e4de8c0f-9c18-48ae-812e-894008a6997e",
   "metadata": {},
   "source": [
    "### 13.Write a Python program to determine the day of the week based on a user-provided number using if-else."
   ]
  },
  {
   "cell_type": "code",
   "execution_count": 1,
   "id": "295e5c4c-ef2c-4f13-995d-f8bcdcb29bd6",
   "metadata": {},
   "outputs": [
    {
     "name": "stdin",
     "output_type": "stream",
     "text": [
      "Enter any number between 1-7 2\n"
     ]
    },
    {
     "name": "stdout",
     "output_type": "stream",
     "text": [
      "Tuesday\n"
     ]
    }
   ],
   "source": [
    "\n",
    "week = int(input(\"Enter any number between 1-7\"))\n",
    "if week == 1:\n",
    "    print(\"Monday\")\n",
    "elif week == 2:\n",
    "    print(\"Tuesday\")\n",
    "elif week == 3:\n",
    "    print(\"Wednesday\")\n",
    "elif week == 4:\n",
    "    print(\"Thursday\")\n",
    "elif week == 5:\n",
    "    print(\"Friday\")\n",
    "elif week == 6:\n",
    "    print(\"Saturday\")\n",
    "elif week == 7:\n",
    "    print(\"Sunday\")\n",
    "else:\n",
    "    print(\"Not valid day\")"
   ]
  },
  {
   "cell_type": "markdown",
   "id": "520bf41a-8036-4571-99f8-f8585ac11929",
   "metadata": {},
   "source": [
    "### "
   ]
  },
  {
   "cell_type": "markdown",
   "id": "0e208f28-f9dc-47a6-9900-0af16c074784",
   "metadata": {},
   "source": [
    "### 14.Create a Python program that checks if a given year is a leap year using both if-else and a function."
   ]
  },
  {
   "cell_type": "code",
   "execution_count": 30,
   "id": "fb5d835a-fe7a-4a32-b3a5-923f0c60c0e7",
   "metadata": {},
   "outputs": [],
   "source": [
    "def is_leap(yr):\n",
    "    if yr % 4 == 0 and yr % 400 == 0:\n",
    "        return True\n",
    "    else:\n",
    "        return False"
   ]
  },
  {
   "cell_type": "code",
   "execution_count": 31,
   "id": "e742ec90-e736-47a6-b315-dbcb606675e0",
   "metadata": {},
   "outputs": [
    {
     "name": "stdin",
     "output_type": "stream",
     "text": [
      "Enter year 2000\n"
     ]
    },
    {
     "name": "stdout",
     "output_type": "stream",
     "text": [
      "It is leap year\n"
     ]
    }
   ],
   "source": [
    "year = int(input(\"Enter year\"))\n",
    "if is_leap(year):\n",
    "    print(\"It is leap year\")\n",
    "else:\n",
    "    print(\"It is not leap year\")"
   ]
  },
  {
   "cell_type": "markdown",
   "id": "51b2cfd1-3ada-42d3-8d1c-42969bc5c6f8",
   "metadata": {},
   "source": [
    "### 15. How do you use the \"assert\" statement in Python to add debugging checks within if-else blocks?"
   ]
  },
  {
   "cell_type": "code",
   "execution_count": 35,
   "id": "5d11e08b-495a-4b7b-b5e8-33e556741950",
   "metadata": {},
   "outputs": [
    {
     "name": "stdin",
     "output_type": "stream",
     "text": [
      "Enter any number 8\n"
     ]
    },
    {
     "name": "stdout",
     "output_type": "stream",
     "text": [
      "No failure\n"
     ]
    }
   ],
   "source": [
    "num = int(input(\"Enter any number\"))\n",
    "def eval_num(num):\n",
    "    if num > 7:\n",
    "        return num ** 2\n",
    "    else:\n",
    "        return num * 2\n",
    "\n",
    "try:\n",
    "    assert eval_num(num) > 50\n",
    "except Exception as e:\n",
    "    print(\"Failed\",e)\n",
    "else:\n",
    "    print(\"No failure\")"
   ]
  },
  {
   "cell_type": "markdown",
   "id": "203e8d86-bf57-4577-972d-60a1a0df3f0d",
   "metadata": {},
   "source": [
    "### 16.Create a Python program that determines the eligibility of a person for a senior citizen discount based on age using if-else."
   ]
  },
  {
   "cell_type": "code",
   "execution_count": 42,
   "id": "b669d796-0499-4dba-aabe-096bc63ed15c",
   "metadata": {},
   "outputs": [
    {
     "name": "stdin",
     "output_type": "stream",
     "text": [
      "Enter age 70\n"
     ]
    },
    {
     "name": "stdout",
     "output_type": "stream",
     "text": [
      "You are eligible for 30% discount on every purchase\n"
     ]
    }
   ],
   "source": [
    "senior_age= int(input(\"Enter age\"))\n",
    "\n",
    "if senior_age > 60 :\n",
    "    print(\"You are eligible for 30% discount on every purchase\")\n",
    "else:\n",
    "    print(\"Not senior citizen and not eligible for discount\")"
   ]
  },
  {
   "cell_type": "markdown",
   "id": "56024a17-8dbc-4bf8-9a38-1102e0d6c7b9",
   "metadata": {},
   "source": [
    "### 17.Write a Python program to categorize a given character as uppercase, lowercase, or neither using if-else."
   ]
  },
  {
   "cell_type": "code",
   "execution_count": 45,
   "id": "08e432cf-449c-4904-8133-22a2a00f831e",
   "metadata": {},
   "outputs": [
    {
     "name": "stdin",
     "output_type": "stream",
     "text": [
      "Enter one character c\n"
     ]
    },
    {
     "name": "stdout",
     "output_type": "stream",
     "text": [
      "given is lowercase character\n"
     ]
    }
   ],
   "source": [
    "char = input(\"Enter one character\")\n",
    "if len(char) > 1:\n",
    "    print(\"Invalid character, enter only one letter\")\n",
    "elif char == char.upper():\n",
    "    print(\"Given is uppercase character\")\n",
    "elif char == char.lower():\n",
    "    print(\"given is lowercase character\")\n",
    "else:\n",
    "    print(\"given is special character\")"
   ]
  },
  {
   "cell_type": "markdown",
   "id": "ad1e915e-265d-4882-99cd-a0e49a1c7231",
   "metadata": {},
   "source": [
    "### 18.Write a Python program to determine the roots of a quadratic equation using if-else."
   ]
  },
  {
   "cell_type": "code",
   "execution_count": 36,
   "id": "7ba33c40-5b78-4ef6-ba73-db55d9e3bad7",
   "metadata": {},
   "outputs": [],
   "source": [
    "import math \n",
    "def equationroots( a, b, c): \n",
    "    dis = b * b - 4 * a * c \n",
    "    sqrt_val = math.sqrt(abs(dis)) \n",
    "    # checking condition for discriminant\n",
    "    if dis > 0: \n",
    "        print(\"real and different roots\") \n",
    "        print((-b + sqrt_val)/(2 * a)) \n",
    "        print((-b - sqrt_val)/(2 * a)) \n",
    "     \n",
    "    elif dis == 0: \n",
    "        print(\"real and same roots\") \n",
    "        print(-b / (2 * a)) \n",
    "     \n",
    "    # when discriminant is less than 0\n",
    "    else:\n",
    "        print(\"Complex Roots\") \n",
    "        print(- b / (2 * a), + i, sqrt_val) \n",
    "        print(- b / (2 * a), - i, sqrt_val) "
   ]
  },
  {
   "cell_type": "code",
   "execution_count": 37,
   "id": "95251be5-88e4-4c51-a95c-8b1a2d3c1fb6",
   "metadata": {},
   "outputs": [
    {
     "name": "stdout",
     "output_type": "stream",
     "text": [
      "real and different roots\n",
      "2.0\n",
      "-12.0\n"
     ]
    }
   ],
   "source": [
    "a = 1\n",
    "b = 10\n",
    "c = -24\n",
    "\n",
    "if a == 0: \n",
    "        print(\"Input correct quadratic equation\") \n",
    "else:\n",
    "    equationroots(a, b, c)"
   ]
  },
  {
   "cell_type": "markdown",
   "id": "a4777864-4311-416e-9c89-70a31ecaa4a9",
   "metadata": {},
   "source": [
    "### 19.Create a Python program that checks if a given year is a century year or not using if-else."
   ]
  },
  {
   "cell_type": "code",
   "execution_count": 48,
   "id": "b268d85e-34f6-42b4-a992-1d6b4a2f8029",
   "metadata": {},
   "outputs": [
    {
     "name": "stdin",
     "output_type": "stream",
     "text": [
      "Enter year 2000\n"
     ]
    },
    {
     "name": "stdout",
     "output_type": "stream",
     "text": [
      "Century year\n"
     ]
    }
   ],
   "source": [
    "year = int(input(\"Enter year\"))\n",
    "if year % 100 == 0:\n",
    "    print(\"Century year\")\n",
    "else:\n",
    "    print(\"It is not centuary year\")"
   ]
  },
  {
   "cell_type": "markdown",
   "id": "bfe9d0e8-e822-4037-aaae-4b6b21007ba6",
   "metadata": {},
   "source": [
    "### 20.Write a Python program to determine if a given number is a perfect square using if-else."
   ]
  },
  {
   "cell_type": "code",
   "execution_count": 2,
   "id": "981e8520-df7b-4a37-b17a-6ec624907ec5",
   "metadata": {},
   "outputs": [
    {
     "name": "stdin",
     "output_type": "stream",
     "text": [
      "Enter any number to find perfect square or not 5\n"
     ]
    },
    {
     "name": "stdout",
     "output_type": "stream",
     "text": [
      "Not perfect square\n"
     ]
    }
   ],
   "source": [
    "number = int(input(\"Enter any number to find perfect square or not\"))\n",
    "cont = True\n",
    "for i in range(2,number): \n",
    "    if i * i == number:\n",
    "        print(\"Perfect Square\")\n",
    "        break\n",
    "    elif i * i > number :\n",
    "        print(\"Not perfect square\")\n",
    "        break\n",
    "else:\n",
    "    print(\"Not perfect square\")            "
   ]
  },
  {
   "cell_type": "markdown",
   "id": "e8cb2a37-28d9-41fb-8787-646199fff65a",
   "metadata": {},
   "source": [
    "### 21 .Explain the purpose of the \"continue\" and \"break\" statements within if-else loops."
   ]
  },
  {
   "cell_type": "raw",
   "id": "52501ccc-0918-4325-95e2-020e2ce785a7",
   "metadata": {},
   "source": [
    "continue - when condition are met, skip and iteration can go on executing\n",
    "break - when conditions are met, exit from loop and stop further execution inside loop and else condition for for loop will not execute"
   ]
  },
  {
   "cell_type": "code",
   "execution_count": 13,
   "id": "5e8bd522-51b5-4c0f-90ef-289cec5b426b",
   "metadata": {},
   "outputs": [
    {
     "name": "stdout",
     "output_type": "stream",
     "text": [
      "1\n",
      "2\n",
      "3\n",
      "4\n",
      "6\n",
      "7\n",
      "8\n",
      "9\n",
      "10\n",
      "11\n",
      "12\n",
      "13\n",
      "14\n",
      "15\n",
      "16\n",
      "17\n",
      "18\n",
      "19\n",
      "20\n",
      "Overall execution is closed\n"
     ]
    }
   ],
   "source": [
    "# when value reached 5 skip and continue to increament and when value reached 20 exit from loop\n",
    "\n",
    "for i in range(1,30):\n",
    "    if i == 5:\n",
    "        continue\n",
    "    elif i >20:\n",
    "        break\n",
    "    else:\n",
    "        print(i)\n",
    "else:\n",
    "    print(\"Loop is exit from execution\")\n",
    "print(\"Overall execution is closed\")"
   ]
  },
  {
   "cell_type": "markdown",
   "id": "9b0f49ef-4c1e-419d-95e4-59581b3b797d",
   "metadata": {},
   "source": [
    "### 22. Create a Python program that calculates the BMI (Body Mass Index) of a person based on their weight and height using if-else."
   ]
  },
  {
   "cell_type": "code",
   "execution_count": 15,
   "id": "84db2645-6c8b-460f-9bb7-9dbe42d82f8a",
   "metadata": {},
   "outputs": [
    {
     "name": "stdin",
     "output_type": "stream",
     "text": [
      "Enter weight in Kgs 53\n",
      "Enter height in CMs 156\n"
     ]
    },
    {
     "name": "stdout",
     "output_type": "stream",
     "text": [
      "Normal weight, no worries\n"
     ]
    }
   ],
   "source": [
    "weight = int(input(\"Enter weight in Kgs\"))\n",
    "height = int(input(\"Enter height in CMs\"))\n",
    "height_m = height / 100\n",
    "\n",
    "def calc_bmi(weight,height):\n",
    "    bmi = weight / (height_m ** 2)\n",
    "    return bmi\n",
    "\n",
    "bmi = calc_bmi(weight,height_m)\n",
    "\n",
    "if bmi < 16:\n",
    "    print(\"Eat well, severe thickness\")\n",
    "elif bmi >= 16 and bmi <=25:\n",
    "    print(\"Normal weight, no worries\")\n",
    "elif bmi > 25 and bmi <=30:\n",
    "    print(\"Over weight, reduce your food intake and do exercise\")\n",
    "else:\n",
    "    print(\"You are obese, try to follow strict diet and exercise\")"
   ]
  },
  {
   "cell_type": "markdown",
   "id": "0260d6ac-0b20-4f42-aab8-ee5cba167766",
   "metadata": {},
   "source": [
    "### 23.How can you use the \"filter()\" function with if-else statements to filter elements from a list?"
   ]
  },
  {
   "cell_type": "code",
   "execution_count": 28,
   "id": "52751551-c65e-480f-97a8-0cef628fa710",
   "metadata": {},
   "outputs": [
    {
     "data": {
      "text/plain": [
       "[2, 4, 6, 8, 10]"
      ]
     },
     "execution_count": 28,
     "metadata": {},
     "output_type": "execute_result"
    }
   ],
   "source": [
    "l = [1,2,3,4,5,6,7,8,9,10]\n",
    "\n",
    "list(filter( lambda x : x if(x % 2 == 0) else None, l))"
   ]
  },
  {
   "cell_type": "markdown",
   "id": "2b517553-0d8a-422d-b84d-6288b8142d82",
   "metadata": {},
   "source": [
    "### 24.Write a Python program to determine if a given number is prime or not using if-else."
   ]
  },
  {
   "cell_type": "code",
   "execution_count": 20,
   "id": "b2f9f410-cebf-4665-b238-4c617babd0a2",
   "metadata": {},
   "outputs": [
    {
     "name": "stdin",
     "output_type": "stream",
     "text": [
      "Enter any number 7\n"
     ]
    },
    {
     "name": "stdout",
     "output_type": "stream",
     "text": [
      "Number is prime\n"
     ]
    }
   ],
   "source": [
    "num = int(input(\"Enter any number\"))\n",
    "\n",
    "for i in range(2,num):\n",
    "    if num % i == 0:\n",
    "        print(\"Number is not prime\")\n",
    "        break\n",
    "else:\n",
    "    print(\"Number is prime\")"
   ]
  },
  {
   "cell_type": "markdown",
   "id": "ba159bda-771f-4c68-81d8-459d3693da23",
   "metadata": {},
   "source": [
    "## MAP"
   ]
  },
  {
   "cell_type": "markdown",
   "id": "65cb2e70-8568-4e69-956c-d06a2687d618",
   "metadata": {},
   "source": [
    "### 1. Explain the purpose of the `map()` function in Python and provide an example of how it can be used to apply a function to each element of an iterable."
   ]
  },
  {
   "cell_type": "raw",
   "id": "1e2c12d9-5f40-4728-8dd5-8c9cd6d6164e",
   "metadata": {},
   "source": [
    "map - apply same set of logic to verey element in list\n",
    "for example I want to convert all elements into upper from list"
   ]
  },
  {
   "cell_type": "code",
   "execution_count": 40,
   "id": "d32c4278-1a82-4b92-b95f-3a20a51dfd7f",
   "metadata": {},
   "outputs": [
    {
     "name": "stdout",
     "output_type": "stream",
     "text": [
      "into Upper words are  ['PYTHON', 'STATS', 'ML', 'GENERATIVE AI']\n"
     ]
    }
   ],
   "source": [
    "l_words = ['python','stats','ML','generative AI']\n",
    "\n",
    "upper_words = list(map(lambda x : x.upper(),l_words))\n",
    "print(\"into Upper words are \",upper_words)"
   ]
  },
  {
   "cell_type": "markdown",
   "id": "3e622258-0ffe-4b52-8313-d0df9e77b0d4",
   "metadata": {},
   "source": [
    "### 2. Write a Python program that uses the `map()` function to square each element of a list of numbers."
   ]
  },
  {
   "cell_type": "code",
   "execution_count": 2,
   "id": "74165b05-a6a9-4507-95a3-9bb5ca4ddc61",
   "metadata": {},
   "outputs": [
    {
     "name": "stdout",
     "output_type": "stream",
     "text": [
      "Square of each element is  [1, 4, 9, 16, 25, 36]\n"
     ]
    }
   ],
   "source": [
    "l = [1,2,3,4,5,6]\n",
    "square_element = list(map( lambda i: i**2, l ))\n",
    "print(\"Square of each element is \",square_element)"
   ]
  },
  {
   "cell_type": "markdown",
   "id": "0c208f6f-952b-424c-b162-b232e6a14a38",
   "metadata": {},
   "source": [
    "### 3.How does the `map()` function differ from a list comprehension in Python, and when would you choose one over the other?"
   ]
  },
  {
   "cell_type": "raw",
   "id": "c205992e-7564-4b8c-a938-8c33f8ce4dbb",
   "metadata": {},
   "source": [
    "list comprehension is substitute for map but list comprehension can add condition whereas map cannot add condition, same logic to every element of list\n",
    "map generate map iterable object we need to loop again to extract element or assign to list whereas list comprehension gives as list as output"
   ]
  },
  {
   "cell_type": "raw",
   "id": "fdf9a5d7-93f6-4ddd-abf1-2b4f19f2c105",
   "metadata": {},
   "source": [
    "list comprehension is chosen than map due to additional functionalities list add condition, get out in list than iterable object\n",
    "code is simple in list comprehension whereas in map either we need to use created function or lambda function\n"
   ]
  },
  {
   "cell_type": "markdown",
   "id": "bdaaebcd-1e95-48ed-a55a-5b79f8f0598f",
   "metadata": {},
   "source": [
    "### 4.Create a Python program that uses the `map()` function to convert a list of names to uppercase."
   ]
  },
  {
   "cell_type": "code",
   "execution_count": 4,
   "id": "e2f243d5-5f0e-4ae1-8c74-ed6233c88bce",
   "metadata": {},
   "outputs": [
    {
     "name": "stdout",
     "output_type": "stream",
     "text": [
      "Converted into upppercase  ['PYTHON', 'MACHINE LEARNING', 'MLOPS']\n"
     ]
    }
   ],
   "source": [
    "names = ['python','machine learning','MLoPs']\n",
    "\n",
    "names_up = list(map(lambda i : i.upper(),names))\n",
    "print(\"Converted into upppercase \",names_up)"
   ]
  },
  {
   "cell_type": "markdown",
   "id": "6aca3fb9-f2ce-4b93-9603-60af2ea25784",
   "metadata": {},
   "source": [
    "### 5.Write a Python program that uses the `map()` function to calculate the length of each word in a list of strings."
   ]
  },
  {
   "cell_type": "code",
   "execution_count": 5,
   "id": "93634022-d904-4355-9eb8-9bf8499ecd04",
   "metadata": {},
   "outputs": [
    {
     "name": "stdin",
     "output_type": "stream",
     "text": [
      "enter something python is basic language for DS\n"
     ]
    },
    {
     "name": "stdout",
     "output_type": "stream",
     "text": [
      "length of ['python', 'is', 'basic', 'language', 'for', 'DS'] is [6, 2, 5, 8, 3, 2]\n"
     ]
    }
   ],
   "source": [
    "mystr = input(\"enter something\")\n",
    "mystr_list = mystr.split(' ')\n",
    "\n",
    "len_element = list(map( lambda a : len(a),mystr_list))\n",
    "print(f\"length of {mystr_list} is {len_element}\")"
   ]
  },
  {
   "cell_type": "markdown",
   "id": "584fa184-512a-4a90-9718-deac38230cc8",
   "metadata": {},
   "source": [
    "### 6.How can you use the `map()` function to apply a custom function to elements of multiple lists simultaneously in Python?"
   ]
  },
  {
   "cell_type": "code",
   "execution_count": 12,
   "id": "b610958a-6945-47be-8539-de2439123726",
   "metadata": {},
   "outputs": [],
   "source": [
    "def mutiply_5(x): # function takes one number as input and multiply with 5 \n",
    "    return x * 5\n"
   ]
  },
  {
   "cell_type": "code",
   "execution_count": 15,
   "id": "f98a4593-678f-4d29-b4c6-d5ce36d8a30d",
   "metadata": {},
   "outputs": [
    {
     "name": "stdout",
     "output_type": "stream",
     "text": [
      "list becomes [5, 10, 15, 20] after multiplied with 5\n",
      "list2 becomes [25, 30, 35, 40, 45] after multiplied with 5\n",
      "list3 becomes [55, 110, 165, 220, 275, 330, 385, 440, 495] after multiplied with 5\n"
     ]
    }
   ],
   "source": [
    "l = [1,2,3,4]\n",
    "l2 = [5,6,7,8,9]\n",
    "l3 = [11,22,33,44,55,66,77,88,99]\n",
    "\n",
    "list_multiply_5 = list(map(mutiply_5,l))\n",
    "print(f\"list becomes {list_multiply_5} after multiplied with 5\")\n",
    "\n",
    "list_multiply_5 = list(map(mutiply_5, l2))\n",
    "print(f\"list2 becomes {list_multiply_5} after multiplied with 5\")\n",
    "\n",
    "list_multiply_5 = list(map(mutiply_5, l3))\n",
    "print(f\"list3 becomes {list_multiply_5} after multiplied with 5\")"
   ]
  },
  {
   "cell_type": "markdown",
   "id": "3d495add-55e3-492f-8703-c02d78add883",
   "metadata": {},
   "source": [
    "### 7.Create a Python program that uses `map()` to convert a list of temperatures from Celsius to Fahrenheit."
   ]
  },
  {
   "cell_type": "code",
   "execution_count": 16,
   "id": "cd486ff0-87dd-42ba-9e67-b4299128f7f8",
   "metadata": {},
   "outputs": [],
   "source": [
    "def ctof(x):\n",
    "    return (x*9/5)+32"
   ]
  },
  {
   "cell_type": "code",
   "execution_count": 18,
   "id": "2bd31b75-6431-47c0-9260-c0f98c426586",
   "metadata": {},
   "outputs": [
    {
     "name": "stdout",
     "output_type": "stream",
     "text": [
      "Temprature converted into Farenheit  [86.0, 118.4, 53.6, 194.0, 188.6]\n"
     ]
    }
   ],
   "source": [
    "list_celsius = [30,48,12,90,87]\n",
    "list_farenheit = list(map(ctof,list_celsius))\n",
    "print(\"Temprature converted into Farenheit \",list_farenheit)"
   ]
  },
  {
   "cell_type": "markdown",
   "id": "2366e39b-4042-4c8a-9642-c23d0f138b0c",
   "metadata": {},
   "source": [
    "### 8.Write a Python program that uses the `map()` function to round each element of a list of floating-point numbers to the nearest integer."
   ]
  },
  {
   "cell_type": "code",
   "execution_count": 19,
   "id": "1b6bb034-e9f9-4b7a-b05a-69f888a4c864",
   "metadata": {},
   "outputs": [
    {
     "name": "stdout",
     "output_type": "stream",
     "text": [
      "List which has floting value  [86.0, 118.4, 53.6, 194.0, 188.6]\n"
     ]
    }
   ],
   "source": [
    "print(\"List which has floting value \",list_farenheit)"
   ]
  },
  {
   "cell_type": "code",
   "execution_count": 20,
   "id": "6d8e1881-72f6-4b25-b1a3-73917afb0757",
   "metadata": {},
   "outputs": [
    {
     "name": "stdout",
     "output_type": "stream",
     "text": [
      "After round off to higher value  [86, 119, 54, 194, 189]\n"
     ]
    }
   ],
   "source": [
    "import math\n",
    "roundoff_list = list(map(lambda x : math.ceil(x),list_farenheit))\n",
    "print(\"After round off to higher value \",roundoff_list)"
   ]
  },
  {
   "cell_type": "markdown",
   "id": "65802dfb-ff2f-4e18-b1eb-f8fa96cce828",
   "metadata": {},
   "source": [
    "## Reduce"
   ]
  },
  {
   "cell_type": "markdown",
   "id": "a2a97a65-f297-4c8a-ab30-ab3ffb7f93e6",
   "metadata": {},
   "source": [
    "### 1.What is the `reduce()` function in Python, and what module should you import to use it? Provide an example of its basic usage."
   ]
  },
  {
   "cell_type": "markdown",
   "id": "c824f35c-f924-4af2-b9d9-398d8a365ea6",
   "metadata": {},
   "source": [
    "Reduce is built in function that applied given function to elements of iterable and obtain single value as result\n",
    "\n",
    "Reduce cannot used directly, it has to be import from functool library syntax is:\n",
    "from functools import reduce"
   ]
  },
  {
   "cell_type": "markdown",
   "id": "00571754-d24a-4e55-98fe-abd984e12d85",
   "metadata": {},
   "source": [
    "### 2.Write a Python program that uses the `reduce()` function to find the product of all elements in a list."
   ]
  },
  {
   "cell_type": "code",
   "execution_count": 30,
   "id": "f615f53a-035d-4016-bf92-34d5dfdc1a98",
   "metadata": {},
   "outputs": [
    {
     "name": "stdout",
     "output_type": "stream",
     "text": [
      "Product of list of values is  3840\n"
     ]
    }
   ],
   "source": [
    "product_list = [2,4,6,8,10]\n",
    "val = (ft.reduce(lambda x,y: x*y,product_list))\n",
    "print('Product of list of values is ',val)"
   ]
  },
  {
   "cell_type": "markdown",
   "id": "158491bb-3fd2-49e3-a4d8-af833fd8358a",
   "metadata": {},
   "source": [
    "### 3.Create a Python program that uses `reduce()` to find the maximum element in a list of numbers."
   ]
  },
  {
   "cell_type": "code",
   "execution_count": 32,
   "id": "813e2cf3-d33f-420c-acb8-24efa674e1a2",
   "metadata": {},
   "outputs": [
    {
     "name": "stdout",
     "output_type": "stream",
     "text": [
      "Maximum in list is  789\n"
     ]
    }
   ],
   "source": [
    "max_list = [2,3,4,5,1,7,8,90,4,5,6,789,3]\n",
    "max_no = ft.reduce(lambda x,y: max(x,y),max_list)\n",
    "print(\"Maximum in list is \",max_no)"
   ]
  },
  {
   "cell_type": "markdown",
   "id": "3d5fc1d8-7b55-4167-98dc-dc5f4d142875",
   "metadata": {},
   "source": [
    "### 4.How can you use the `reduce()` function to concatenate a list of strings into a single string?"
   ]
  },
  {
   "cell_type": "code",
   "execution_count": 33,
   "id": "b246642a-2e07-42c8-ad42-f59be6feecf9",
   "metadata": {},
   "outputs": [
    {
     "name": "stdout",
     "output_type": "stream",
     "text": [
      "into single string ds python ml cv\n"
     ]
    }
   ],
   "source": [
    "l_str = ['ds','python','ml','cv']\n",
    "join_str = ft.reduce(lambda x,y: x+ ' ' +y,l_str)\n",
    "print('into single string',join_str)"
   ]
  },
  {
   "cell_type": "markdown",
   "id": "72bc4c30-e09e-451b-90dc-9c2867d256d2",
   "metadata": {},
   "source": [
    "### 5.Write a Python program that calculates the factorial of a number using the `reduce()` function."
   ]
  },
  {
   "cell_type": "code",
   "execution_count": 12,
   "id": "0acc29b7-26e8-470e-826f-7d54f4c1aa84",
   "metadata": {},
   "outputs": [
    {
     "name": "stdin",
     "output_type": "stream",
     "text": [
      "Enter any number to get factorial 6\n"
     ]
    },
    {
     "data": {
      "text/plain": [
       "120"
      ]
     },
     "execution_count": 12,
     "metadata": {},
     "output_type": "execute_result"
    }
   ],
   "source": [
    "n = int(input(\"Enter any number to get factorial\"))\n",
    "l = range(1,n)\n",
    "fact = ft.reduce(lambda x,y : x*y,l) \n",
    "print(\"Factorial of given number \",fact)"
   ]
  },
  {
   "cell_type": "markdown",
   "id": "f19fd50d-84ff-4f3f-a9c5-56aaeede2e36",
   "metadata": {},
   "source": [
    "### 6.Create a Python program that uses `reduce()` to find the GCD (Greatest Common Divisor) of a list of numbers."
   ]
  },
  {
   "cell_type": "code",
   "execution_count": 36,
   "id": "5c0da5ed-7ee2-4c6d-ad31-1c221a6f4d54",
   "metadata": {},
   "outputs": [],
   "source": [
    "from math import gcd"
   ]
  },
  {
   "cell_type": "code",
   "execution_count": 41,
   "id": "86b4a0b0-16de-4680-a2dd-49d33a6a69dd",
   "metadata": {},
   "outputs": [
    {
     "name": "stdout",
     "output_type": "stream",
     "text": [
      "GCD no is 16\n"
     ]
    }
   ],
   "source": [
    "l_nos = [48,80]\n",
    "gcd_no = ft.reduce(gcd,l_nos)\n",
    "print(\"GCD no is\",gcd_no)"
   ]
  },
  {
   "cell_type": "markdown",
   "id": "bc1dc87f-738d-4abd-8486-464aba7d1835",
   "metadata": {},
   "source": [
    "### 7.Write a Python program that uses the `reduce()` function to find the sum of the digits of a given number."
   ]
  },
  {
   "cell_type": "code",
   "execution_count": 53,
   "id": "d770e943-f1c4-41e2-9a24-e3d7670cbf07",
   "metadata": {},
   "outputs": [
    {
     "name": "stdin",
     "output_type": "stream",
     "text": [
      "Enter any number 5587\n"
     ]
    },
    {
     "name": "stdout",
     "output_type": "stream",
     "text": [
      "25\n"
     ]
    }
   ],
   "source": [
    "l_sum = []\n",
    "n = int(input(\"Enter any number\"))\n",
    "x = 1\n",
    "while x != 0:\n",
    "    if n > 0:\n",
    "        l_sum.append(n%10)\n",
    "        n = int(n/10)\n",
    "    else:\n",
    "        x = 0\n",
    "\n",
    "sum_nos = ft.reduce(lambda x,y : x + y,l_sum)\n",
    "print(sum_nos)"
   ]
  },
  {
   "cell_type": "code",
   "execution_count": 46,
   "id": "619f4401-5dd5-4735-a43d-6bd15782dc65",
   "metadata": {},
   "outputs": [
    {
     "data": {
      "text/plain": [
       "6"
      ]
     },
     "execution_count": 46,
     "metadata": {},
     "output_type": "execute_result"
    }
   ],
   "source": [
    "687 % 10\n",
    "int(68/10)"
   ]
  },
  {
   "cell_type": "markdown",
   "id": "4c553824-707c-4dda-ac22-f4cd510a572a",
   "metadata": {},
   "source": [
    "## Filter"
   ]
  },
  {
   "cell_type": "markdown",
   "id": "40de9242-f6ec-4d92-9a81-17bd2b799497",
   "metadata": {},
   "source": [
    "### 1.Explain the purpose of the `filter()` function in Python and provide an example of how it can be used to filter elements from an iterable."
   ]
  },
  {
   "cell_type": "raw",
   "id": "f328c53c-05f0-4012-8a20-f672d90ce2ec",
   "metadata": {},
   "source": [
    "Filter is used to filter elements from list based on certain condition\n",
    "consider I have list of 200 values, get only even numbers, then filter can be used"
   ]
  },
  {
   "cell_type": "code",
   "execution_count": 38,
   "id": "e8adff48-452d-418c-aab4-027375560dae",
   "metadata": {},
   "outputs": [
    {
     "name": "stdout",
     "output_type": "stream",
     "text": [
      "Filtered list of even numbers are [2, 4, 6, 8, 10, 12, 14, 16, 18, 20, 22, 24, 26, 28, 30, 32, 34, 36, 38, 40, 42, 44, 46, 48, 50, 52, 54, 56, 58, 60, 62, 64, 66, 68, 70, 72, 74, 76, 78, 80, 82, 84, 86, 88, 90, 92, 94, 96, 98, 100, 102, 104, 106, 108, 110, 112, 114, 116, 118, 120, 122, 124, 126, 128, 130, 132, 134, 136, 138, 140, 142, 144, 146, 148, 150, 152, 154, 156, 158, 160, 162, 164, 166, 168, 170, 172, 174, 176, 178, 180, 182, 184, 186, 188, 190, 192, 194, 196, 198, 200]\n"
     ]
    }
   ],
   "source": [
    "num_l = range(1,201)\n",
    "\n",
    "even_l = list(filter(lambda x: x % 2 == 0, num_l))\n",
    "print(\"Filtered list of even numbers are\",even_l)"
   ]
  },
  {
   "cell_type": "markdown",
   "id": "5b031028-bcfd-4167-923c-e1cd5fd940b9",
   "metadata": {},
   "source": [
    "### 2.Write a Python program that uses the `filter()` function to select even numbers from a list of integers."
   ]
  },
  {
   "cell_type": "code",
   "execution_count": 1,
   "id": "27a7bb3b-9c44-4576-b56d-60ed9c57034c",
   "metadata": {},
   "outputs": [
    {
     "name": "stdout",
     "output_type": "stream",
     "text": [
      "[2, 4, 6, 8, 90, 34, 12]\n"
     ]
    }
   ],
   "source": [
    "all_nos = [1,2,3,4,5,6,7,8,90,34,23,12]\n",
    "\n",
    "even_nos = list(filter(lambda x : x % 2 == 0, all_nos))\n",
    "print(even_nos)"
   ]
  },
  {
   "cell_type": "markdown",
   "id": "d894fe1e-0c0b-421b-be6f-4a24d43a556d",
   "metadata": {},
   "source": [
    "### 3.Create a Python program that uses the `filter()` function to select names that start with a specific letter from a list of strings."
   ]
  },
  {
   "cell_type": "code",
   "execution_count": 2,
   "id": "bb60b262-0db6-46e0-9620-7c298ddfb303",
   "metadata": {},
   "outputs": [
    {
     "name": "stdout",
     "output_type": "stream",
     "text": [
      "Words started with A ['Apple', 'Antartica', 'Alligator']\n"
     ]
    }
   ],
   "source": [
    "start_letter = 'A'\n",
    "words_list = ['Apple','Ball','Cat','Antartica','Alligator','Building','Thunder']\n",
    "\n",
    "filter_words = list(filter(lambda x : x.lower().startswith(start_letter.lower()),words_list))\n",
    "print('Words started with A',filter_words)\n",
    "                      "
   ]
  },
  {
   "cell_type": "markdown",
   "id": "cc507dd8-140a-4a2d-840c-5a6521b3839c",
   "metadata": {},
   "source": [
    "### 4.Write a Python program that uses the `filter()` function to select prime numbers from a list of integers"
   ]
  },
  {
   "cell_type": "code",
   "execution_count": 23,
   "id": "567941b2-829a-4837-8fc5-a5fb3b5b8afa",
   "metadata": {},
   "outputs": [],
   "source": [
    "def isPrime(x):\n",
    "    if x < 3:\n",
    "        return False\n",
    "    for i in range(2,x):\n",
    "        if x % i == 0:\n",
    "            return False\n",
    "    else:\n",
    "        return True"
   ]
  },
  {
   "cell_type": "code",
   "execution_count": 25,
   "id": "e0fbe588-748e-4bd8-afd3-1cfb4c69ff72",
   "metadata": {},
   "outputs": [
    {
     "name": "stdout",
     "output_type": "stream",
     "text": [
      "List of filtered prime nos are  [3, 5, 7, 11, 19, 67]\n"
     ]
    }
   ],
   "source": [
    "nos_list = [2,4,1,3,5,7,4,34,56,11,19,15,78,67]\n",
    "\n",
    "prime_list = list(filter( isPrime, nos_list))\n",
    "print(\"List of filtered prime nos are \",prime_list)"
   ]
  },
  {
   "cell_type": "markdown",
   "id": "5aec4d8d-064e-4a9a-ae99-b240bb494d37",
   "metadata": {},
   "source": [
    "### 5.How can you use the `filter()` function to remove None values from a list in Python?"
   ]
  },
  {
   "cell_type": "code",
   "execution_count": 5,
   "id": "317f7ef6-d5f5-43bd-92eb-4d43b067282c",
   "metadata": {},
   "outputs": [
    {
     "name": "stdout",
     "output_type": "stream",
     "text": [
      "None values were removed [1, 2, 3, 6, 7, 89, 'python', 'ML']\n"
     ]
    }
   ],
   "source": [
    "mylist = [1,2,3,6,7,None,89,'python',None,'ML',None]\n",
    "\n",
    "print('None values were removed', list(filter(lambda x : x != None ,mylist)))"
   ]
  },
  {
   "cell_type": "markdown",
   "id": "cb1f7878-c7da-4afc-a51b-50b63f3dd462",
   "metadata": {},
   "source": [
    "### 6. Create a Python program that uses `filter()` to select words longer than a certain length from a list of strings."
   ]
  },
  {
   "cell_type": "code",
   "execution_count": 26,
   "id": "2c9fa973-c911-4ef6-b519-d111f9888eec",
   "metadata": {},
   "outputs": [
    {
     "name": "stdin",
     "output_type": "stream",
     "text": [
      "Enter any number 10\n"
     ]
    },
    {
     "name": "stdout",
     "output_type": "stream",
     "text": [
      "Filtered words which has more than 10 letters \n",
      " ['particularly', 'journalistic']\n"
     ]
    }
   ],
   "source": [
    "filter_word = int(input(\"Enter any number\"))\n",
    "mystring = 'A paragraph is defined as “a group of sentences or a single sentence that forms a unit” (Lunsford and Connors 116). Length and appearance do not determine whether a section in a paper is a paragraph. For instance, in some styles of writing, particularly journalistic styles, a paragraph can be just one sentence long.'\n",
    "words_list = mystring.split(' ')\n",
    "\n",
    "filter_words_length = list(filter(lambda z : len(z) > filter_word,words_list))\n",
    "print(f\"Filtered words which has more than {filter_word} letters \\n\",filter_words_length)"
   ]
  },
  {
   "cell_type": "markdown",
   "id": "4eec98a9-e579-48be-82f3-3092d5980eb4",
   "metadata": {},
   "source": [
    "### 7. Write a Python program that uses the `filter()` function to select elements greater than a specified threshold from a list of values."
   ]
  },
  {
   "cell_type": "code",
   "execution_count": 10,
   "id": "5b938f28-78c3-4518-9947-56eca8f5d83f",
   "metadata": {},
   "outputs": [
    {
     "name": "stdin",
     "output_type": "stream",
     "text": [
      "Enter any number 10\n"
     ]
    },
    {
     "name": "stdout",
     "output_type": "stream",
     "text": [
      "Elements which are above 10threshold value are [56, 45, 345, 23, 12, 90, 78, 34]\n"
     ]
    }
   ],
   "source": [
    "threshold_val =  int(input(\"Enter any number\"))\n",
    "\n",
    "nos_list = [1,2,3,56,7,45,345,23,12,90,78,5,3,4,2,1,34]\n",
    "\n",
    "above_thres = list(filter( lambda x : x > threshold_val,nos_list))\n",
    "print(\"Elements which are above \"+str(threshold_val)+'threshold value are '+str(above_thres))"
   ]
  },
  {
   "cell_type": "markdown",
   "id": "697da926-44c2-4da2-834d-d3745d567beb",
   "metadata": {},
   "source": [
    "## Recursion"
   ]
  },
  {
   "cell_type": "markdown",
   "id": "732ac993-df14-4c2c-b879-0530cbd888de",
   "metadata": {},
   "source": [
    "### 1.Explain the concept of recursion in Python. How does it differ from iteration?"
   ]
  },
  {
   "cell_type": "raw",
   "id": "1f2b5c7b-da6b-4526-92f3-9f2afd93dc19",
   "metadata": {},
   "source": [
    "Recursion is concept of calling function itself in a repetitive way whereas ieration is called through loop\n",
    "time complexity is 2^n(exponential complexity) is higher than iteration complexity O(n) \n",
    "Recursion always used extra space as Stack Data Structure and iteration does not use any extra space"
   ]
  },
  {
   "cell_type": "markdown",
   "id": "dc205453-8f33-40c9-8db0-55af154d16e1",
   "metadata": {},
   "source": [
    "### 2.Write a Python program to calculate the factorial of a number using recursion."
   ]
  },
  {
   "cell_type": "code",
   "execution_count": 7,
   "id": "28eb8218-b621-46f3-a1a7-c97d32b8da7a",
   "metadata": {},
   "outputs": [],
   "source": [
    "def fact_no(n):\n",
    "    if n <= 1:\n",
    "        return 1\n",
    "    else:\n",
    "        return n * fact_no(n-1)\n"
   ]
  },
  {
   "cell_type": "code",
   "execution_count": 10,
   "id": "faedc4dd-fb4f-489b-aabd-05b533ac4089",
   "metadata": {},
   "outputs": [
    {
     "name": "stdin",
     "output_type": "stream",
     "text": [
      "Enter any number to find factorial 5\n"
     ]
    },
    {
     "name": "stdout",
     "output_type": "stream",
     "text": [
      "Factorial of no 5 is 120\n"
     ]
    }
   ],
   "source": [
    "myno = int(input(\"Enter any number to find factorial\"))\n",
    "print(\"Factorial of no %d is %d\"%(myno,fact_no(myno)))"
   ]
  },
  {
   "cell_type": "markdown",
   "id": "b6943f76-bee1-415d-b08c-ea2504e95b48",
   "metadata": {},
   "source": [
    "### 3.Create a recursive Python function to find the nth Fibonacci number."
   ]
  },
  {
   "cell_type": "code",
   "execution_count": 11,
   "id": "aa30a85b-2996-4849-9aab-67ab7a488453",
   "metadata": {},
   "outputs": [],
   "source": [
    "def fib(no):\n",
    "    if no<=1:\n",
    "        return no\n",
    "    else:\n",
    "        return fib(no-1) + fib(no-2)"
   ]
  },
  {
   "cell_type": "code",
   "execution_count": null,
   "id": "1707914a-9081-4a0a-a36c-7cf3b42499b6",
   "metadata": {},
   "outputs": [
    {
     "name": "stdin",
     "output_type": "stream",
     "text": [
      "Enter any number to find fibannocia series 100\n"
     ]
    }
   ],
   "source": [
    "myno = int(input(\"Enter any number to find fibannocia series\"))\n",
    "print(\"Factorial of no %d is %d\"%(myno,fib(myno)))"
   ]
  },
  {
   "cell_type": "markdown",
   "id": "8459c0ce-b530-4da1-afa9-e649ce17cddc",
   "metadata": {},
   "source": [
    "### 4.Write a recursive Python function to calculate the sum of all elements in a list."
   ]
  },
  {
   "cell_type": "code",
   "execution_count": 26,
   "id": "d477f421-4821-4233-978a-a86d041c2946",
   "metadata": {},
   "outputs": [],
   "source": [
    "a = [1,2,3,4,5,6,7,8,9,10]\n",
    "\n",
    "def sum_list(arr,n):\n",
    "    if n == 0:\n",
    "        return a[n]\n",
    "    else:\n",
    "        return arr[n] + sum_list(arr,n-1)"
   ]
  },
  {
   "cell_type": "code",
   "execution_count": 27,
   "id": "9f12123b-86ca-4800-9d97-e5648fd58c2c",
   "metadata": {},
   "outputs": [
    {
     "data": {
      "text/plain": [
       "55"
      ]
     },
     "execution_count": 27,
     "metadata": {},
     "output_type": "execute_result"
    }
   ],
   "source": [
    "sum_list(a,len(a)-1)"
   ]
  },
  {
   "cell_type": "markdown",
   "id": "fb15d20a-d372-4a7d-8e4b-715cbf50d219",
   "metadata": {},
   "source": [
    "### 5.How can you prevent a recursive function from running indefinitely, causing a stack overflow error?"
   ]
  },
  {
   "cell_type": "raw",
   "id": "4c7ffa7a-7392-4432-97c6-694421b21786",
   "metadata": {},
   "source": [
    "Recursive function can run indefintely as we are calling function itself leads to recursive overflow error to solve this, base condition with stop point to be declared \n",
    "for example: find factorial of number: here base condition would be when number is 1 or 0 always return 1\n",
    "if base condition is not declared then it would run indefinite times"
   ]
  },
  {
   "cell_type": "markdown",
   "id": "0bcd23b1-32a6-44b0-9309-4dcf7dbf35b5",
   "metadata": {},
   "source": [
    "### 6.Create a recursive Python function to find the greatest common divisor (GCD) of two numbers using the Euclidean algorithm."
   ]
  },
  {
   "cell_type": "code",
   "execution_count": 12,
   "id": "8daa818f-1b3e-4dbb-8328-79af81b13749",
   "metadata": {},
   "outputs": [],
   "source": [
    "def gcd(a,b):\n",
    "    if a == 0:\n",
    "        return b\n",
    "    else:\n",
    "        return gcd(b % a , a)"
   ]
  },
  {
   "cell_type": "code",
   "execution_count": 13,
   "id": "f404d9fa-01c8-4959-b880-507a57b72401",
   "metadata": {},
   "outputs": [
    {
     "name": "stdin",
     "output_type": "stream",
     "text": [
      "Enter any number 100\n",
      "Enter any number 80\n"
     ]
    },
    {
     "name": "stdout",
     "output_type": "stream",
     "text": [
      "GCD is  20\n"
     ]
    }
   ],
   "source": [
    "x = int(input(\"Enter any number\"))\n",
    "y = int(input(\"Enter any number\"))\n",
    "result = gcd(x,y)\n",
    "print(\"GCD is \",result)"
   ]
  },
  {
   "cell_type": "markdown",
   "id": "d631680e-2a0a-4650-be14-bd6050124b48",
   "metadata": {},
   "source": [
    "### 7.Write a recursive Python function to reverse a string."
   ]
  },
  {
   "cell_type": "code",
   "execution_count": 44,
   "id": "b48678e8-df31-49ad-8fdd-e35ac028cef1",
   "metadata": {},
   "outputs": [],
   "source": [
    "n = 'machine learning'\n",
    "\n",
    "def rev_str(string,pos):\n",
    "    if pos == 0:\n",
    "        return string[pos]\n",
    "    else:\n",
    "        return string[pos]+ rev_str(string,pos-1)"
   ]
  },
  {
   "cell_type": "code",
   "execution_count": 45,
   "id": "9778c4cd-05df-4a02-90d7-cc58a955182b",
   "metadata": {},
   "outputs": [
    {
     "data": {
      "text/plain": [
       "'gninrael enihcam'"
      ]
     },
     "execution_count": 45,
     "metadata": {},
     "output_type": "execute_result"
    }
   ],
   "source": [
    "rev_str(n,len(n)-1)"
   ]
  },
  {
   "cell_type": "markdown",
   "id": "f3cfcb55-d162-40a7-8eef-10ae796501cd",
   "metadata": {},
   "source": [
    "### 8.Create a recursive Python function to calculate the power of a number (x^n)."
   ]
  },
  {
   "cell_type": "code",
   "execution_count": 14,
   "id": "ce714265-0295-4bc6-9d5a-9c675352fb7b",
   "metadata": {},
   "outputs": [],
   "source": [
    "def power_n(no,power):\n",
    "    if power == 1:\n",
    "        return no\n",
    "    else:\n",
    "        return no * power_n(no,power-1)"
   ]
  },
  {
   "cell_type": "code",
   "execution_count": 15,
   "id": "b5e7a69c-3c98-413b-99f9-2678d62254ab",
   "metadata": {},
   "outputs": [
    {
     "name": "stdin",
     "output_type": "stream",
     "text": [
      "Enter any number 2\n",
      "Enter power of number 3\n"
     ]
    },
    {
     "name": "stdout",
     "output_type": "stream",
     "text": [
      "Calculation of power is  8\n"
     ]
    }
   ],
   "source": [
    "n = int(input(\"Enter any number\"))\n",
    "p = int(input(\"Enter power of number\"))\n",
    "result = power_n(n,p)\n",
    "print(\"Calculation of power is \",result)"
   ]
  },
  {
   "cell_type": "markdown",
   "id": "5b80b19c-de25-4d9b-aef5-3ed30c856ff4",
   "metadata": {},
   "source": [
    "### 9.Write a recursive Python function to find all permutations of a given string."
   ]
  },
  {
   "cell_type": "code",
   "execution_count": 18,
   "id": "cd8dcb69-e629-47c7-b677-5fccddcc256f",
   "metadata": {},
   "outputs": [],
   "source": [
    "def toString(List): \n",
    "    return ''.join(List) \n",
    "\n",
    "def permute_str(a, l, r): \n",
    "    if l == r: \n",
    "        print(toString(a)) \n",
    "    else: \n",
    "        for i in range(l, r): \n",
    "            a[l], a[i] = a[i], a[l] \n",
    "            permute_str(a, l+1, r) \n",
    "            a[l], a[i] = a[i], a[l] "
   ]
  },
  {
   "cell_type": "code",
   "execution_count": 20,
   "id": "0a39a2ed-5336-4782-8d91-e45e077780f9",
   "metadata": {},
   "outputs": [
    {
     "name": "stdout",
     "output_type": "stream",
     "text": [
      "ABC\n",
      "ACB\n",
      "BAC\n",
      "BCA\n",
      "CBA\n",
      "CAB\n"
     ]
    }
   ],
   "source": [
    "string = \"ABC\"\n",
    "n = len(string) \n",
    "a = list(string) \n",
    "  \n",
    "permute_str(a, 0, n) "
   ]
  },
  {
   "cell_type": "markdown",
   "id": "c197bb1d-d9fe-4ec0-b5f1-264301c07c65",
   "metadata": {},
   "source": [
    "### 10.Write a recursive Python function to check if a string is a palindrome."
   ]
  },
  {
   "cell_type": "code",
   "execution_count": 15,
   "id": "c7f1df1d-b84d-4f83-9ca8-7870e2b96867",
   "metadata": {},
   "outputs": [],
   "source": [
    "def palin_str(string,pos):\n",
    "    if pos == 0 :\n",
    "        return string[pos]\n",
    "    else:\n",
    "        return string[pos] + palin_str(string,pos-1)"
   ]
  },
  {
   "cell_type": "code",
   "execution_count": 17,
   "id": "5c9b7547-528f-48eb-9524-e8314fee87c1",
   "metadata": {},
   "outputs": [
    {
     "name": "stdin",
     "output_type": "stream",
     "text": [
      "enter anything to find palindrome or not test\n"
     ]
    },
    {
     "name": "stdout",
     "output_type": "stream",
     "text": [
      "it is not palindrome\n"
     ]
    }
   ],
   "source": [
    "mystr = input(\"enter anything to find palindrome or not\")\n",
    "result = palin_str(mystr.lower(),len(mystr)-1)\n",
    "if result == mystr.lower():\n",
    "    print(\"Given string is palindrome\")\n",
    "else:\n",
    "    print(\"it is not palindrome\")"
   ]
  },
  {
   "cell_type": "markdown",
   "id": "8bae0b46-9b83-45c4-8a7f-1422977b676a",
   "metadata": {},
   "source": [
    "### 11.Create a recursive Python function to generate all possible combinations of a list of elements."
   ]
  },
  {
   "cell_type": "code",
   "execution_count": 25,
   "id": "b3be0952-08c2-45d4-b228-8178eead44d0",
   "metadata": {},
   "outputs": [],
   "source": [
    "def permutations(lis):\n",
    "    if len(lis) == 1:\n",
    "        return [lis]\n",
    "\n",
    "    output = []\n",
    "    *front, last = lis\n",
    "    \n",
    "    for perm in permutations(front):\n",
    "        for i in range(len(perm) + 1):\n",
    "            new = perm[:i] + [last] + perm[i:]\n",
    "            output.append(new)\n",
    "\n",
    "    return sorted(output)"
   ]
  },
  {
   "cell_type": "code",
   "execution_count": 26,
   "id": "dd950275-44fe-45ad-b5cf-2f6088f3bdcb",
   "metadata": {},
   "outputs": [
    {
     "name": "stdout",
     "output_type": "stream",
     "text": [
      "[[1, 2, 3], [1, 3, 2], [2, 1, 3], [2, 3, 1], [3, 1, 2], [3, 2, 1]]\n"
     ]
    }
   ],
   "source": [
    "lis = [1,2,3]\n",
    "print(permutations(lis))"
   ]
  },
  {
   "cell_type": "markdown",
   "id": "a249b752-f584-42e6-9c33-096a9313fe1e",
   "metadata": {},
   "source": [
    "## Basics of Functions"
   ]
  },
  {
   "cell_type": "markdown",
   "id": "1539937a-6871-48be-8e0f-0ed532ba2a22",
   "metadata": {},
   "source": [
    "### 1.What is a function in Python, and why is it used?"
   ]
  },
  {
   "cell_type": "markdown",
   "id": "9e68379b-085e-4a91-8a46-ddcc9ddbbc0d",
   "metadata": {},
   "source": [
    "A function is block of code only runs when it is called, mainly used for code reusability\n",
    "input can be passed as parameter and output is returned "
   ]
  },
  {
   "cell_type": "markdown",
   "id": "0bbd5b56-0d45-4a1c-9a39-1e95c97cba0c",
   "metadata": {},
   "source": [
    "### 2.How do you define a function in Python? Provide an example."
   ]
  },
  {
   "cell_type": "markdown",
   "id": "50c2911b-52e6-4e2b-a95b-8c23337828d2",
   "metadata": {},
   "source": [
    "#### function can be defined using def keyword followed by parameters and in indentation, logix of function is built\n",
    "#### input example adding two numbers, function summ_nos takes two parameteres as input and return sum of two numebrs as result\n"
   ]
  },
  {
   "cell_type": "code",
   "execution_count": null,
   "id": "47bd30b5-1a37-478b-b7f7-73a29006188c",
   "metadata": {},
   "outputs": [],
   "source": [
    "def sum_nos(a,b):\n",
    "    return a+b"
   ]
  },
  {
   "cell_type": "markdown",
   "id": "9ac4a810-eba7-4684-8b67-eacaf2bdf066",
   "metadata": {},
   "source": [
    "### 3.Explain the difference between a function definition and a function call."
   ]
  },
  {
   "cell_type": "raw",
   "id": "634602f7-1fb8-4ab2-905b-78b1cd6ff499",
   "metadata": {},
   "source": [
    "function definition : it is set of code defined to execute certain task and return the result, function will not be executed when it is defined\n",
    "function call: it is actual place where function is execution with required actual parameters"
   ]
  },
  {
   "cell_type": "markdown",
   "id": "68d93e57-40ca-451f-9ffb-afd813f2efa4",
   "metadata": {},
   "source": [
    "### 4.Write a Python program that defines a function to calculate the sum of two numbers and then calls the function."
   ]
  },
  {
   "cell_type": "code",
   "execution_count": 1,
   "id": "6dfce0f6-5281-430d-b78a-7fd4e01c5cfd",
   "metadata": {},
   "outputs": [],
   "source": [
    "def sum_2nos(a,b):\n",
    "    return a+b\n"
   ]
  },
  {
   "cell_type": "code",
   "execution_count": 2,
   "id": "9b0c0e2e-b9b8-4df9-9ce0-80ded1d2524c",
   "metadata": {},
   "outputs": [
    {
     "name": "stdout",
     "output_type": "stream",
     "text": [
      "Sum of two numbers are  30\n"
     ]
    }
   ],
   "source": [
    "print('Sum of two numbers are ',sum_2nos(10,20))"
   ]
  },
  {
   "cell_type": "markdown",
   "id": "fa1fbbf8-8ab4-4a22-a6dc-1dd9293c20b5",
   "metadata": {},
   "source": [
    "### 5.What is a function signature, and what information does it typically include?"
   ]
  },
  {
   "cell_type": "markdown",
   "id": "27cb859d-ca26-48d9-b7d1-0189dc2c6f01",
   "metadata": {},
   "source": [
    "function signature given information about what type of input parameters are used and type of return data is\n",
    "signature can be imported from inspect module"
   ]
  },
  {
   "cell_type": "code",
   "execution_count": 7,
   "id": "6de6b47c-4b8c-45c2-90a3-31833db676de",
   "metadata": {},
   "outputs": [
    {
     "name": "stdout",
     "output_type": "stream",
     "text": [
      "Addition of two numbers are  30\n"
     ]
    }
   ],
   "source": [
    "def sum_no(a:int,b:float):\n",
    "    return a+b\n",
    "\n",
    "print(\"Addition of two numbers are \",sum_no(10,20))"
   ]
  },
  {
   "cell_type": "code",
   "execution_count": 8,
   "id": "8ae60b58-1e4f-4f73-810e-59fe9b6722e4",
   "metadata": {},
   "outputs": [],
   "source": [
    "from inspect import signature"
   ]
  },
  {
   "cell_type": "code",
   "execution_count": 10,
   "id": "01534bea-4cfa-4842-a006-015f6f60acc8",
   "metadata": {},
   "outputs": [
    {
     "name": "stdout",
     "output_type": "stream",
     "text": [
      "Signature is  (a: int, b: float)\n",
      "a input type is <class 'int'>\n",
      "b input type is <class 'float'>\n"
     ]
    }
   ],
   "source": [
    "print(\"Signature is \",signature(sum_no))\n",
    "print('a input type is',signature(sum_no).parameters['a'].annotation)\n",
    "print('b input type is',signature(sum_no).parameters['b'].annotation)"
   ]
  },
  {
   "cell_type": "code",
   "execution_count": null,
   "id": "1f444632-2aad-47e8-b3cb-3664861b7516",
   "metadata": {},
   "outputs": [],
   "source": []
  },
  {
   "cell_type": "markdown",
   "id": "867ffd1b-5cb8-4b2f-af19-49312bdbe5bd",
   "metadata": {},
   "source": [
    "### 6.Create a Python function that takes two arguments and returns their product."
   ]
  },
  {
   "cell_type": "code",
   "execution_count": 3,
   "id": "1905e599-8847-4cfc-9aba-845d508f3a25",
   "metadata": {},
   "outputs": [],
   "source": [
    "def product(x,y):\n",
    "    return x * y"
   ]
  },
  {
   "cell_type": "code",
   "execution_count": 4,
   "id": "aa7f6420-ec98-46db-9c18-16d1762a6491",
   "metadata": {},
   "outputs": [
    {
     "name": "stdout",
     "output_type": "stream",
     "text": [
      "Product of two arguments are 600\n"
     ]
    }
   ],
   "source": [
    "print(\"Product of two arguments are\",product(20,30))"
   ]
  },
  {
   "cell_type": "markdown",
   "id": "d2bc5a9c-85ee-4dd0-9b7c-bdad2cc604a4",
   "metadata": {},
   "source": [
    "## Function Parameters and Arguments"
   ]
  },
  {
   "cell_type": "markdown",
   "id": "980f035f-afa7-481b-8d9e-e17d1e00200b",
   "metadata": {},
   "source": [
    "### 1.Explain the concepts of formal parameters and actual arguments in Python functions."
   ]
  },
  {
   "cell_type": "markdown",
   "id": "d535d778-abcd-4b2b-87b7-563ed5196f00",
   "metadata": {},
   "source": [
    "Formal parameters: when function is defined it can have one or more parameter which is defined inside paranthesis to receive value from function call is called formal arguments\n",
    "\n",
    "Acutal parameters: The paramters which we use in function call to send value while calling the function\n"
   ]
  },
  {
   "cell_type": "code",
   "execution_count": 58,
   "id": "8ae552ea-4916-4876-a25b-5b2da199aac7",
   "metadata": {},
   "outputs": [
    {
     "data": {
      "text/plain": [
       "40"
      ]
     },
     "execution_count": 58,
     "metadata": {},
     "output_type": "execute_result"
    }
   ],
   "source": [
    "def add(x,y): # x & y are called formal parameter or argumnets\n",
    "    return x+y\n",
    "\n",
    "a =10\n",
    "b= 30\n",
    "add(a,b) # a & b are called actual parameter or argument"
   ]
  },
  {
   "cell_type": "markdown",
   "id": "c3d3915f-8c3d-4aa9-97b5-9e2ace288661",
   "metadata": {},
   "source": [
    "### 2.Write a Python program that defines a function with default argument values."
   ]
  },
  {
   "cell_type": "code",
   "execution_count": 7,
   "id": "1d11b5f0-9f63-4128-96cb-dcdbcbe3962e",
   "metadata": {},
   "outputs": [],
   "source": [
    "def multiply_nos(a=10,b=2):\n",
    "    return a * b #if a or b value not provided then default value from argument will be sent to calculate multiply \n",
    "\n"
   ]
  },
  {
   "cell_type": "code",
   "execution_count": 8,
   "id": "22457d6b-9629-4947-8e25-bb910f02b17f",
   "metadata": {},
   "outputs": [
    {
     "name": "stdout",
     "output_type": "stream",
     "text": [
      "Result with defaule value in argument 20\n"
     ]
    }
   ],
   "source": [
    "print(\"Result with defaule value in argument\",multiply_nos())"
   ]
  },
  {
   "cell_type": "markdown",
   "id": "f95409cf-b6be-4117-959c-41b4cd77a8b9",
   "metadata": {},
   "source": [
    "### 3.How do you use keyword arguments in Python function calls? Provide an example."
   ]
  },
  {
   "cell_type": "markdown",
   "id": "e7fc0089-2427-49dc-98d2-c5de1b5c3f0f",
   "metadata": {},
   "source": [
    "##### if I want to display menu and price without using dictionary object then this can be achieved using keyword argument"
   ]
  },
  {
   "cell_type": "code",
   "execution_count": 10,
   "id": "4312cc91-60de-4726-8b51-cd8fb51a78ec",
   "metadata": {},
   "outputs": [],
   "source": [
    "def menu(**kwargs):\n",
    "    for (item,price) in kwargs.items():\n",
    "        print(f\"1 piece of {item} is {price} rupees\")"
   ]
  },
  {
   "cell_type": "code",
   "execution_count": 11,
   "id": "3ff4b5bf-615f-4cb7-a379-a63ca91d1259",
   "metadata": {},
   "outputs": [
    {
     "name": "stdout",
     "output_type": "stream",
     "text": [
      "1 piece of dosa is 12 rupees\n",
      "1 piece of idly is 8 rupees\n",
      "1 piece of pongal is 15 rupees\n",
      "1 piece of vada is 6 rupees\n"
     ]
    }
   ],
   "source": [
    "menu(dosa=12,idly=8,pongal=15,vada=6)"
   ]
  },
  {
   "cell_type": "markdown",
   "id": "063595a6-98c6-478a-a3db-638b4c634c93",
   "metadata": {},
   "source": [
    "### 4.Create a Python function that accepts a variable number of arguments and calculates their sum."
   ]
  },
  {
   "cell_type": "code",
   "execution_count": 5,
   "id": "2e21545f-ab2d-45f7-94e6-1a5009038906",
   "metadata": {},
   "outputs": [],
   "source": [
    "def summofnos(*args):\n",
    "    no = 0\n",
    "    for i in args:\n",
    "        no += i\n",
    "    return no"
   ]
  },
  {
   "cell_type": "code",
   "execution_count": 6,
   "id": "b6316d19-defd-4bee-9b3e-eed6088d20df",
   "metadata": {},
   "outputs": [
    {
     "name": "stdout",
     "output_type": "stream",
     "text": [
      "Sum of numebrs is 55\n"
     ]
    }
   ],
   "source": [
    "final_result = summofnos(1,2,3,4,5,6,7,8,9,10)\n",
    "print(\"Sum of numebrs is\",final_result)"
   ]
  },
  {
   "cell_type": "markdown",
   "id": "0a251808-d3f0-4b48-a9f9-72f03859b83f",
   "metadata": {},
   "source": [
    "### 5.What is the purpose of the `*args` and `**kwargs` syntax in function parameter lists?"
   ]
  },
  {
   "cell_type": "markdown",
   "id": "49b76033-0001-4866-9beb-dcafbbe7fc6f",
   "metadata": {},
   "source": [
    "*args: is used when function is facilated to accept any number of input rather than defined arguments\n",
    "**kwargs : is used when actual arugument to be passed as key value pair "
   ]
  },
  {
   "cell_type": "code",
   "execution_count": 5,
   "id": "65386c26-3e7a-4f96-bbc1-3d244ea6d9aa",
   "metadata": {},
   "outputs": [],
   "source": [
    "def arg_print(*args): # non key formal parameter\n",
    "    for i in args:\n",
    "        print(i)\n",
    "\n",
    "def kwarg_print(**kwargs): # key - value fomal parameter\n",
    "    for (key,value) in kwargs.items():\n",
    "        print(f\"Key is {key} and value is {value}\")"
   ]
  },
  {
   "cell_type": "code",
   "execution_count": 6,
   "id": "5463a24f-4bc2-4979-b868-fa68c863e273",
   "metadata": {},
   "outputs": [
    {
     "name": "stdout",
     "output_type": "stream",
     "text": [
      "123\n",
      "python\n",
      "(28+90j)\n"
     ]
    }
   ],
   "source": [
    "arg_print(123,'python',28+90j)"
   ]
  },
  {
   "cell_type": "code",
   "execution_count": 7,
   "id": "66602790-f1ca-43c8-b8fa-130d8876e663",
   "metadata": {},
   "outputs": [
    {
     "name": "stdout",
     "output_type": "stream",
     "text": [
      "Key is fname and value is python\n",
      "Key is lname and value is machine learning\n"
     ]
    }
   ],
   "source": [
    "kwarg_print(fname='python',lname='machine learning')"
   ]
  },
  {
   "cell_type": "markdown",
   "id": "a7494255-68e9-477f-a8ed-f732c1492d35",
   "metadata": {},
   "source": [
    "## Return Values and Scoping"
   ]
  },
  {
   "cell_type": "markdown",
   "id": "4cafb34e-d82d-41e2-8c96-3636e01af851",
   "metadata": {},
   "source": [
    "### 1. Describe the role of the `return` statement in Python functions and provide examples."
   ]
  },
  {
   "cell_type": "markdown",
   "id": "d3c5d9e3-7b87-40ca-99de-c78147582980",
   "metadata": {},
   "source": [
    "Return is keyword used to return the calculated or processed value to calling place of function, for example I want to derive taxable income to deduct taxes, wrote a function to derive taxable income and returning final value to caller, so with derived income, tax amount can be measured\n",
    "Note: return type is derived based on returning value whereas print always gives NoneType "
   ]
  },
  {
   "cell_type": "markdown",
   "id": "d5175bdc-d2d3-40f5-ac64-8cf25300394b",
   "metadata": {},
   "source": [
    "### 2. Explain the concept of variable scope in Python, including local and global variables."
   ]
  },
  {
   "cell_type": "markdown",
   "id": "e36f6adf-6d3f-46ed-945d-1807283f57d7",
   "metadata": {},
   "source": [
    "Global variables are defined outside of function and can be used anywhere whereas local variable are defined inside function and it is valid only inside the function "
   ]
  },
  {
   "cell_type": "markdown",
   "id": "13a8238c-b940-4820-a870-5d161cfe8737",
   "metadata": {},
   "source": [
    "### 3.Write a Python program that demonstrates the use of global variables within functions."
   ]
  },
  {
   "cell_type": "code",
   "execution_count": 56,
   "id": "f17399a7-b636-444d-8b3f-d7a345588358",
   "metadata": {},
   "outputs": [],
   "source": [
    "txt = 'welcome' # this is global varibale, can be used inside function directly\n",
    "\n",
    "def greet(userName):\n",
    "    return txt +\" \"+userName"
   ]
  },
  {
   "cell_type": "code",
   "execution_count": 57,
   "id": "51a45d7a-3a2c-4a12-95df-d844821938ef",
   "metadata": {},
   "outputs": [
    {
     "data": {
      "text/plain": [
       "'welcome Python'"
      ]
     },
     "execution_count": 57,
     "metadata": {},
     "output_type": "execute_result"
    }
   ],
   "source": [
    "greet('Python')"
   ]
  },
  {
   "cell_type": "markdown",
   "id": "d8cfe28f-c8ea-4d91-817f-5fdb0d0f94b8",
   "metadata": {},
   "source": [
    "### 4.Create a Python function that calculates the factorial of a number and returns it."
   ]
  },
  {
   "cell_type": "code",
   "execution_count": 13,
   "id": "3ecb7161-3a16-4f42-b43c-a29217946dce",
   "metadata": {},
   "outputs": [],
   "source": [
    "def get_fact(no):\n",
    "    fact = 1\n",
    "    for i in range(1,no+1):\n",
    "        fact *= i\n",
    "    return fact"
   ]
  },
  {
   "cell_type": "code",
   "execution_count": 14,
   "id": "b641db4d-cacf-4444-8a81-9b51f9ffe640",
   "metadata": {},
   "outputs": [
    {
     "data": {
      "text/plain": [
       "120"
      ]
     },
     "execution_count": 14,
     "metadata": {},
     "output_type": "execute_result"
    }
   ],
   "source": [
    "get_fact(5)"
   ]
  },
  {
   "cell_type": "markdown",
   "id": "bc54505f-3132-4271-b455-e44e13df8d02",
   "metadata": {},
   "source": [
    "### 5.How can you access variables defined outside a function from within the function?"
   ]
  },
  {
   "cell_type": "code",
   "execution_count": 48,
   "id": "464c9014-9b22-4002-8b44-c4eeb973131d",
   "metadata": {},
   "outputs": [],
   "source": [
    "a = 10\n",
    "\n",
    "def check(b):\n",
    "    return a + b"
   ]
  },
  {
   "cell_type": "code",
   "execution_count": 49,
   "id": "e6c83008-30f2-4bfb-ba93-ce85924eb0b7",
   "metadata": {},
   "outputs": [
    {
     "data": {
      "text/plain": [
       "20"
      ]
     },
     "execution_count": 49,
     "metadata": {},
     "output_type": "execute_result"
    }
   ],
   "source": [
    "check(10)"
   ]
  },
  {
   "cell_type": "markdown",
   "id": "8dc7c4a3-7097-4ec6-bae8-0118b4f0af33",
   "metadata": {},
   "source": [
    "## Lambda Functions and Higher-Order Functions"
   ]
  },
  {
   "cell_type": "markdown",
   "id": "7a330779-2a17-4808-8bb6-b416c3ed72ce",
   "metadata": {},
   "source": [
    "### 1.What are lambda functions in Python, and when are they typically used?"
   ]
  },
  {
   "cell_type": "markdown",
   "id": "d17df889-a9ce-4d98-9d1a-2e4acd24f57b",
   "metadata": {},
   "source": [
    "Lambda function are simple user defined function name are referred as anonymous functions\n",
    "lambda argument(s) : expression\n",
    "lambda function does not have any return, as by default it only returns value"
   ]
  },
  {
   "cell_type": "markdown",
   "id": "4131fe5b-2f8a-4617-965c-af7f31a894dc",
   "metadata": {},
   "source": [
    "### 2.Write a Python program that uses lambda functions to sort a list of tuples based on the second element."
   ]
  },
  {
   "cell_type": "code",
   "execution_count": 43,
   "id": "e361ddd0-21f7-4066-85df-4a8531ebe968",
   "metadata": {},
   "outputs": [
    {
     "name": "stdout",
     "output_type": "stream",
     "text": [
      "Sorted value are  [(7, 1, 9), (1, 2, 3), (4, 5, 6)]\n"
     ]
    }
   ],
   "source": [
    "list_tup = [(1,2,3),(4,5,6),(7,1,9)]\n",
    "sorted_tuple = sorted(list_tup, key= lambda x : x[1])\n",
    "\n",
    "print(\"Sorted value are \",sorted_tuple)\n"
   ]
  },
  {
   "cell_type": "markdown",
   "id": "d4b89ac8-51cf-4601-b04a-b68bfd0869d6",
   "metadata": {},
   "source": [
    "### 3.Explain the concept of higher-order functions in Python, and provide an example."
   ]
  },
  {
   "cell_type": "markdown",
   "id": "5008d8b9-976f-4474-8ceb-9b8b825e1997",
   "metadata": {},
   "source": [
    "A function is called Higher Order Function when function uses another function as parameter or returns function as output"
   ]
  },
  {
   "cell_type": "code",
   "execution_count": 45,
   "id": "1c8302d2-4a5b-48c2-8071-83c5833d2650",
   "metadata": {},
   "outputs": [],
   "source": [
    "def toupper(text):\n",
    "    return text.upper()\n",
    "\n",
    "def tolower(text):\n",
    "    return text.lower()\n",
    "\n",
    "def welcome(func,message): # we are going to pass function as one of parameter\n",
    "    return func(message)"
   ]
  },
  {
   "cell_type": "code",
   "execution_count": 47,
   "id": "61770398-bb33-44c1-8cf0-cb5253bdb3d7",
   "metadata": {},
   "outputs": [
    {
     "name": "stdin",
     "output_type": "stream",
     "text": [
      "enter anything higher order function testing\n"
     ]
    },
    {
     "name": "stdout",
     "output_type": "stream",
     "text": [
      "HIGHER ORDER FUNCTION TESTING\n",
      "higher order function testing\n"
     ]
    }
   ],
   "source": [
    "mystr = input(\"enter anything\")\n",
    "\n",
    "print(welcome(toupper,mystr))\n",
    "print(welcome(tolower,mystr))"
   ]
  },
  {
   "cell_type": "markdown",
   "id": "366cc9ac-6d61-4821-b80d-fe72049dd897",
   "metadata": {},
   "source": [
    "### 4.Create a Python function that takes a list of numbers and a function as arguments, applying the function to each element in the list."
   ]
  },
  {
   "cell_type": "code",
   "execution_count": 16,
   "id": "b11002b6-877d-4884-b34c-eb5fc7c708a5",
   "metadata": {},
   "outputs": [],
   "source": [
    "def square_no(no):\n",
    "    return no **2"
   ]
  },
  {
   "cell_type": "code",
   "execution_count": 18,
   "id": "f65778e4-3f95-4e67-b588-2b1200a5bca1",
   "metadata": {},
   "outputs": [],
   "source": [
    "def get_squares(l , square_no):\n",
    "    return list(map(square_no,l))"
   ]
  },
  {
   "cell_type": "code",
   "execution_count": 20,
   "id": "155d740b-5c94-46da-8b50-613d81a76d31",
   "metadata": {},
   "outputs": [
    {
     "data": {
      "text/plain": [
       "[1, 4, 9, 16, 25]"
      ]
     },
     "execution_count": 20,
     "metadata": {},
     "output_type": "execute_result"
    }
   ],
   "source": [
    "get_squares([1,2,3,4,5],square_no)"
   ]
  },
  {
   "cell_type": "markdown",
   "id": "fb2d520a-a9e0-488c-80e5-34ffdcdbbbad",
   "metadata": {},
   "source": [
    "## Built-in Functions"
   ]
  },
  {
   "cell_type": "markdown",
   "id": "36f0e1d8-e8cc-4035-961c-75fa24f09925",
   "metadata": {},
   "source": [
    "### 1.Describe the role of built-in functions like `len()`, `max()`, and `min()` in Python."
   ]
  },
  {
   "cell_type": "markdown",
   "id": "2ea2b110-53b7-46ce-b806-294657d6622b",
   "metadata": {},
   "source": [
    "Python has pre in build functions which is used reduce the code duplicate and can be used to achieve our functionality like. <br>\n",
    "<b>len()</b> - this function is used to define length of given input <br>\n",
    "<b>max()</b> - is used to find the highest or maximum value the given input, this expects iterable object as input, cannot work for single interger like max(5) - which gives error <br>\n",
    "<b>min()</b> - is used to find the lowest or minimum value the given input, this expects iterable object as input, cannot work for single interger like min(3) - which gives error <br>\n",
    "<b> Kindly note </b> - in both min() and max() when list of strings are given as input, output will not display string which has maximum or minimum characters instead it displays word based on starting letter, to find word which max characters then code needs to be modified as max('python','DL','DSA','machine learning',key=len), <b>key=len</b> is added to max function "
   ]
  },
  {
   "cell_type": "markdown",
   "id": "c62e3df4-6498-4209-a3ff-95e73f6d9949",
   "metadata": {},
   "source": [
    "### 2.Write a Python program that uses the `map()` function to apply a function to each element of a list."
   ]
  },
  {
   "cell_type": "code",
   "execution_count": 25,
   "id": "96988945-4364-4c34-b39b-f0e8d7cb5f44",
   "metadata": {},
   "outputs": [
    {
     "name": "stdout",
     "output_type": "stream",
     "text": [
      "converted upper case as  ['PYTHON', 'DL', 'DSA', 'MACHINE LEARNING']\n"
     ]
    }
   ],
   "source": [
    "mylist = ['python','DL','DSA','machine learning']\n",
    "toupper = list(map( lambda x : x.upper(),mylist))\n",
    "print(\"converted upper case as \",toupper)"
   ]
  },
  {
   "cell_type": "markdown",
   "id": "86687706-53a4-4c94-a32f-d1d738492221",
   "metadata": {},
   "source": [
    "### 3.How does the `filter()` function work in Python, and when would you use it?"
   ]
  },
  {
   "cell_type": "markdown",
   "id": "4a09efcc-a8ce-4fd1-867b-62aae6ef5ce3",
   "metadata": {},
   "source": [
    "<b>filter()</b> - is an inbuild function is to filter data based on our condition and return only required values, for example, I have list of large numbers, want to filter only even numbers, then filter function can be used"
   ]
  },
  {
   "cell_type": "code",
   "execution_count": 28,
   "id": "77a0d3a1-d626-4ac1-a404-3f1d17d4464a",
   "metadata": {},
   "outputs": [
    {
     "name": "stdout",
     "output_type": "stream",
     "text": [
      "List of even numbers  [2, 4, 6, 8, 10, 12, 14, 20, 78]\n"
     ]
    }
   ],
   "source": [
    "myfull = [1,2,3,4,5,6,7,8,9,10,11,13,15,17,12,14,20,78]\n",
    "\n",
    "only_even = list(filter(lambda x : x % 2 == 0 ,myfull))\n",
    "print(\"List of even numbers \",only_even)"
   ]
  },
  {
   "cell_type": "markdown",
   "id": "c1d1362d-5b08-4bfa-963f-41b2b7e5a6ee",
   "metadata": {},
   "source": [
    "### 4.Create a Python program that uses the `reduce()` function to find the product of all elements in a list."
   ]
  },
  {
   "cell_type": "code",
   "execution_count": 33,
   "id": "b3061d71-01bc-4c66-8e1b-fb7cd6dcb79e",
   "metadata": {},
   "outputs": [
    {
     "name": "stdout",
     "output_type": "stream",
     "text": [
      "Result of products of numbers is  120\n"
     ]
    }
   ],
   "source": [
    "import functools\n",
    "myfull = [1,2,3,4,5,]\n",
    "\n",
    "product_nos = functools.reduce( lambda x,y : x * y, myfull)\n",
    "print(\"Result of products of numbers is \",product_nos)"
   ]
  },
  {
   "cell_type": "markdown",
   "id": "577a499b-fad0-4d2b-835c-510fed133f43",
   "metadata": {},
   "source": [
    "## Function Documentation and Best Practices"
   ]
  },
  {
   "cell_type": "markdown",
   "id": "2415baf7-9257-4013-b314-0329c6d46e87",
   "metadata": {},
   "source": [
    "### 1.Explain the purpose of docstrings in Python functions and how to write them."
   ]
  },
  {
   "cell_type": "markdown",
   "id": "de5efad3-ab13-4fed-91d1-713c049bda18",
   "metadata": {},
   "source": [
    "<b> docstrings </b> are kind of how to procedures for caller\n",
    "for example - I have created a function which gets indefinite input using <b> *args </b> and I am trying to convert to upper, in this case, there is possibility caller may insert interger without knowing functionality and may generate runtime error, to avid this, every function must have docustrings explains the purpose, type of input\n",
    "''' docstrings can be insetred in between these quotes '''"
   ]
  },
  {
   "cell_type": "code",
   "execution_count": 37,
   "id": "ce2cc869-51cc-492c-a241-2c47b896360f",
   "metadata": {},
   "outputs": [],
   "source": [
    "def toupper(*args):\n",
    "    '''\n",
    "    funtion is to translate input into uppercase\n",
    "    *args - input - accepts many strings or words seperated by comma\n",
    "    '''\n",
    "    upper_list = []\n",
    "    for i in args:\n",
    "        upper_list.append(i.upper())\n",
    "    return upper_list"
   ]
  },
  {
   "cell_type": "code",
   "execution_count": 38,
   "id": "aa40aa3b-8e07-4c49-98d0-fda63227e143",
   "metadata": {},
   "outputs": [
    {
     "data": {
      "text/plain": [
       "['PYTHON', 'DL', 'DSA', 'MACHINE LEARNING']"
      ]
     },
     "execution_count": 38,
     "metadata": {},
     "output_type": "execute_result"
    }
   ],
   "source": [
    "toupper('python','DL','DSA','machine learning')"
   ]
  },
  {
   "cell_type": "markdown",
   "id": "fb1fa928-4bdf-4efd-8321-69f6a23737aa",
   "metadata": {},
   "source": [
    "### 2.Describe some best practices for naming functions and variables in Python, including naming conventions and guidelines."
   ]
  },
  {
   "cell_type": "markdown",
   "id": "90e3014e-c528-499c-876a-c2e4e7af5fe9",
   "metadata": {},
   "source": [
    "\n",
    "### Best practice:\n",
    "#### 1) always make sure indentation is correct, so correct block of codes can be executed\n",
    "#### 2) follow logging every step in python \n",
    "#### 3) exception handling is must to capture know and unknown errors where ever possible\n",
    "#### 4) avoid using print unless it is needed, chose logging method to log everything\n",
    "#### 4) implement docstrings for custom functions\n",
    "#### 5) always use return to return value to caller, don't use print unless it is printing value\n",
    "\n",
    "### Naming convetion:\n",
    "#### 1) variable can start with letter or underscore\n",
    "#### 2) variable name cannot start with nuber or cannot have space or special character\n",
    "#### 3) function name is lowercase and always meaning full, which defines purpose\n",
    "#### 4) method in class always have self(pointer to class) as first argument"
   ]
  },
  {
   "cell_type": "code",
   "execution_count": null,
   "id": "0593e640-91a9-442c-9de5-208833942a19",
   "metadata": {},
   "outputs": [],
   "source": []
  }
 ],
 "metadata": {
  "kernelspec": {
   "display_name": "Python 3 (ipykernel)",
   "language": "python",
   "name": "python3"
  },
  "language_info": {
   "codemirror_mode": {
    "name": "ipython",
    "version": 3
   },
   "file_extension": ".py",
   "mimetype": "text/x-python",
   "name": "python",
   "nbconvert_exporter": "python",
   "pygments_lexer": "ipython3",
   "version": "3.10.8"
  }
 },
 "nbformat": 4,
 "nbformat_minor": 5
}
