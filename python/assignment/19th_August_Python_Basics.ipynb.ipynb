{
 "cells": [
  {
   "cell_type": "markdown",
   "id": "1cfc8c17-7d2c-4355-a16e-392f8c6a979f",
   "metadata": {},
   "source": [
    "#                                         Python Basics Variable"
   ]
  },
  {
   "cell_type": "markdown",
   "id": "3f827603-de0a-46c5-9002-287b50503e1a",
   "metadata": {},
   "source": [
    "1. Declare two variables, `x` and `y`, and assign them integer values. Swap the\n",
    "values of these variables without using any temporary variable."
   ]
  },
  {
   "cell_type": "code",
   "execution_count": 1,
   "id": "2a65adcd-9bbc-4967-a287-5c2b7a978478",
   "metadata": {},
   "outputs": [],
   "source": [
    "x = 10\n",
    "y = 20\n",
    "x, y = y,x"
   ]
  },
  {
   "cell_type": "code",
   "execution_count": 2,
   "id": "aec81a13-f85d-419e-9c33-ffe6d96a7933",
   "metadata": {},
   "outputs": [
    {
     "name": "stdout",
     "output_type": "stream",
     "text": [
      "new value of x is 20 and new value of y is 10\n"
     ]
    }
   ],
   "source": [
    "print('new value of x is',x,'and new value of y is',y)"
   ]
  },
  {
   "cell_type": "markdown",
   "id": "2fd27e25-8b22-4064-8eae-7823cc65bf6b",
   "metadata": {},
   "source": [
    "2. Create a program that calculates the area of a rectangle. Take the length and\n",
    "width as inputs from the user and store them in variables. Calculate and\n",
    "display the area."
   ]
  },
  {
   "cell_type": "code",
   "execution_count": 1,
   "id": "20fc79c3-02f0-4940-80f8-38d46654fcff",
   "metadata": {},
   "outputs": [
    {
     "name": "stdin",
     "output_type": "stream",
     "text": [
      "Enter length 10\n",
      "Enter width 20\n"
     ]
    },
    {
     "name": "stdout",
     "output_type": "stream",
     "text": [
      "formula for area of rectangle  = width * length and output for given value is 200\n"
     ]
    }
   ],
   "source": [
    "my_length = int(input(\"Enter length\"))\n",
    "my_width = int(input(\"Enter width\"))\n",
    "\n",
    "print('formula for area of rectangle  = width * length and output for given value is', my_length * my_width) "
   ]
  },
  {
   "cell_type": "markdown",
   "id": "6731c508-0d6a-437d-8564-6393d0055b7f",
   "metadata": {},
   "source": [
    "3. Write a Python program that converts temperatures from Celsius to\n",
    "Fahrenheit. Take the temperature in Celsius as input, store it in a variable,\n",
    "convert it to Fahrenheit, and display the result."
   ]
  },
  {
   "cell_type": "code",
   "execution_count": 2,
   "id": "5989ca6d-bed0-430c-8c8f-46e8cb71f6bc",
   "metadata": {},
   "outputs": [
    {
     "name": "stdin",
     "output_type": "stream",
     "text": [
      "Enter temprature in Celsius degree 30\n"
     ]
    },
    {
     "name": "stdout",
     "output_type": "stream",
     "text": [
      "Temperature in Farenheit is 86.0 °F\n"
     ]
    }
   ],
   "source": [
    "current_temp = int(input(\"Enter temprature in Celsius degree\"))\n",
    "#formula to calculate Farenheit is (temperature °C * 9/5)+32\n",
    "to_farenheit = (current_temp * 9/5) + 32\n",
    "print(\"Temperature in Farenheit is\", to_farenheit,\"°F\")"
   ]
  },
  {
   "cell_type": "markdown",
   "id": "be20a4c8-261f-403c-8d8f-de0fc1397a90",
   "metadata": {},
   "source": [
    "#                                      String Based Questions"
   ]
  },
  {
   "cell_type": "markdown",
   "id": "daaedc31-b5d4-4549-8f65-13e6d9b04816",
   "metadata": {},
   "source": [
    "1. Write a Python program that takes a string as input and prints the length of\n",
    "the string."
   ]
  },
  {
   "cell_type": "code",
   "execution_count": 5,
   "id": "8d95fd82-7dc6-4747-9181-acbdbcdf2df9",
   "metadata": {},
   "outputs": [
    {
     "name": "stdin",
     "output_type": "stream",
     "text": [
      "Enter any string goudham\n"
     ]
    },
    {
     "name": "stdout",
     "output_type": "stream",
     "text": [
      "Your goudham has total of 7 letters long\n"
     ]
    }
   ],
   "source": [
    "my_str = input(\"Enter any string\")\n",
    "print(\"Your\",my_str,\"has total of\",len(my_str),\"letters long\")"
   ]
  },
  {
   "cell_type": "markdown",
   "id": "623cbb2e-9620-4639-84c6-676b784b518a",
   "metadata": {},
   "source": [
    "2. Create a program that takes a sentence from the user and counts the number\n",
    "of vowels (a, e, i, o, u) in the string."
   ]
  },
  {
   "cell_type": "code",
   "execution_count": 13,
   "id": "ae74db84-ba36-45ba-86e5-9d9cc49ddbbd",
   "metadata": {},
   "outputs": [
    {
     "name": "stdin",
     "output_type": "stream",
     "text": [
      "enter anything goudham is having fun in program\n"
     ]
    },
    {
     "name": "stdout",
     "output_type": "stream",
     "text": [
      "total vowels is 10\n"
     ]
    }
   ],
   "source": [
    "myStr = input(\"enter anything\")\n",
    "vowels_cnt = 0\n",
    "for c in myStr:\n",
    "    if c in 'aeiou':\n",
    "        vowels_cnt = vowels_cnt + 1\n",
    "print(\"total vowels is\",vowels_cnt)"
   ]
  },
  {
   "cell_type": "markdown",
   "id": "da1413c7-43c5-4322-92b2-6edcbb32b74b",
   "metadata": {},
   "source": [
    "3. Given a string, reverse the order of characters using string slicing and print\n",
    "the reversed string."
   ]
  },
  {
   "cell_type": "code",
   "execution_count": 6,
   "id": "4927dbf0-1ab9-4862-9afe-6e14122baf15",
   "metadata": {},
   "outputs": [
    {
     "name": "stdout",
     "output_type": "stream",
     "text": [
      "reversal of goudham is mahduog\n"
     ]
    }
   ],
   "source": [
    "myStr = \"goudham\"\n",
    "print(\"reversal of\",myStr, \"is\",myStr[::-1])"
   ]
  },
  {
   "cell_type": "markdown",
   "id": "c4d410dc-1c5d-48d0-b6ae-318df67b52d6",
   "metadata": {},
   "source": [
    "4. Write a program that takes a string as input and checks if it is a palindrome\n",
    "(reads the same forwards and backwards)."
   ]
  },
  {
   "cell_type": "code",
   "execution_count": 11,
   "id": "23ce428b-e908-474a-ab5e-ed05b777f6c3",
   "metadata": {},
   "outputs": [
    {
     "name": "stdin",
     "output_type": "stream",
     "text": [
      "Enter any word Madam\n"
     ]
    },
    {
     "name": "stdout",
     "output_type": "stream",
     "text": [
      "Given word is palindrome\n"
     ]
    }
   ],
   "source": [
    "mypali = input(\"Enter any word\")\n",
    "mypali = mypali.lower()\n",
    "if mypali == mypali[::-1]:\n",
    "    print(\"Given word is palindrome\")\n",
    "else:\n",
    "    print(\"given word is not palindrome\")"
   ]
  },
  {
   "cell_type": "markdown",
   "id": "87290092-3701-4036-8d34-63ee62b09368",
   "metadata": {},
   "source": [
    "5. Create a program that takes a string as input and removes all the spaces from\n",
    "it. Print the modified string without spaces."
   ]
  },
  {
   "cell_type": "code",
   "execution_count": 12,
   "id": "a6b0d6fe-5639-49c3-8231-84a72e40da59",
   "metadata": {},
   "outputs": [
    {
     "name": "stdin",
     "output_type": "stream",
     "text": [
      "enter multiple words with space this is testing                 then for assignment\n"
     ]
    },
    {
     "name": "stdout",
     "output_type": "stream",
     "text": [
      "Spaces are removed thisistestingthenforassignment\n"
     ]
    }
   ],
   "source": [
    "with_space = input(\"enter multiple words with space\")\n",
    "without_space = with_space.replace(\" \",\"\")\n",
    "print(\"Spaces are removed\",without_space)"
   ]
  },
  {
   "cell_type": "code",
   "execution_count": null,
   "id": "6813dd57-8059-4e91-8417-4d11885866b7",
   "metadata": {},
   "outputs": [],
   "source": []
  }
 ],
 "metadata": {
  "kernelspec": {
   "display_name": "Python 3 (ipykernel)",
   "language": "python",
   "name": "python3"
  },
  "language_info": {
   "codemirror_mode": {
    "name": "ipython",
    "version": 3
   },
   "file_extension": ".py",
   "mimetype": "text/x-python",
   "name": "python",
   "nbconvert_exporter": "python",
   "pygments_lexer": "ipython3",
   "version": "3.10.8"
  }
 },
 "nbformat": 4,
 "nbformat_minor": 5
}
