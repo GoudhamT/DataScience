{
 "cells": [
  {
   "cell_type": "markdown",
   "id": "c4828356-0367-41cf-b1e1-5c30e8029fb8",
   "metadata": {},
   "source": [
    "## String Data type Assignment"
   ]
  },
  {
   "cell_type": "markdown",
   "id": "84069749-1b02-4edb-be40-0418cc599634",
   "metadata": {},
   "source": [
    "### 1. Write a program to reverse a string."
   ]
  },
  {
   "cell_type": "code",
   "execution_count": 1,
   "id": "8a7859cc-48ee-416c-9656-5cf271bf9db1",
   "metadata": {},
   "outputs": [
    {
     "name": "stdout",
     "output_type": "stream",
     "text": [
      "nohtyp\n"
     ]
    }
   ],
   "source": [
    "myStr = \"Python\"\n",
    "print(myStr[::-1].lower())"
   ]
  },
  {
   "cell_type": "markdown",
   "id": "4656d867-d18f-4b5c-b839-fb392e93dfa8",
   "metadata": {},
   "source": [
    "### 2. Check if a string is a palindrome."
   ]
  },
  {
   "cell_type": "code",
   "execution_count": 2,
   "id": "e73cf35b-5aba-493b-8a6b-fe74e003dffa",
   "metadata": {},
   "outputs": [
    {
     "name": "stdout",
     "output_type": "stream",
     "text": [
      "Given word Madam is palindrome\n"
     ]
    }
   ],
   "source": [
    "myStr = \"Madam\"\n",
    "if myStr.lower() == myStr[::-1].lower():\n",
    "    print(\"Given word\",myStr,\"is palindrome\")\n",
    "else:\n",
    "    print(\"Given word\",myStr,\"is not palindrome\")"
   ]
  },
  {
   "cell_type": "markdown",
   "id": "0e1c3079-2563-4429-815a-bf4c41d9659c",
   "metadata": {},
   "source": [
    "### 3. Convert a string to uppercase."
   ]
  },
  {
   "cell_type": "code",
   "execution_count": 3,
   "id": "88c77038-1e5d-491d-8453-7b3d0b650b54",
   "metadata": {},
   "outputs": [
    {
     "name": "stdout",
     "output_type": "stream",
     "text": [
      "Uppercase of  python is PYTHON\n"
     ]
    }
   ],
   "source": [
    "myStr = \"python\"\n",
    "print(\"Uppercase of \",myStr, \"is\",myStr.upper())"
   ]
  },
  {
   "cell_type": "markdown",
   "id": "b7167f70-dd6e-4745-b934-7502dd9d5fe4",
   "metadata": {},
   "source": [
    "### 4. Convert a string to lowercase."
   ]
  },
  {
   "cell_type": "code",
   "execution_count": 4,
   "id": "97dafac5-3e77-4b77-83c3-c7f8c8c4ad81",
   "metadata": {},
   "outputs": [
    {
     "name": "stdout",
     "output_type": "stream",
     "text": [
      "Lowercase of  Python is python\n"
     ]
    }
   ],
   "source": [
    "myStr = \"Python\"\n",
    "print(\"Lowercase of \",myStr, \"is\",myStr.lower())"
   ]
  },
  {
   "cell_type": "markdown",
   "id": "f4115521-3bd9-4f36-aaf0-795154620f3e",
   "metadata": {},
   "source": [
    "### 5. Count the number of vowels in a string."
   ]
  },
  {
   "cell_type": "code",
   "execution_count": 5,
   "id": "ea7c2908-bc4c-4bdb-b0c8-febcaa408a68",
   "metadata": {},
   "outputs": [
    {
     "name": "stdout",
     "output_type": "stream",
     "text": [
      "Vowels for the given word is 12\n"
     ]
    }
   ],
   "source": [
    "myStr = \"Data Science first step is to learn python\"\n",
    "vowels_cnt = 0\n",
    "for i in myStr:\n",
    "    if i in ['a','e','i','o','u']:\n",
    "        vowels_cnt += 1\n",
    "print(\"Vowels for the given word is\",vowels_cnt)"
   ]
  },
  {
   "cell_type": "markdown",
   "id": "ec74e9d7-868f-4dbd-884e-ed815648e83d",
   "metadata": {},
   "source": [
    "### 6. Count the number of consonants in a string."
   ]
  },
  {
   "cell_type": "code",
   "execution_count": 6,
   "id": "b31b1bce-e6c1-4724-8f7b-226a43552bd1",
   "metadata": {},
   "outputs": [
    {
     "name": "stdout",
     "output_type": "stream",
     "text": [
      "Number of consonants for given word is 23\n"
     ]
    }
   ],
   "source": [
    "myStr = \"Data Science first step is to learn python\"\n",
    "eng_const = 'bcdfghjklmnpqrstvwxyzBCDFGHJKLMNPQRSTVWXYZ'\n",
    "const_cnt = 0\n",
    "for char in myStr:\n",
    "    if char in eng_const:\n",
    "        const_cnt += 1\n",
    "print(\"Number of consonants for given word is\",const_cnt)"
   ]
  },
  {
   "cell_type": "markdown",
   "id": "506c95c7-0977-4c9f-a61b-d78cda23d109",
   "metadata": {},
   "source": [
    "### 7. Remove all whitespaces from a string."
   ]
  },
  {
   "cell_type": "code",
   "execution_count": 7,
   "id": "c3e82af2-07ce-45ba-8581-796673aa2f23",
   "metadata": {},
   "outputs": [
    {
     "name": "stdout",
     "output_type": "stream",
     "text": [
      "After whitespace removal DataSciencefirststepistolearnpython\n"
     ]
    }
   ],
   "source": [
    "myStr = \"Data Science first step is to learn python\"\n",
    "myStr = myStr.replace(\" \",\"\")\n",
    "print(\"After whitespace removal\",myStr)"
   ]
  },
  {
   "cell_type": "markdown",
   "id": "aae408a4-d00e-40fd-b4af-188495c801fc",
   "metadata": {},
   "source": [
    "### 8. Find the length of a string without using the `len()` function."
   ]
  },
  {
   "cell_type": "code",
   "execution_count": 8,
   "id": "43217b9e-f03a-483b-beac-7451db714c02",
   "metadata": {},
   "outputs": [
    {
     "name": "stdout",
     "output_type": "stream",
     "text": [
      "Number of letters for given word Data Science is 12\n"
     ]
    }
   ],
   "source": [
    "myStr = \"Data Science\"\n",
    "no_of_letters = 0\n",
    "for char in myStr:\n",
    "    no_of_letters += 1\n",
    "print(\"Number of letters for given word\",myStr,\"is\",no_of_letters)"
   ]
  },
  {
   "cell_type": "markdown",
   "id": "6342453e-6204-430b-9bc6-b2b4f71dd7fc",
   "metadata": {},
   "source": [
    "### 9. Check if a string contains a specific word."
   ]
  },
  {
   "cell_type": "code",
   "execution_count": 9,
   "id": "47c346f3-1997-440d-aa83-8c2b86ecc1c0",
   "metadata": {},
   "outputs": [
    {
     "name": "stdout",
     "output_type": "stream",
     "text": [
      "success\n"
     ]
    }
   ],
   "source": [
    "myStr = \"Data Science first step is to learn python\"\n",
    "word = \"science\"\n",
    "if word in myStr.lower().split():\n",
    "    print(\"success\")\n",
    "else:\n",
    "    print(\"Word not found\")"
   ]
  },
  {
   "cell_type": "markdown",
   "id": "5f2c1fa4-d6b1-4525-939e-801547786419",
   "metadata": {},
   "source": [
    "### 10. Replace a word in a string with another word."
   ]
  },
  {
   "cell_type": "code",
   "execution_count": 10,
   "id": "4e445dc9-2ffd-48e8-8f88-bf4371e28a39",
   "metadata": {},
   "outputs": [
    {
     "name": "stdout",
     "output_type": "stream",
     "text": [
      "Data Science baby step is to learn python\n"
     ]
    }
   ],
   "source": [
    "myStr = \"Data Science first step is to learn python\"\n",
    "myStr = myStr.replace('first','baby')\n",
    "print(myStr)"
   ]
  },
  {
   "cell_type": "markdown",
   "id": "7d4fbe5d-3278-42b4-a0e5-6bf1a0df0349",
   "metadata": {},
   "source": [
    "### 11. Count the occurrences of a word in a string."
   ]
  },
  {
   "cell_type": "code",
   "execution_count": 11,
   "id": "55ff582e-7b6b-47b7-b393-886559252302",
   "metadata": {},
   "outputs": [
    {
     "name": "stdout",
     "output_type": "stream",
     "text": [
      "given word to occured 2  times\n"
     ]
    }
   ],
   "source": [
    "myStr = \"Data Science first step is to to learn python\"\n",
    "check_word = 'to'\n",
    "occur = 0\n",
    "for word in myStr.lower().split():\n",
    "    if check_word == word:\n",
    "        occur += 1\n",
    "print(\"given word\",check_word,\"occured\",occur,\" times\")"
   ]
  },
  {
   "cell_type": "markdown",
   "id": "0c3eeef2-ecc0-4bfb-822f-b549192db7b6",
   "metadata": {},
   "source": [
    "### 12. Find the first occurrence of a word in a string."
   ]
  },
  {
   "cell_type": "code",
   "execution_count": 12,
   "id": "efcb765f-7119-474d-af41-c734e4cceadf",
   "metadata": {},
   "outputs": [
    {
     "name": "stdout",
     "output_type": "stream",
     "text": [
      "word occured at  27 position\n"
     ]
    }
   ],
   "source": [
    "myStr = \"Data Science first step is to to learn python\"\n",
    "check_word = 'to'\n",
    "\n",
    "print(\"word occured at \",myStr.find(check_word),\"position\")"
   ]
  },
  {
   "cell_type": "markdown",
   "id": "daf1dbc8-381b-4cb3-8c17-4a731aaa4f38",
   "metadata": {},
   "source": [
    "### 13. Find the last occurrence of a word in a string."
   ]
  },
  {
   "cell_type": "code",
   "execution_count": 13,
   "id": "3ae2cefc-47bb-4f13-9104-ae5e8aa3abd9",
   "metadata": {},
   "outputs": [
    {
     "name": "stdout",
     "output_type": "stream",
     "text": [
      "word occured at  30 position\n"
     ]
    }
   ],
   "source": [
    "myStr = \"Data Science first step is to to learn python\"\n",
    "check_word = 'to'\n",
    "\n",
    "print(\"word occured at \",myStr.rfind(check_word),\"position\")"
   ]
  },
  {
   "cell_type": "markdown",
   "id": "dbed614f-3ab1-436e-bd1b-34e37b7147f7",
   "metadata": {},
   "source": [
    "### 14. Split a string into a list of words."
   ]
  },
  {
   "cell_type": "code",
   "execution_count": 14,
   "id": "9c7a5005-a244-458a-9c32-267623428648",
   "metadata": {},
   "outputs": [
    {
     "name": "stdout",
     "output_type": "stream",
     "text": [
      "['Data', 'Science', 'first', 'step', 'is', 'to', 'to', 'learn', 'python']\n"
     ]
    }
   ],
   "source": [
    "myStr = \"Data Science first step is to to learn python\"\n",
    "intoWords = myStr.split()\n",
    "print(intoWords)"
   ]
  },
  {
   "cell_type": "markdown",
   "id": "062cdf96-45c3-4ba7-a842-31ff343143d4",
   "metadata": {},
   "source": [
    "### 15. Join a list of words into a string."
   ]
  },
  {
   "cell_type": "code",
   "execution_count": 15,
   "id": "55b6b4b8-715e-4595-951b-1015d34aa609",
   "metadata": {},
   "outputs": [
    {
     "name": "stdout",
     "output_type": "stream",
     "text": [
      "Data Science first step is to to learn python\n"
     ]
    }
   ],
   "source": [
    "myStr = \"Data Science first step is to to learn python\"\n",
    "intoWords = myStr.split()\n",
    "intoString = ' '.join(intoWords)\n",
    "print(intoString)\n"
   ]
  },
  {
   "cell_type": "markdown",
   "id": "683df6a6-a561-458d-b157-3aa86daba5e5",
   "metadata": {},
   "source": [
    "### 16. Convert a string where words are separated by spaces to one where words\n",
    "### are separated by underscores."
   ]
  },
  {
   "cell_type": "code",
   "execution_count": 16,
   "id": "e2982c1b-5df4-434c-8510-ac8e141d0b02",
   "metadata": {},
   "outputs": [
    {
     "name": "stdout",
     "output_type": "stream",
     "text": [
      "Data_Science_first_step_is_to_to_learn_python\n",
      "Another method :                Data_Science_first_step_is_to_to_learn_python\n"
     ]
    }
   ],
   "source": [
    "myStr = \"Data Science first step is to to learn python\"\n",
    "myStr = myStr.replace(' ','_')\n",
    "print(myStr)\n",
    "\n",
    "### Another method\n",
    "intoWords = myStr.split()\n",
    "print(\"Another method :               \", '_'.join(intoWords))"
   ]
  },
  {
   "cell_type": "markdown",
   "id": "9770af42-2925-42d2-9ad7-9d992620349e",
   "metadata": {},
   "source": [
    "### 17. Check if a string starts with a specific word or phrase."
   ]
  },
  {
   "cell_type": "code",
   "execution_count": 17,
   "id": "67846852-eb53-471e-8fc4-c7f8b8dc5869",
   "metadata": {},
   "outputs": [
    {
     "name": "stdout",
     "output_type": "stream",
     "text": [
      "Text starts with given word\n"
     ]
    }
   ],
   "source": [
    "myStr = \"learning python is first step for DS\"\n",
    "if myStr.startswith(\"learning\"):\n",
    "    print(\"Text starts with given word\")\n",
    "else:\n",
    "    print(\"Text not starts with given word\")"
   ]
  },
  {
   "cell_type": "markdown",
   "id": "2bdea7f7-ab5f-47ed-ba60-f97ad619e9da",
   "metadata": {},
   "source": [
    "### 18. Check if a string ends with a specific word or phrase."
   ]
  },
  {
   "cell_type": "code",
   "execution_count": 18,
   "id": "2d0c46ce-6f4b-478c-9b3e-482c2cfbbf2d",
   "metadata": {},
   "outputs": [
    {
     "name": "stdout",
     "output_type": "stream",
     "text": [
      "Text not ends with given word\n"
     ]
    }
   ],
   "source": [
    "myStr = \"learning python is first step for DS\"\n",
    "if myStr.endswith('DW'):\n",
    "    print(\"Text ends with given word\")\n",
    "else:\n",
    "    print(\"Text not ends with given word\")"
   ]
  },
  {
   "cell_type": "markdown",
   "id": "f0767ea9-d03b-49a4-aa6c-9f98a85cf64c",
   "metadata": {},
   "source": [
    "### 19. Convert a string to title case (e.g., \"hello world\" to \"Hello World\")."
   ]
  },
  {
   "cell_type": "code",
   "execution_count": 19,
   "id": "e5bf04bd-29fa-4d9a-9900-2ce68beee5c6",
   "metadata": {},
   "outputs": [
    {
     "name": "stdout",
     "output_type": "stream",
     "text": [
      "Hello World In Python\n"
     ]
    }
   ],
   "source": [
    "myWord = \"hello world in python\"\n",
    "print(myWord.title())"
   ]
  },
  {
   "cell_type": "markdown",
   "id": "181eae00-b407-4b12-82a8-818d0c142ce8",
   "metadata": {},
   "source": [
    "### 20. Find the longest word in a string."
   ]
  },
  {
   "cell_type": "code",
   "execution_count": 20,
   "id": "a1cec07e-e072-41b1-b3b2-74220d52c791",
   "metadata": {},
   "outputs": [
    {
     "name": "stdout",
     "output_type": "stream",
     "text": [
      "Given longest word is  python\n"
     ]
    }
   ],
   "source": [
    "myWord = \"hello world in python yes\"\n",
    "word = ''\n",
    "long_word = ''\n",
    "for char in myWord.split():\n",
    "    if len(char) > len(long_word):\n",
    "        long_word = char\n",
    "print(\"Given longest word is \",long_word)"
   ]
  },
  {
   "cell_type": "markdown",
   "id": "4551715c-b206-44cc-829c-470a648fd5b7",
   "metadata": {},
   "source": [
    "### 21. Find the shortest word in a string."
   ]
  },
  {
   "cell_type": "code",
   "execution_count": 21,
   "id": "d0a1ab70-7b27-43d2-9cc9-c0fdcca04ad0",
   "metadata": {},
   "outputs": [
    {
     "name": "stdout",
     "output_type": "stream",
     "text": [
      "Given shortest word is  in\n"
     ]
    }
   ],
   "source": [
    "myWord = \"hello world in python yes\"\n",
    "word = ''\n",
    "short_word = myWord\n",
    "for char in myWord.split():\n",
    "    if len(char) < len(short_word):\n",
    "        short_word = char\n",
    "print(\"Given shortest word is \",short_word)"
   ]
  },
  {
   "cell_type": "markdown",
   "id": "d9797550-6ea1-4318-82d2-60e17c2b066f",
   "metadata": {},
   "source": [
    "### 22. Reverse the order of words in a string."
   ]
  },
  {
   "cell_type": "code",
   "execution_count": 22,
   "id": "0198b49b-5260-4932-850d-3a69e6ac01ec",
   "metadata": {},
   "outputs": [
    {
     "name": "stdout",
     "output_type": "stream",
     "text": [
      "python in world hello\n"
     ]
    }
   ],
   "source": [
    "myWord = \"hello world in python\"\n",
    "print(' '.join(myWord.split()[::-1]))"
   ]
  },
  {
   "cell_type": "markdown",
   "id": "22a4ec5c-64fe-4a4e-a6d5-b265d701e876",
   "metadata": {},
   "source": [
    "### 23. Check if a string is alphanumeric."
   ]
  },
  {
   "cell_type": "code",
   "execution_count": 23,
   "id": "206d9110-3933-436a-8d11-0aac4aa87ffa",
   "metadata": {},
   "outputs": [
    {
     "name": "stdout",
     "output_type": "stream",
     "text": [
      "is Given string is alphanumeric: False\n"
     ]
    }
   ],
   "source": [
    "myWord = \"123*\"\n",
    "print(\"is Given string is alphanumeric:\", myWord.isalnum())"
   ]
  },
  {
   "cell_type": "markdown",
   "id": "938af676-65de-4ad8-9fc0-4b973c735b4b",
   "metadata": {},
   "source": [
    "### 24. Extract all digits from a string."
   ]
  },
  {
   "cell_type": "code",
   "execution_count": 24,
   "id": "bda0db17-e699-437f-ad6e-a7d24639f3cc",
   "metadata": {},
   "outputs": [
    {
     "name": "stdout",
     "output_type": "stream",
     "text": [
      "1231056789\n"
     ]
    }
   ],
   "source": [
    "myWord = \"h123ello world in 10pyt567hon89\"\n",
    "ext_digits =''\n",
    "for char in myWord:\n",
    "    if char.isdigit():\n",
    "        ext_digits += char\n",
    "print(ext_digits)\n",
    "        "
   ]
  },
  {
   "cell_type": "markdown",
   "id": "49044539-0466-45e8-8499-52041593aaa0",
   "metadata": {},
   "source": [
    "### 25. Extract all alphabets from a string."
   ]
  },
  {
   "cell_type": "code",
   "execution_count": 25,
   "id": "8b7c9c96-55df-4365-97bd-31893f6dfe00",
   "metadata": {},
   "outputs": [
    {
     "name": "stdout",
     "output_type": "stream",
     "text": [
      "helloworldinpython\n"
     ]
    }
   ],
   "source": [
    "myWord = \"h123ello world in 10pyt567hon89\"\n",
    "ext_alpha =''\n",
    "for char in myWord:\n",
    "    if char.isalpha():\n",
    "        ext_alpha += char\n",
    "print(ext_alpha)"
   ]
  },
  {
   "cell_type": "markdown",
   "id": "f187211c-0537-4599-aa13-43756fb6d11a",
   "metadata": {},
   "source": [
    "### 26. Count the number of uppercase letters in a string."
   ]
  },
  {
   "cell_type": "code",
   "execution_count": 26,
   "id": "c2667c58-e8b9-420d-97ab-8e3470f5f5c1",
   "metadata": {},
   "outputs": [
    {
     "name": "stdout",
     "output_type": "stream",
     "text": [
      "Total uppercase letters are  1\n"
     ]
    }
   ],
   "source": [
    "myWord = \"hello world in Python\"\n",
    "myWord = myWord.replace(' ','')\n",
    "upper_cnt = 0\n",
    "for char in myWord:\n",
    "    if char == char.upper():\n",
    "        upper_cnt += 1\n",
    "print(\"Total uppercase letters are \",upper_cnt)"
   ]
  },
  {
   "cell_type": "markdown",
   "id": "c1c2e838-5525-4045-a247-1f49cec880b7",
   "metadata": {},
   "source": [
    "### 27. Count the number of lowercase letters in a string."
   ]
  },
  {
   "cell_type": "code",
   "execution_count": 27,
   "id": "8774c655-b974-4a0c-8a0c-e52500cb0c70",
   "metadata": {},
   "outputs": [
    {
     "name": "stdout",
     "output_type": "stream",
     "text": [
      "Total lowercase letters are  12\n"
     ]
    }
   ],
   "source": [
    "myWord = \"hello WORLD in Python\"\n",
    "myWord = myWord.replace(' ','')\n",
    "lower_cnt = 0\n",
    "for char in myWord:\n",
    "    if char == char.lower():\n",
    "        lower_cnt += 1\n",
    "print(\"Total lowercase letters are \",lower_cnt)"
   ]
  },
  {
   "cell_type": "markdown",
   "id": "28834688-1579-459a-b98f-ba33f80797b0",
   "metadata": {},
   "source": [
    "### 28. Swap the case of each character in a string."
   ]
  },
  {
   "cell_type": "code",
   "execution_count": 28,
   "id": "ea6f5210-6c02-4792-9930-1eb3f096977f",
   "metadata": {},
   "outputs": [
    {
     "name": "stdout",
     "output_type": "stream",
     "text": [
      "HELLO world IN pYTHON\n"
     ]
    }
   ],
   "source": [
    "myWord = \"hello WORLD in Python\"\n",
    "output = ''\n",
    "for char in myWord:\n",
    "    if char == char.upper():\n",
    "        output = output + char.lower()\n",
    "    elif char == char.lower():\n",
    "        output = output + char.upper()\n",
    "    else:\n",
    "        output  = output + char\n",
    "        \n",
    "print(output)"
   ]
  },
  {
   "cell_type": "markdown",
   "id": "432b02fe-7d0c-4ad5-a72b-6de616f461fa",
   "metadata": {},
   "source": [
    "### 29. Remove a specific word from a string."
   ]
  },
  {
   "cell_type": "code",
   "execution_count": 29,
   "id": "25cd173b-f901-47da-876e-bdc3ffbb80ba",
   "metadata": {},
   "outputs": [
    {
     "name": "stdout",
     "output_type": "stream",
     "text": [
      "hello WORLD Python\n"
     ]
    }
   ],
   "source": [
    "myWord = \"hello WORLD in Python\"\n",
    "word = 'in'\n",
    "list_word = myWord.split()\n",
    "print(' '.join([char for char in list_word if char != word]))"
   ]
  },
  {
   "cell_type": "markdown",
   "id": "c7b36614-c44e-4641-aa84-fd5891872fc7",
   "metadata": {},
   "source": [
    "### 30. Check if a string is a valid email address."
   ]
  },
  {
   "cell_type": "code",
   "execution_count": 30,
   "id": "9c01b4f7-c62e-4540-8725-9b16035705fd",
   "metadata": {},
   "outputs": [
    {
     "name": "stdout",
     "output_type": "stream",
     "text": [
      "Email is valid\n"
     ]
    }
   ],
   "source": [
    "import re\n",
    "myEmail = \"test123@email.com\"\n",
    "if re.match(r\"[^@]+@[^@]+\\.[^@]+\",myEmail):\n",
    "    print(\"Email is valid\")\n",
    "else:\n",
    "    print(\"Email is invalid\")"
   ]
  },
  {
   "cell_type": "markdown",
   "id": "8c77101b-1e88-481e-934b-ab1028b4ff8b",
   "metadata": {},
   "source": [
    "### 31. Extract the username from an email address string."
   ]
  },
  {
   "cell_type": "code",
   "execution_count": 31,
   "id": "b85c1621-a2d1-4ac4-b130-92395be9bcb9",
   "metadata": {},
   "outputs": [
    {
     "name": "stdout",
     "output_type": "stream",
     "text": [
      "test123\n"
     ]
    }
   ],
   "source": [
    "myEmail = \"test123@email.com\"\n",
    "print(myEmail[:myEmail.index('@')])\n"
   ]
  },
  {
   "cell_type": "markdown",
   "id": "d770763f-64fd-4da3-87d0-7dbaee5c9f22",
   "metadata": {},
   "source": [
    "### 32. Extract the domain name from an email address string."
   ]
  },
  {
   "cell_type": "code",
   "execution_count": 32,
   "id": "515de2a4-4987-4a13-a724-3ff098ca28c0",
   "metadata": {},
   "outputs": [
    {
     "name": "stdout",
     "output_type": "stream",
     "text": [
      "E-Mail Domain is  email\n"
     ]
    }
   ],
   "source": [
    "myEmail = \"test123@email.com\"\n",
    "index_s = myEmail.index('@') + 1\n",
    "index_e = myEmail.index('.')\n",
    "print(\"E-Mail Domain is \",myEmail[index_s:index_e])"
   ]
  },
  {
   "cell_type": "markdown",
   "id": "b2049ced-7e9c-4eca-a227-3d4d93bebd1f",
   "metadata": {},
   "source": [
    "### 33. Replace multiple spaces in a string with a single space."
   ]
  },
  {
   "cell_type": "code",
   "execution_count": 33,
   "id": "bd753bec-bda3-4b72-a915-c8d56460d1e4",
   "metadata": {},
   "outputs": [
    {
     "name": "stdout",
     "output_type": "stream",
     "text": [
      "hello WORLD in Python\n"
     ]
    }
   ],
   "source": [
    "myWord = \"hello WORLD in              Python\"\n",
    "print(' '.join(myWord.split()))"
   ]
  },
  {
   "cell_type": "markdown",
   "id": "50384c0c-838d-4ee8-bc56-cf9cf9be1f3a",
   "metadata": {},
   "source": [
    "### 34. Check if a string is a valid URL."
   ]
  },
  {
   "cell_type": "code",
   "execution_count": 34,
   "id": "0ff2ae54-eb5e-4a4a-af04-fc3e5f26767b",
   "metadata": {},
   "outputs": [
    {
     "name": "stdout",
     "output_type": "stream",
     "text": [
      "Collecting validators\n",
      "  Downloading validators-0.22.0-py3-none-any.whl (26 kB)\n",
      "Installing collected packages: validators\n",
      "Successfully installed validators-0.22.0\n",
      "Note: you may need to restart the kernel to use updated packages.\n"
     ]
    }
   ],
   "source": [
    "pip install validators"
   ]
  },
  {
   "cell_type": "code",
   "execution_count": 35,
   "id": "9104624c-a947-4c11-9398-15e6e7c138d3",
   "metadata": {},
   "outputs": [
    {
     "name": "stdin",
     "output_type": "stream",
     "text": [
      "Enter any URL testing.com\n"
     ]
    },
    {
     "name": "stdout",
     "output_type": "stream",
     "text": [
      "Entered URL testing.com is not valid\n"
     ]
    }
   ],
   "source": [
    "import validators\n",
    "URL = input(\"Enter any URL\")\n",
    "if validators.url(URL):\n",
    "    print(\"Entered URL\",URL,\"is valid\")\n",
    "else:\n",
    "    print(\"Entered URL\",URL,\"is not valid\",)"
   ]
  },
  {
   "cell_type": "markdown",
   "id": "0fb8b42e-b40c-46f7-930e-953d495f0365",
   "metadata": {},
   "source": [
    "### 35. Extract the protocol (http or https) from a URL string."
   ]
  },
  {
   "cell_type": "code",
   "execution_count": 36,
   "id": "4eb09d3e-dd89-422d-ad89-f3bdb760ec13",
   "metadata": {},
   "outputs": [
    {
     "name": "stdin",
     "output_type": "stream",
     "text": [
      "Enter URL with http http://google.com\n"
     ]
    },
    {
     "name": "stdout",
     "output_type": "stream",
     "text": [
      "protocol is http\n"
     ]
    }
   ],
   "source": [
    "URL = input(\"Enter URL with http\")\n",
    "url_split = URL.split(':')\n",
    "print(\"protocol is\",url_split[0])"
   ]
  },
  {
   "cell_type": "markdown",
   "id": "716c2c1e-d5af-4a45-89b8-5105d6202074",
   "metadata": {},
   "source": [
    "### 36. Find the frequency of each character in a string.\n"
   ]
  },
  {
   "cell_type": "code",
   "execution_count": 37,
   "id": "48b4933c-c1db-4677-8775-f5a26b8c688f",
   "metadata": {},
   "outputs": [
    {
     "name": "stdout",
     "output_type": "stream",
     "text": [
      "t:2,e:1,s:1,i:1,n:1,g:1,"
     ]
    }
   ],
   "source": [
    "myWord = \"testing\"\n",
    "checked = []\n",
    "for i in myWord:\n",
    "    if i not in checked:\n",
    "        frequency = myWord.count(i)\n",
    "        print(i +\":\"+ str(frequency), end=',')\n",
    "        checked.append(i)\n",
    "        "
   ]
  },
  {
   "cell_type": "markdown",
   "id": "6ae7f840-4c7b-4c32-946a-3105e5d3200a",
   "metadata": {},
   "source": [
    "### 37. Remove all punctuation from a string."
   ]
  },
  {
   "cell_type": "code",
   "execution_count": 39,
   "id": "3459a095-569e-47e6-a11d-5477725fd94b",
   "metadata": {},
   "outputs": [
    {
     "name": "stdout",
     "output_type": "stream",
     "text": [
      "hello  WORLD in Python\n"
     ]
    }
   ],
   "source": [
    "import string\n",
    "myWord = \"hello @* WORLD in Python!\"\n",
    "removed_p = ''\n",
    "for char in myWord:\n",
    "    if char not in string.punctuation:\n",
    "        removed_p = removed_p + char\n",
    "print(removed_p)"
   ]
  },
  {
   "cell_type": "markdown",
   "id": "22310377-6f66-4bfc-8611-a9fd3674caf9",
   "metadata": {},
   "source": [
    "### 38. Check if a string contains only digits."
   ]
  },
  {
   "cell_type": "code",
   "execution_count": 40,
   "id": "efc2e99e-5da9-4c48-8aab-d2a1ac3bea9c",
   "metadata": {},
   "outputs": [
    {
     "name": "stdin",
     "output_type": "stream",
     "text": [
      "enter anything test123\n"
     ]
    },
    {
     "name": "stdout",
     "output_type": "stream",
     "text": [
      "is word contains only digit False\n"
     ]
    }
   ],
   "source": [
    "myWord = str(input(\"enter anything\"))\n",
    "print('is word contains only digit',myWord.isdigit())"
   ]
  },
  {
   "cell_type": "markdown",
   "id": "b3c8b9ef-fb09-44a7-9e99-a0c663145990",
   "metadata": {},
   "source": [
    "### 39. Check if a string contains only alphabets."
   ]
  },
  {
   "cell_type": "code",
   "execution_count": 41,
   "id": "0d7e22f6-ca84-4424-854c-244a62dafeda",
   "metadata": {},
   "outputs": [
    {
     "name": "stdout",
     "output_type": "stream",
     "text": [
      "is word contains only alphabets True\n"
     ]
    }
   ],
   "source": [
    "myWord = \"Data science\"\n",
    "print(\"is word contains only alphabets\", myWord.replace(' ','').isalpha())"
   ]
  },
  {
   "cell_type": "markdown",
   "id": "66556d92-ea41-493b-af29-02520f54d2c1",
   "metadata": {},
   "source": [
    "### 40. Convert a string to a list of characters."
   ]
  },
  {
   "cell_type": "code",
   "execution_count": 42,
   "id": "17db219e-fdd4-4362-a2f2-606a2b1fc838",
   "metadata": {},
   "outputs": [
    {
     "name": "stdout",
     "output_type": "stream",
     "text": [
      "['D', 'a', 't', 'a', 's', 'c', 'i', 'e', 'n', 'c', 'e']\n"
     ]
    }
   ],
   "source": [
    "myWord = \"Data science\"\n",
    "mylist = list(myWord.replace(' ',''))\n",
    "print(mylist)"
   ]
  },
  {
   "cell_type": "markdown",
   "id": "71745fbf-a442-4e40-a910-973194c2b6e1",
   "metadata": {},
   "source": [
    "### 41. Check if two strings are anagrams."
   ]
  },
  {
   "cell_type": "code",
   "execution_count": 43,
   "id": "a5c4a193-58e8-4d96-a9c1-3e1166c5fcaf",
   "metadata": {},
   "outputs": [
    {
     "name": "stdin",
     "output_type": "stream",
     "text": [
      "Enter anything for anagram madam\n",
      "Enter word to check anagram madam\n"
     ]
    },
    {
     "name": "stdout",
     "output_type": "stream",
     "text": [
      "madam and madam are anagram\n"
     ]
    }
   ],
   "source": [
    "str1 = input(\"Enter anything for anagram\")\n",
    "str2 = input(\"Enter word to check anagram\")\n",
    "str1 = str1.replace(' ','')\n",
    "str2 = str2.replace(' ','')\n",
    "if len(str1) == len(str2):\n",
    "    if sorted(str1.lower()) == sorted(str2.lower()):\n",
    "        print(str1,\"and\",str2,\"are anagram\")\n",
    "    else:\n",
    "        print(str1,\"and\",str2,\"are not anagram\")\n",
    "else:\n",
    "    print(str1,\"and\",str2,\"are not anagram\")"
   ]
  },
  {
   "cell_type": "markdown",
   "id": "15b609ea-39f1-4839-8687-f3796e73b44e",
   "metadata": {},
   "source": [
    "### 42. Encode a string using a Caesar cipher."
   ]
  },
  {
   "cell_type": "code",
   "execution_count": 44,
   "id": "6275a77d-0140-4f59-8f40-07c054c6dfdd",
   "metadata": {},
   "outputs": [
    {
     "name": "stdout",
     "output_type": "stream",
     "text": [
      "Hexe Wgmirgi Xiwx\n"
     ]
    }
   ],
   "source": [
    "myWord = 'Data Science Test'\n",
    "encrypt_key = 4 #this is used to change text, for example if my word is Apple then word is encrypted as Ettpj,\n",
    "# which is 4 letter from every letter\n",
    "result = ''\n",
    "for char in myWord:\n",
    "    if char != ' ':\n",
    "        result += chr(ord(char)+encrypt_key)\n",
    "    else:\n",
    "        result += ' '\n",
    "print(result)"
   ]
  },
  {
   "cell_type": "markdown",
   "id": "45a91455-06ca-488d-a23d-57a2d0daeda4",
   "metadata": {},
   "source": [
    "### 43. Decode a Caesar cipher encoded string."
   ]
  },
  {
   "cell_type": "code",
   "execution_count": 45,
   "id": "f7ec2798-99b9-4bd9-8e8f-c9bebc188ecc",
   "metadata": {},
   "outputs": [
    {
     "name": "stdout",
     "output_type": "stream",
     "text": [
      "Data Science Test\n"
     ]
    }
   ],
   "source": [
    "myWord = 'Hexe Wgmirgi Xiwx'\n",
    "encrypt_key = 4 #this is used to change text, for example if my word is Apple then word is encrypted as Ettpj,\n",
    "# which is 4 letter from every letter\n",
    "result = ''\n",
    "for char in myWord:\n",
    "    if char != ' ':\n",
    "        result += chr(ord(char) - encrypt_key)\n",
    "    else:\n",
    "        result += ' '\n",
    "print(result)"
   ]
  },
  {
   "cell_type": "markdown",
   "id": "c8e33ac1-18e3-413d-9244-0dfa72ba3ac6",
   "metadata": {},
   "source": [
    "### 44. Find the most frequent word in a string."
   ]
  },
  {
   "cell_type": "code",
   "execution_count": 46,
   "id": "2cc1f589-6cb3-4274-95ef-cb8541fce0ed",
   "metadata": {},
   "outputs": [
    {
     "name": "stdout",
     "output_type": "stream",
     "text": [
      "Frequent word is  example\n"
     ]
    }
   ],
   "source": [
    "myWord = 'Example for given example is another example'\n",
    "word_cnt = 0 \n",
    "freq_word = ''\n",
    "for word in myWord.lower().split():\n",
    "    if ( myWord.lower().count(word) > 1) & (myWord.lower().count(word) > word_cnt) :\n",
    "        word_cnt = myWord.lower().count(word)\n",
    "        freq_word = word\n",
    "        \n",
    "print(\"Frequent word is \",freq_word)"
   ]
  },
  {
   "cell_type": "markdown",
   "id": "78954891-2a49-4e5c-9109-d95be76376fe",
   "metadata": {},
   "source": [
    "### 45. Find all unique words in a string."
   ]
  },
  {
   "cell_type": "code",
   "execution_count": 47,
   "id": "54fd562a-f6ce-4ffd-8270-7f96d677df73",
   "metadata": {},
   "outputs": [
    {
     "name": "stdout",
     "output_type": "stream",
     "text": [
      "Unique words are ['Example', 'for', 'given', 'example', 'is', 'another']\n"
     ]
    }
   ],
   "source": [
    "myWord = 'Example for given example is another example'\n",
    "uniq = []\n",
    "for word in myWord.split():\n",
    "    if word not in uniq:\n",
    "        uniq.append(word)\n",
    "print(\"Unique words are\", uniq)"
   ]
  },
  {
   "cell_type": "markdown",
   "id": "8ccef4d0-b5fd-477f-a0ed-d78e29340f33",
   "metadata": {},
   "source": [
    "### 46. Count the number of syllables in a string."
   ]
  },
  {
   "cell_type": "code",
   "execution_count": 48,
   "id": "a75dd1de-e5a6-4884-9f52-57c74105559e",
   "metadata": {},
   "outputs": [
    {
     "name": "stdout",
     "output_type": "stream",
     "text": [
      "Syllables for given word is  2\n"
     ]
    }
   ],
   "source": [
    "myWord = \"ho-tel\"\n",
    "\n",
    "print(\"Syllables for given word is \", len(myWord.split('-')))"
   ]
  },
  {
   "cell_type": "markdown",
   "id": "086cba26-7cb1-47fe-8282-f44b992ee72e",
   "metadata": {},
   "source": [
    "### 47. Check if a string contains any special characters."
   ]
  },
  {
   "cell_type": "code",
   "execution_count": 49,
   "id": "0e3b3aeb-3b73-437b-840b-eaddd8beea26",
   "metadata": {},
   "outputs": [
    {
     "name": "stdout",
     "output_type": "stream",
     "text": [
      "no, special character\n"
     ]
    }
   ],
   "source": [
    "import string\n",
    "myWord = \"test\"\n",
    "if any(c in string.punctuation for c in myWord):\n",
    "    print(\"Yes, it has special character\")\n",
    "else:\n",
    "    print(\"no, special character\")\n"
   ]
  },
  {
   "cell_type": "markdown",
   "id": "1ec6dd02-1fcc-44ab-ae29-b74cfba250c1",
   "metadata": {},
   "source": [
    "### 48. Remove the nth word from a string."
   ]
  },
  {
   "cell_type": "code",
   "execution_count": 50,
   "id": "e43e66fb-425d-4292-a612-6d1825933bdc",
   "metadata": {},
   "outputs": [
    {
     "name": "stdout",
     "output_type": "stream",
     "text": [
      "cutt of the last word in this\n"
     ]
    }
   ],
   "source": [
    "myWord = \"cutt of the last word in this string\"\n",
    "print(myWord.rsplit(' ',1)[0])"
   ]
  },
  {
   "cell_type": "markdown",
   "id": "883dc2ef-844e-47d4-8ee0-8d2b88456ef9",
   "metadata": {},
   "source": [
    "### 49. Insert a word at the nth position in a string."
   ]
  },
  {
   "cell_type": "code",
   "execution_count": 51,
   "id": "ed3511a0-d279-45de-be49-24465d353128",
   "metadata": {},
   "outputs": [
    {
     "name": "stdout",
     "output_type": "stream",
     "text": [
      "insert word python in this string\n"
     ]
    }
   ],
   "source": [
    "myWord = \"insert word in this string\"\n",
    "word = \"python\"\n",
    "position = 2\n",
    "\n",
    "myList = myWord.split(' ')\n",
    "myList.insert(position,word)\n",
    "print(' '.join(myList))"
   ]
  },
  {
   "cell_type": "markdown",
   "id": "ba9242f6-c7f6-4c98-a18e-999057076d98",
   "metadata": {},
   "source": [
    "### 50. Convert a CSV string to a list of lists."
   ]
  },
  {
   "cell_type": "code",
   "execution_count": 52,
   "id": "ee8fbc13-8862-4095-a9c4-1e71d73f152c",
   "metadata": {},
   "outputs": [
    {
     "name": "stdout",
     "output_type": "stream",
     "text": [
      "Words are:   ['cutt', 'of', 'the', 'last', 'word', 'in', 'this', 'string']\n"
     ]
    }
   ],
   "source": [
    "myWord = \"cutt,of,the,last,word,in,this,string\"\n",
    "print(\"Words are:  \",myWord.split(','))"
   ]
  },
  {
   "cell_type": "markdown",
   "id": "e24f714f-ec15-450c-b9dd-2a86b17a4ea4",
   "metadata": {},
   "source": [
    "# List Data type Assignment"
   ]
  },
  {
   "cell_type": "markdown",
   "id": "c2f2c77e-d061-43d0-af16-622dde8c3d9a",
   "metadata": {},
   "source": [
    "### 1. Create a list with integers from 1 to 10."
   ]
  },
  {
   "cell_type": "code",
   "execution_count": 53,
   "id": "16f5cec1-781c-4eee-810d-cf256ea7f3b2",
   "metadata": {},
   "outputs": [
    {
     "name": "stdout",
     "output_type": "stream",
     "text": [
      "[1, 2, 3, 4, 5, 6, 7, 8, 9, 10]\n"
     ]
    }
   ],
   "source": [
    "num_l = []\n",
    "for i in range(1,11):\n",
    "    num_l.append(i)\n",
    "print(num_l)"
   ]
  },
  {
   "cell_type": "markdown",
   "id": "a67d1434-82de-4657-92e6-f2a42408efdf",
   "metadata": {},
   "source": [
    "### 2. Find the length of a list without using the `len()` function."
   ]
  },
  {
   "cell_type": "code",
   "execution_count": 54,
   "id": "4e46ffe8-f4ca-4e3a-a5a7-93a2ca300594",
   "metadata": {},
   "outputs": [
    {
     "name": "stdout",
     "output_type": "stream",
     "text": [
      "Length of given list is 10\n"
     ]
    }
   ],
   "source": [
    "cnt = 0\n",
    "for i in num_l:\n",
    "    cnt += 1\n",
    "print(\"Length of given list is\",cnt)"
   ]
  },
  {
   "cell_type": "markdown",
   "id": "8fd80bb5-e9bf-4541-a569-2b709ac7b546",
   "metadata": {},
   "source": [
    "### 3. Append an element to the end of a list."
   ]
  },
  {
   "cell_type": "code",
   "execution_count": 55,
   "id": "0593317d-48bb-4b7f-9839-b0b045c37508",
   "metadata": {},
   "outputs": [
    {
     "name": "stdout",
     "output_type": "stream",
     "text": [
      "Stats added as last item to list ['Python', 'Pandas', 'Numpy', 'Stats']\n"
     ]
    }
   ],
   "source": [
    "myList = [\"Python\", \"Pandas\", \"Numpy\"]\n",
    "myList.append(\"Stats\")\n",
    "print(\"Stats added as last item to list\", myList)"
   ]
  },
  {
   "cell_type": "markdown",
   "id": "92befeff-bbbb-4c94-bfa7-fc93754cb14f",
   "metadata": {},
   "source": [
    "### 4. Insert an element at a specific index in a list."
   ]
  },
  {
   "cell_type": "code",
   "execution_count": 56,
   "id": "831a51db-4d1c-4ddc-9122-c5ad12d0d1f5",
   "metadata": {},
   "outputs": [
    {
     "name": "stdout",
     "output_type": "stream",
     "text": [
      "EDA has been added after Numpy at specific position ['Python', 'Pandas', 'Numpy', 'EDA', 'Stats']\n"
     ]
    }
   ],
   "source": [
    "myList.insert(3,\"EDA\")\n",
    "print(\"EDA has been added after Numpy at specific position\",myList)"
   ]
  },
  {
   "cell_type": "markdown",
   "id": "dd3b9660-6f68-4007-bc16-0a5561c34b02",
   "metadata": {},
   "source": [
    "### 5. Remove an element from a list by its value."
   ]
  },
  {
   "cell_type": "code",
   "execution_count": 57,
   "id": "580f1ac9-4a93-4b0c-87df-4e9dba280f8e",
   "metadata": {},
   "outputs": [
    {
     "name": "stdout",
     "output_type": "stream",
     "text": [
      "EDA has been removed ['Python', 'Pandas', 'Numpy', 'Stats']\n"
     ]
    }
   ],
   "source": [
    "myList.remove('EDA')\n",
    "print(\"EDA has been removed\",myList)"
   ]
  },
  {
   "cell_type": "markdown",
   "id": "6ad73489-a9c4-4ca4-a7e8-19b5a7d0249a",
   "metadata": {},
   "source": [
    "### 6. Remove an element from a list by its index."
   ]
  },
  {
   "cell_type": "code",
   "execution_count": 58,
   "id": "5be1052d-a65b-4684-9f20-3b0f340acad6",
   "metadata": {},
   "outputs": [
    {
     "name": "stdout",
     "output_type": "stream",
     "text": [
      "Popped element from index 2(Numpy) ['Python', 'Pandas', 'Stats']\n"
     ]
    }
   ],
   "source": [
    "myList.pop(2)\n",
    "print(\"Popped element from index 2(Numpy)\", myList)"
   ]
  },
  {
   "cell_type": "markdown",
   "id": "ca7b9ee8-fac4-412b-af9f-d6d427d013f6",
   "metadata": {},
   "source": [
    "### 7. Check if an element exists in a list."
   ]
  },
  {
   "cell_type": "code",
   "execution_count": 59,
   "id": "3276ff71-79fb-466e-92e5-7426ac7d2e88",
   "metadata": {},
   "outputs": [
    {
     "name": "stdout",
     "output_type": "stream",
     "text": [
      "Element Pandas is present in list\n"
     ]
    }
   ],
   "source": [
    "element_to_check = 'Pandas'\n",
    "if element_to_check in myList:\n",
    "    print(\"Element\",element_to_check,\"is present in list\")\n",
    "else:\n",
    "    print(\"Element\",element_to_check,\"is not present in list\")\n",
    "# print('Return Pandas index if element is present',myList.index('Pandas'))"
   ]
  },
  {
   "cell_type": "markdown",
   "id": "7f0ecb1a-9e84-4572-b269-7ecd8b79fdf9",
   "metadata": {},
   "source": [
    "### 8. Find the index of the first occurrence of an element in a list."
   ]
  },
  {
   "cell_type": "raw",
   "id": "248b730a-1ea7-4194-94d6-15c1cf025490",
   "metadata": {},
   "source": [
    "find_first_occurance = 'Python'\n",
    "print('First occurence of',find_first_occurance,'is',myList.index(find_first_occurance))"
   ]
  },
  {
   "cell_type": "markdown",
   "id": "4ea8732b-4a1b-4e3a-9fe0-ed60e75b3519",
   "metadata": {},
   "source": [
    "### 9. Count the occurrences of an element in a list."
   ]
  },
  {
   "cell_type": "code",
   "execution_count": 60,
   "id": "25b76450-aae6-4230-96ba-e704e73aae34",
   "metadata": {},
   "outputs": [
    {
     "name": "stdout",
     "output_type": "stream",
     "text": [
      "Element Python occured 2 times\n"
     ]
    }
   ],
   "source": [
    "myList.append('Python')\n",
    "element_check = 'Python'\n",
    "no_of_occu = 0\n",
    "for element in myList:\n",
    "    if element == element_check:\n",
    "        no_of_occu += 1\n",
    "print(\"Element\",element_check,\"occured\",no_of_occu,\"times\")\n",
    "    "
   ]
  },
  {
   "cell_type": "markdown",
   "id": "c848323d-b13e-400c-b540-9b21e650fc55",
   "metadata": {},
   "source": [
    "### 10. Reverse the order of elements in a list."
   ]
  },
  {
   "cell_type": "code",
   "execution_count": 61,
   "id": "812ec896-4bf7-4f85-90a8-67f943e8176c",
   "metadata": {},
   "outputs": [
    {
     "name": "stdout",
     "output_type": "stream",
     "text": [
      "Correct order of list is  ['Python', 'Pandas', 'Stats', 'Python']\n",
      "Reverse order of list is ['Python', 'Stats', 'Pandas', 'Python']\n"
     ]
    }
   ],
   "source": [
    "print(\"Correct order of list is \",myList)\n",
    "print(\"Reverse order of list is\",myList[::-1])"
   ]
  },
  {
   "cell_type": "markdown",
   "id": "d4c3162a-87f4-4fe3-8e2b-be14b9733c55",
   "metadata": {},
   "source": [
    "### 11. Sort a list in ascending order."
   ]
  },
  {
   "cell_type": "code",
   "execution_count": 62,
   "id": "0635c926-dc79-4124-9c17-55de5dea46c9",
   "metadata": {},
   "outputs": [
    {
     "name": "stdout",
     "output_type": "stream",
     "text": [
      "Ascending order of list is ['Pandas', 'Python', 'Python', 'Stats']\n"
     ]
    }
   ],
   "source": [
    "myList.sort()\n",
    "print(\"Ascending order of list is\",myList)"
   ]
  },
  {
   "cell_type": "markdown",
   "id": "b1bbf979-cf24-455c-9012-ca6587db1743",
   "metadata": {},
   "source": [
    "### 12. Sort a list in descending order."
   ]
  },
  {
   "cell_type": "code",
   "execution_count": 63,
   "id": "b3aee999-edcb-43d0-af4d-bb647ac2d263",
   "metadata": {},
   "outputs": [
    {
     "name": "stdout",
     "output_type": "stream",
     "text": [
      "Descending order of list is ['Stats', 'Python', 'Python', 'Pandas']\n"
     ]
    }
   ],
   "source": [
    "myList.sort(reverse=True)\n",
    "print(\"Descending order of list is\",myList)"
   ]
  },
  {
   "cell_type": "markdown",
   "id": "a3061566-5f24-443c-8aff-8d24fde40712",
   "metadata": {},
   "source": [
    "### 13. Create a list of even numbers from 1 to 20."
   ]
  },
  {
   "cell_type": "code",
   "execution_count": 64,
   "id": "dbf42ad7-5406-4c82-8245-74dec374e299",
   "metadata": {},
   "outputs": [
    {
     "name": "stdout",
     "output_type": "stream",
     "text": [
      "Even numbers from 1 to 20 is [2, 4, 6, 8, 10, 12, 14, 16, 18, 20]\n"
     ]
    }
   ],
   "source": [
    "#using list comprehension, list is built only for even numbers\n",
    "even_nums = [i for i in range(1,21) if i % 2 == 0]\n",
    "print(\"Even numbers from 1 to 20 is\",even_nums)"
   ]
  },
  {
   "cell_type": "markdown",
   "id": "eca2363f-a652-4619-a711-8c073566302b",
   "metadata": {},
   "source": [
    "### 14. Create a list of odd numbers from 1 to 20."
   ]
  },
  {
   "cell_type": "code",
   "execution_count": 65,
   "id": "273446ad-1f31-4ad3-b4ea-5b884b1472ee",
   "metadata": {},
   "outputs": [
    {
     "name": "stdout",
     "output_type": "stream",
     "text": [
      "Odd numbers from 1 to 20 is [1, 3, 5, 7, 9, 11, 13, 15, 17, 19]\n"
     ]
    }
   ],
   "source": [
    "#using list comprehension, list is built only for even numbers\n",
    "odd_nums = [i for i in range(1,21) if i % 2 != 0]\n",
    "print(\"Odd numbers from 1 to 20 is\",odd_nums)"
   ]
  },
  {
   "cell_type": "markdown",
   "id": "8477ece0-93f1-46de-9576-f05af6c93240",
   "metadata": {},
   "source": [
    "### 15. Find the sum of all elements in a list."
   ]
  },
  {
   "cell_type": "code",
   "execution_count": 66,
   "id": "0fea38ed-0d25-45d5-bcff-993c513ca76a",
   "metadata": {},
   "outputs": [
    {
     "name": "stdout",
     "output_type": "stream",
     "text": [
      "Sum of even numbers list is 110\n"
     ]
    }
   ],
   "source": [
    "print(\"Sum of even numbers list is\", sum(even_nums))"
   ]
  },
  {
   "cell_type": "markdown",
   "id": "033156b7-c386-401b-add8-df5980d3a83e",
   "metadata": {},
   "source": [
    "### 16. Find the maximum value in a list."
   ]
  },
  {
   "cell_type": "code",
   "execution_count": 67,
   "id": "bbec83c1-d502-4959-b497-762b7bc550ea",
   "metadata": {},
   "outputs": [
    {
     "name": "stdout",
     "output_type": "stream",
     "text": [
      "Maximum value in even numbers list is 20\n"
     ]
    }
   ],
   "source": [
    "print(\"Maximum value in even numbers list is\",max(even_nums))"
   ]
  },
  {
   "cell_type": "markdown",
   "id": "4b9f34d4-acf4-4fe3-99be-6e974cc1d95e",
   "metadata": {},
   "source": [
    "### 17. Find the minimum value in a list."
   ]
  },
  {
   "cell_type": "code",
   "execution_count": 68,
   "id": "66199f8f-e0ee-40c1-a458-a16c6130c3c3",
   "metadata": {},
   "outputs": [
    {
     "name": "stdout",
     "output_type": "stream",
     "text": [
      "Minimum value in even numbers list is 2\n"
     ]
    }
   ],
   "source": [
    "print(\"Minimum value in even numbers list is\",min(even_nums))"
   ]
  },
  {
   "cell_type": "markdown",
   "id": "e453bd2f-8a20-4da7-8ca8-69d8c8e748fe",
   "metadata": {},
   "source": [
    "### 18. Create a list of squares of numbers from 1 to 10."
   ]
  },
  {
   "cell_type": "code",
   "execution_count": 69,
   "id": "5b8dbcb2-ac4a-46df-9c7c-06d73ecf50c3",
   "metadata": {},
   "outputs": [
    {
     "name": "stdout",
     "output_type": "stream",
     "text": [
      "List of squares from 1 to 10 is [1, 4, 9, 16, 25, 36, 49, 64, 81, 100]\n"
     ]
    }
   ],
   "source": [
    "nums_squares = [x**2  for x in range(1,11) ]\n",
    "print(\"List of squares from 1 to 10 is\",nums_squares)"
   ]
  },
  {
   "cell_type": "markdown",
   "id": "33a65bde-4070-49ec-83b5-b6731fd1e213",
   "metadata": {},
   "source": [
    "### 19. Create a list of random numbers."
   ]
  },
  {
   "cell_type": "code",
   "execution_count": 70,
   "id": "e61c0c12-535a-45c0-9043-e7a53bf07f0c",
   "metadata": {},
   "outputs": [
    {
     "name": "stdout",
     "output_type": "stream",
     "text": [
      "Random numebrs is [38, 38, 35, 38, 32, 33, 38, 33, 40, 37]\n"
     ]
    }
   ],
   "source": [
    "# using list comprehension and using random library\n",
    "import random\n",
    "random_nums = [random.randint(30,40) for i in range(10)]\n",
    "print(\"Random numebrs is\", random_nums)"
   ]
  },
  {
   "cell_type": "markdown",
   "id": "15278db9-6d7e-4424-aa1d-9a17e2e0aaf0",
   "metadata": {},
   "source": [
    "### 20. Remove duplicates from a list."
   ]
  },
  {
   "cell_type": "code",
   "execution_count": 71,
   "id": "90334f93-61c4-4a64-a343-726fd2bc8d59",
   "metadata": {},
   "outputs": [
    {
     "name": "stdout",
     "output_type": "stream",
     "text": [
      "List before removing duplicates ['Stats', 'Python', 'Python', 'Pandas']\n",
      "After removing duplicates ['Stats', 'Pandas', 'Python']\n"
     ]
    }
   ],
   "source": [
    "# convert list into set for removing duplicates\n",
    "print(\"List before removing duplicates\",myList)\n",
    "\n",
    "removed_duplicates = list(set(myList))\n",
    "print(\"After removing duplicates\",removed_duplicates)"
   ]
  },
  {
   "cell_type": "markdown",
   "id": "fb270fe9-678d-44e0-8402-09e785bf98d4",
   "metadata": {},
   "source": [
    "### 21. Find the common elements between two lists."
   ]
  },
  {
   "cell_type": "code",
   "execution_count": 72,
   "id": "95b7ca8b-c60e-48c4-9d09-83356c143fcf",
   "metadata": {},
   "outputs": [
    {
     "name": "stdout",
     "output_type": "stream",
     "text": [
      "elements from list1 ['Stats', 'Python', 'Python', 'Pandas']\n",
      "elements from list2  ['Stats', 'Pandas', 'Python', 'EDA', 'ML', 'DL', 'Gen AI']\n",
      "common elements between list are ['Stats', 'Python', 'Python', 'Pandas']\n"
     ]
    }
   ],
   "source": [
    "removed_duplicates.extend(['EDA','ML',\"DL\",\"Gen AI\"])\n",
    "print(\"elements from list1\",myList)\n",
    "print(\"elements from list2 \", removed_duplicates)\n",
    "common_elements = []\n",
    "for single in myList:\n",
    "    if single in removed_duplicates:\n",
    "        common_elements.append(single)\n",
    "print(\"common elements between list are\", common_elements)"
   ]
  },
  {
   "cell_type": "markdown",
   "id": "7f3e5024-af57-4989-8c6f-3b0f047ac6ce",
   "metadata": {},
   "source": [
    "### 22. Find the difference between two lists."
   ]
  },
  {
   "cell_type": "code",
   "execution_count": 73,
   "id": "5046933e-dc75-4f59-b795-38ad6475765e",
   "metadata": {},
   "outputs": [
    {
     "name": "stdout",
     "output_type": "stream",
     "text": [
      "elements from list1 ['Stats', 'Python', 'Python', 'Pandas']\n",
      "elements from list2  ['Stats', 'Pandas', 'Python', 'EDA', 'ML', 'DL', 'Gen AI']\n",
      "difference elements between list are ['EDA', 'ML', 'DL', 'Gen AI']\n"
     ]
    }
   ],
   "source": [
    "print(\"elements from list1\",myList)\n",
    "print(\"elements from list2 \", removed_duplicates)\n",
    "diff_elements = []\n",
    "if len(myList) > len(removed_duplicates):\n",
    "    for single in myList:\n",
    "        if single not in removed_duplicates:\n",
    "            diff_elements.append(single)\n",
    "elif len(removed_duplicates) > len(myList):\n",
    "    for single in removed_duplicates:\n",
    "        if single not in myList:\n",
    "            diff_elements.append(single)\n",
    "print(\"difference elements between list are\", diff_elements)"
   ]
  },
  {
   "cell_type": "markdown",
   "id": "4b179ef8-cb58-4e0c-87f0-1af9ce26012a",
   "metadata": {},
   "source": [
    "### 23. Merge two lists."
   ]
  },
  {
   "cell_type": "code",
   "execution_count": 74,
   "id": "2902f0be-f6f4-47ab-99be-90f121cc1ea6",
   "metadata": {},
   "outputs": [
    {
     "name": "stdout",
     "output_type": "stream",
     "text": [
      "Merged list is ['Stats', 'Python', 'Python', 'Pandas', 'EDA', 'ML', 'DL', 'Gen AI']\n"
     ]
    }
   ],
   "source": [
    "# As many ways to merge two list, used different method from google\n",
    "import itertools\n",
    "merged_list = list(itertools.chain(myList,diff_elements))\n",
    "print(\"Merged list is\",merged_list)"
   ]
  },
  {
   "cell_type": "markdown",
   "id": "a45837e1-1ac6-4b6a-ae90-754388e83988",
   "metadata": {},
   "source": [
    "### 24. Multiply all elements in a list by 2."
   ]
  },
  {
   "cell_type": "code",
   "execution_count": 75,
   "id": "96c23a6b-1a0c-44b0-9af8-2837ee5d7b41",
   "metadata": {},
   "outputs": [
    {
     "name": "stdout",
     "output_type": "stream",
     "text": [
      "Before multiply           [2, 4, 6, 8, 10, 12, 14, 16, 18, 20]\n",
      "List after multiples by 2 [4, 8, 12, 16, 20, 24, 28, 32, 36, 40]\n"
     ]
    }
   ],
   "source": [
    "multiply_2 = list(map(lambda x: x*2 , even_nums))\n",
    "print(\"Before multiply          \", even_nums)\n",
    "print(\"List after multiples by 2\",multiply_2)"
   ]
  },
  {
   "cell_type": "markdown",
   "id": "8dffaa40-3c86-4bc7-9504-a4398a277602",
   "metadata": {},
   "source": [
    "### 25. Filter out all even numbers from a list."
   ]
  },
  {
   "cell_type": "code",
   "execution_count": 76,
   "id": "13059ceb-a1e6-4292-b09c-74f44844c014",
   "metadata": {},
   "outputs": [
    {
     "name": "stdout",
     "output_type": "stream",
     "text": [
      "Before filter [1, 2, 3, 4, 5, 6, 7, 8, 9, 10, 11, 12, 13, 14, 15, 16, 17, 18, 19, 20, 21, 22, 23, 24, 25, 26, 27, 28, 29, 30, 31, 32, 33, 34, 35, 36, 37, 38, 39, 40]\n",
      "After filter  [2, 4, 6, 8, 10, 12, 14, 16, 18, 20, 22, 24, 26, 28, 30, 32, 34, 36, 38, 40]\n"
     ]
    }
   ],
   "source": [
    "complete_list = [i for i in range(1,41)]\n",
    "print(\"Before filter\",complete_list)\n",
    "even_filter = list(filter(lambda x : x %2 == 0,complete_list))\n",
    "print(\"After filter \",even_filter)"
   ]
  },
  {
   "cell_type": "markdown",
   "id": "b4e35c99-dbca-4cba-a45f-cbc5dd5cc54a",
   "metadata": {},
   "source": [
    "### 26. Convert a list of strings to a list of integers."
   ]
  },
  {
   "cell_type": "code",
   "execution_count": 77,
   "id": "f1e8548f-56bb-4c5c-a8cb-1adb34d48eaf",
   "metadata": {},
   "outputs": [
    {
     "name": "stdout",
     "output_type": "stream",
     "text": [
      "Numbers as string ['0', '1', '2', '3', '4', '5', '6', '7', '8', '9']\n",
      "Number as integer [0, 1, 2, 3, 4, 5, 6, 7, 8, 9]\n"
     ]
    }
   ],
   "source": [
    "str_list = [str(i) for i in range(10)]\n",
    "print(\"Numbers as string\",str_list)\n",
    "\n",
    "int_list = [ eval(i) for i in str_list]\n",
    "print(\"Number as integer\",int_list)"
   ]
  },
  {
   "cell_type": "markdown",
   "id": "4248e9ee-4117-4ab8-888c-6013cb2053de",
   "metadata": {},
   "source": [
    "### 27. Convert a list of integers to a list of strings."
   ]
  },
  {
   "cell_type": "code",
   "execution_count": 78,
   "id": "b99b8e71-f0d2-4241-b65c-2f5f9037e4fc",
   "metadata": {},
   "outputs": [
    {
     "name": "stdout",
     "output_type": "stream",
     "text": [
      "Numbers [0, 1, 2, 3, 4, 5, 6, 7, 8, 9]\n",
      "Numebrs to string ['0', '1', '2', '3', '4', '5', '6', '7', '8', '9']\n"
     ]
    }
   ],
   "source": [
    "del(str_list)\n",
    "print(\"Numbers\", int_list)\n",
    "str_list = [ str(i) for i in int_list]\n",
    "print(\"Numebrs to string\",str_list)"
   ]
  },
  {
   "cell_type": "markdown",
   "id": "c7bf3809-9058-43a3-85f3-5c8934b23932",
   "metadata": {},
   "source": [
    "### 28. Flatten a nested list."
   ]
  },
  {
   "cell_type": "code",
   "execution_count": 79,
   "id": "0940970e-1842-40a7-82df-390dc170cf96",
   "metadata": {},
   "outputs": [
    {
     "name": "stdout",
     "output_type": "stream",
     "text": [
      "Flattened list is [1, 2, 3, 4, 5, 6, (56+90j), 'Python', 'EDA', True]\n"
     ]
    }
   ],
   "source": [
    "nested_list = [1,2,3,[4,5,6],[56+90j,\"Python\"], ['EDA',True]]\n",
    "flat_list = []\n",
    "for single in nested_list:\n",
    "    if type(single) == list:\n",
    "        flat_list.extend(single)\n",
    "    else:\n",
    "        flat_list.append(single)\n",
    "print(\"Flattened list is\", flat_list)"
   ]
  },
  {
   "cell_type": "markdown",
   "id": "203d8944-05be-4157-98b8-8c21cdc9fb1d",
   "metadata": {},
   "source": [
    "### 29. Create a list of the first 10 Fibonacci numbers."
   ]
  },
  {
   "cell_type": "code",
   "execution_count": 80,
   "id": "22c4f4d4-de09-4468-aa27-cdc98567b27f",
   "metadata": {},
   "outputs": [
    {
     "name": "stdout",
     "output_type": "stream",
     "text": [
      "[1, 2, 3, 5, 8, 13, 21, 34, 55, 89, 144]\n"
     ]
    }
   ],
   "source": [
    "fib_list = [1,2]\n",
    "y = 0\n",
    "while len(fib_list) < 11:\n",
    "    for i in fib_list[len(fib_list)-2:len(fib_list)]:\n",
    "        y = i + y\n",
    "    else:\n",
    "        fib_list.append(y)\n",
    "        y = 0\n",
    "print(fib_list)"
   ]
  },
  {
   "cell_type": "markdown",
   "id": "aed487eb-d54f-4902-b724-cb4ec9297de8",
   "metadata": {},
   "source": [
    "### 30. Check if a list is sorted."
   ]
  },
  {
   "cell_type": "code",
   "execution_count": 81,
   "id": "3e0bdc37-7ac1-4a27-b3d0-fa89150daf43",
   "metadata": {},
   "outputs": [
    {
     "name": "stdout",
     "output_type": "stream",
     "text": [
      "List are not sorted\n"
     ]
    }
   ],
   "source": [
    "unsortedList = [1,3,2,1,99,123,45,3,89,19088,6,34,78,90.8]\n",
    "sortedList = sorted(unsortedList)\n",
    "if sortedList == unsortedList:\n",
    "    print(\"List are sorted\")\n",
    "else:\n",
    "    print(\"List are not sorted\")"
   ]
  },
  {
   "cell_type": "code",
   "execution_count": 82,
   "id": "ec6cb432-139b-473e-98a3-d4becb8a141d",
   "metadata": {},
   "outputs": [
    {
     "name": "stdout",
     "output_type": "stream",
     "text": [
      "List are sorted\n"
     ]
    }
   ],
   "source": [
    "unsortedList = sorted([1,3,2,1,99,123,45,3,89,19088,6,34,78,90.8])\n",
    "sortedList = sorted(unsortedList)\n",
    "if sortedList == unsortedList:\n",
    "    print(\"List are sorted\")\n",
    "else:\n",
    "    print(\"List are not sorted\")"
   ]
  },
  {
   "cell_type": "markdown",
   "id": "434ac9fa-f0d8-4695-aa0e-3bf5debcafc8",
   "metadata": {},
   "source": [
    "### 31. Rotate a list to the left by `n` positions."
   ]
  },
  {
   "cell_type": "code",
   "execution_count": 84,
   "id": "31b4491f-adf8-45d3-ac65-11b58f55603f",
   "metadata": {},
   "outputs": [
    {
     "name": "stdin",
     "output_type": "stream",
     "text": [
      "Postions you want to rotate the list 3\n"
     ]
    },
    {
     "name": "stdout",
     "output_type": "stream",
     "text": [
      "Beore rotate ['Stats', 'Python', 'Python', 'Pandas']\n",
      "Rotated shift to position 3 places ['Pandas', 'Stats', 'Python', 'Python']\n"
     ]
    }
   ],
   "source": [
    "positions = int( input(\"Postions you want to rotate the list\"))\n",
    "if positions >= len(myList):\n",
    "    print(\"List cannot be rotated, give less than\",len(myList))\n",
    "else:\n",
    "    rotated_list = myList[positions:] + myList[:positions]\n",
    "    print(\"Beore rotate\",myList)\n",
    "    print(\"Rotated shift to position\",positions,\"places\",rotated_list)"
   ]
  },
  {
   "cell_type": "markdown",
   "id": "bbc2ad26-0ea2-4842-9eb3-10a285bdb4fc",
   "metadata": {},
   "source": [
    "### 32. Rotate a list to the right by `n` positions."
   ]
  },
  {
   "cell_type": "code",
   "execution_count": 85,
   "id": "e2f3dd68-6124-43ae-a23b-13415e3a7aec",
   "metadata": {},
   "outputs": [
    {
     "name": "stdin",
     "output_type": "stream",
     "text": [
      "Postions you want to rotate the list 2\n"
     ]
    },
    {
     "name": "stdout",
     "output_type": "stream",
     "text": [
      "Beore rotate ['Stats', 'Python', 'Python', 'Pandas']\n",
      "Rotated shift to position 2 places ['Python', 'Pandas', 'Stats', 'Python']\n"
     ]
    }
   ],
   "source": [
    "positions = int( input(\"Postions you want to rotate the list\"))\n",
    "if positions >= len(myList):\n",
    "    print(\"List cannot be rotated, give less than\",len(myList))\n",
    "else:\n",
    "    rotated_list = myList[-positions:] + myList[:-positions]\n",
    "    print(\"Beore rotate\",myList)\n",
    "    print(\"Rotated shift to position\",positions,\"places\",rotated_list)"
   ]
  },
  {
   "cell_type": "markdown",
   "id": "2e43fce3-0d89-42c5-8094-d56b3c599a64",
   "metadata": {},
   "source": [
    "### 33. Create a list of prime numbers up to 50."
   ]
  },
  {
   "cell_type": "code",
   "execution_count": 86,
   "id": "07054e79-b110-406f-8367-7255625b13c8",
   "metadata": {},
   "outputs": [
    {
     "name": "stdout",
     "output_type": "stream",
     "text": [
      "List of first 50 prime numbers [1, 3, 5, 7, 11, 13, 17, 19, 23, 29, 31, 37, 41, 43, 47]\n"
     ]
    }
   ],
   "source": [
    "prime_list = [1]\n",
    "i = 3\n",
    "while i<= 50:\n",
    "    for j in range(2,i):\n",
    "        if i % j == 0:\n",
    "            break;\n",
    "    else:\n",
    "        prime_list.append(i)\n",
    "        i += 1\n",
    "    i += 1\n",
    "print(\"List of first 50 prime numbers\",prime_list)"
   ]
  },
  {
   "cell_type": "markdown",
   "id": "18da8bc8-4c8b-4048-a027-ce89f31c7637",
   "metadata": {},
   "source": [
    "### 34. Split a list into chunks of size `n`."
   ]
  },
  {
   "cell_type": "code",
   "execution_count": 87,
   "id": "15bd531f-bed2-47a6-85d4-197525d006e8",
   "metadata": {},
   "outputs": [
    {
     "name": "stdout",
     "output_type": "stream",
     "text": [
      "Chunk data [[1, 2, 3], [4, 5]]\n"
     ]
    }
   ],
   "source": [
    "i = 3\n",
    "y = 0\n",
    "chunks_list = []\n",
    "myl = [1,2,3,4,5]\n",
    "if len(myl) < i:\n",
    "    print('cannot')\n",
    "else:\n",
    "    while y < len(myl):\n",
    "        chunks_list.append([myl[i] for i in range(y,i+y) if i < len(myl)])\n",
    "        y += i\n",
    "print(\"Chunk data\",chunks_list)"
   ]
  },
  {
   "cell_type": "markdown",
   "id": "5871b014-c751-4cca-b888-5bc04a317730",
   "metadata": {},
   "source": [
    "### 35. Find the second largest number in a list."
   ]
  },
  {
   "cell_type": "code",
   "execution_count": 88,
   "id": "be1ffda2-99e6-4b0b-b052-77fe4935cfbf",
   "metadata": {},
   "outputs": [
    {
     "name": "stdout",
     "output_type": "stream",
     "text": [
      "List is  [1, 2, 3, 4, 5]\n",
      "Maximum number in list is 5\n"
     ]
    }
   ],
   "source": [
    "print(\"List is \",myl)\n",
    "max_num = max(myl)\n",
    "# for i in myl:\n",
    "#     print(i)\n",
    "print(\"Maximum number in list is\",max_num)"
   ]
  },
  {
   "cell_type": "markdown",
   "id": "c37cfeb2-e4b7-4951-b816-08a61595b166",
   "metadata": {},
   "source": [
    "### 36. Replace every element in a list with its square."
   ]
  },
  {
   "cell_type": "code",
   "execution_count": 89,
   "id": "2b88658f-38d5-482d-9900-24195249ead2",
   "metadata": {},
   "outputs": [
    {
     "name": "stdout",
     "output_type": "stream",
     "text": [
      "List before square [1, 2, 3, 7, 9, 4, 5]\n",
      "List after square [1, 4, 9, 49, 81, 16, 25]\n"
     ]
    }
   ],
   "source": [
    "list_num = [1,2,3,7,9,4,5]\n",
    "print(\"List before square\",list_num)\n",
    "list_num = [i ** 2 for i in list_num]\n",
    "print(\"List after square\",list_num)"
   ]
  },
  {
   "cell_type": "markdown",
   "id": "61e3596d-f3d4-400c-8356-bfc48d9bdeb7",
   "metadata": {},
   "source": [
    "### 37. Convert a list to a dictionary where list elements become keys and their\n",
    "### indices become values."
   ]
  },
  {
   "cell_type": "code",
   "execution_count": 90,
   "id": "a7c273df-1bfb-44d8-98a4-da75464c0e54",
   "metadata": {},
   "outputs": [
    {
     "name": "stdout",
     "output_type": "stream",
     "text": [
      "{1: 0, 4: 1, 9: 2, 49: 3, 81: 4, 16: 5, 25: 6}\n"
     ]
    }
   ],
   "source": [
    "mydict = {}\n",
    "for i in list_num:\n",
    "    mydict[i] = list_num.index(i)\n",
    "print(mydict)"
   ]
  },
  {
   "cell_type": "markdown",
   "id": "daeb9dc1-0460-44e6-811c-84bd1a63c1b1",
   "metadata": {},
   "source": [
    "### 38. Shuffle the elements of a list randomly."
   ]
  },
  {
   "cell_type": "code",
   "execution_count": 91,
   "id": "224a31f8-1423-4c32-b8e5-9d28d9935675",
   "metadata": {},
   "outputs": [
    {
     "name": "stdout",
     "output_type": "stream",
     "text": [
      "After shuffle [12, 2, 6, 2, 34, 3, 7, 1, 4, 1, 67, 1, 3, 5]\n"
     ]
    }
   ],
   "source": [
    "import random\n",
    "l = [1,2,3,4,5,6,7,1,12,34,67,1,2,3]\n",
    " \n",
    "random.shuffle(l)\n",
    "print(\"After shuffle\",l)"
   ]
  },
  {
   "cell_type": "markdown",
   "id": "b054a947-9331-45f0-a293-6cc317b2dfe6",
   "metadata": {},
   "source": [
    "### 39. Create a list of the first 10 factorial numbers."
   ]
  },
  {
   "cell_type": "code",
   "execution_count": 92,
   "id": "49b7cbb9-1610-4b62-8a59-f8a157d0d656",
   "metadata": {},
   "outputs": [],
   "source": [
    "def fac_n(n):\n",
    "    if n <= 1:\n",
    "        return 1\n",
    "    else:\n",
    "        x = 1\n",
    "        for i in range(1,n+1):\n",
    "            x = x * i\n",
    "    return x\n"
   ]
  },
  {
   "cell_type": "code",
   "execution_count": 93,
   "id": "11009648-6938-4b73-ac64-6fc26a869fd9",
   "metadata": {},
   "outputs": [
    {
     "name": "stdout",
     "output_type": "stream",
     "text": [
      "First 10 factorial number [1, 2, 6, 24, 120, 720, 5040, 40320, 362880, 3628800]\n"
     ]
    }
   ],
   "source": [
    "fac_list = [fac_n(i) for i in range(1,11)]\n",
    "print(\"First 10 factorial number\",fac_list)"
   ]
  },
  {
   "cell_type": "markdown",
   "id": "bb728617-71dc-4b84-a05b-a5319d9f56e8",
   "metadata": {},
   "source": [
    "### 40. Check if two lists have at least one element in common."
   ]
  },
  {
   "cell_type": "code",
   "execution_count": 94,
   "id": "5c8c65c9-debe-42aa-898d-166cb5d738c1",
   "metadata": {},
   "outputs": [],
   "source": [
    "def common_l(l1,l2):\n",
    "    for i in l1:\n",
    "        if i in l2:\n",
    "            return True\n",
    "    else:\n",
    "        return False"
   ]
  },
  {
   "cell_type": "code",
   "execution_count": 95,
   "id": "4bbb258b-f671-4d31-b6c5-511cc954e7a2",
   "metadata": {},
   "outputs": [
    {
     "name": "stdout",
     "output_type": "stream",
     "text": [
      "list 1 and list2 does not have any common element\n",
      "list1 and list2 have common elements\n"
     ]
    }
   ],
   "source": [
    "l1 = [1,2,3,4,5]\n",
    "l2 = [6,7,8,9]\n",
    "l3 = [10,11,2,3]\n",
    "\n",
    "if common_l(l1,l2):\n",
    "    print(\"list1 and list2 have common elements\")\n",
    "else:\n",
    "    print(\"list 1 and list2 does not have any common element\")\n",
    "    \n",
    "if common_l(l1,l3):\n",
    "    print(\"list1 and list2 have common elements\")\n",
    "else:\n",
    "    print(\"does not have any common element\")\n",
    "    "
   ]
  },
  {
   "cell_type": "markdown",
   "id": "96b70b43-d40c-4a42-94eb-3c53e248ded7",
   "metadata": {},
   "source": [
    "### 41. Remove all elements from a list."
   ]
  },
  {
   "cell_type": "code",
   "execution_count": 96,
   "id": "8b3c79b1-34b9-4513-a4e2-b2e31b03e4dd",
   "metadata": {},
   "outputs": [
    {
     "name": "stdout",
     "output_type": "stream",
     "text": [
      "Length of list 0\n"
     ]
    }
   ],
   "source": [
    "l_remove = [1,2,4,90+89j,{2,3,4}]\n",
    "l_remove.clear()\n",
    "print(\"Length of list\",len(l_remove))"
   ]
  },
  {
   "cell_type": "markdown",
   "id": "53e78529-1420-4abd-8156-83224f92bc59",
   "metadata": {},
   "source": [
    "### 42. Replace negative numbers in a list with 0."
   ]
  },
  {
   "cell_type": "code",
   "execution_count": 97,
   "id": "3a5f8076-9ddc-4ce6-8f75-f0392f09464a",
   "metadata": {},
   "outputs": [
    {
     "name": "stdout",
     "output_type": "stream",
     "text": [
      "Original list [1, 2, 11, -20, -40, 23, -44]\n",
      "Negative numbers are replaced [1, 2, 11, 0, 0, 23, 0]\n"
     ]
    }
   ],
   "source": [
    "l = [1,2,11,-20,-40,23,-44]\n",
    "l_negative = [0 if i < 0 else i for i in l ]\n",
    "print(\"Original list\",l)\n",
    "print(\"Negative numbers are replaced\",l_negative)"
   ]
  },
  {
   "cell_type": "markdown",
   "id": "6bed0e14-1b99-4cee-91db-284e32632239",
   "metadata": {},
   "source": [
    "### 43. Convert a string into a list of words."
   ]
  },
  {
   "cell_type": "code",
   "execution_count": 98,
   "id": "e691e747-ce02-467b-ae36-c45eb3a7ad06",
   "metadata": {},
   "outputs": [
    {
     "name": "stdout",
     "output_type": "stream",
     "text": [
      "String into list ['P', 'y', 't', 'h', 'o', 'n']\n"
     ]
    }
   ],
   "source": [
    "s = 'Python'\n",
    "s_list = list(s)\n",
    "print(\"String into list\",s_list)"
   ]
  },
  {
   "cell_type": "markdown",
   "id": "7de7d639-07f5-46a2-93e3-1c70943da6eb",
   "metadata": {},
   "source": [
    "### 44. Convert a list of words into a string."
   ]
  },
  {
   "cell_type": "code",
   "execution_count": 99,
   "id": "e1971113-8409-4486-bd2c-410c04cff36b",
   "metadata": {},
   "outputs": [
    {
     "name": "stdout",
     "output_type": "stream",
     "text": [
      "After list into string DS Python EDA M\n"
     ]
    }
   ],
   "source": [
    "l = ['DS','Python','EDA','M']\n",
    "s = ' '\n",
    "s = s.join(l)\n",
    "print(\"After list into string\",s)"
   ]
  },
  {
   "cell_type": "markdown",
   "id": "2f6febf6-6ec5-42f6-8310-015686627e6e",
   "metadata": {},
   "source": [
    "### 45. Create a list of the first `n` powers of 2."
   ]
  },
  {
   "cell_type": "code",
   "execution_count": 100,
   "id": "25d85923-10e5-4f85-9672-da1355160b0d",
   "metadata": {},
   "outputs": [
    {
     "name": "stdin",
     "output_type": "stream",
     "text": [
      "Enter any number  10\n"
     ]
    },
    {
     "name": "stdout",
     "output_type": "stream",
     "text": [
      "List with power of 2 [1, 4, 9, 16, 25, 36, 49, 64, 81, 100]\n"
     ]
    }
   ],
   "source": [
    "l_power_2 = int(input(\"Enter any number \"))\n",
    "l_power = [i**2 for i in range(1,l_power_2+1)]\n",
    "print(\"List with power of 2\", l_power)"
   ]
  },
  {
   "cell_type": "markdown",
   "id": "41e12266-c0c2-4cee-b741-ff74194088c9",
   "metadata": {},
   "source": [
    "### 46. Find the longest string in a list of strings."
   ]
  },
  {
   "cell_type": "code",
   "execution_count": 101,
   "id": "a5427983-6548-493b-aacf-cbafc8de8b91",
   "metadata": {},
   "outputs": [
    {
     "name": "stdout",
     "output_type": "stream",
     "text": [
      "longest string in list ['DS', 'Python', 'EDA', 'M'] is Python\n"
     ]
    }
   ],
   "source": [
    "l1 = ['DS','Python','EDA','M']\n",
    "print(f\"longest string in list {l1} is {max(l1,key=len)}\")"
   ]
  },
  {
   "cell_type": "markdown",
   "id": "010727d2-544f-4f1f-ad64-cb5616fc5c1f",
   "metadata": {},
   "source": [
    "### 47. Find the shortest string in a list of strings."
   ]
  },
  {
   "cell_type": "code",
   "execution_count": 102,
   "id": "20b09f94-2a5e-4011-9f91-a6011eb4c9bb",
   "metadata": {},
   "outputs": [
    {
     "name": "stdout",
     "output_type": "stream",
     "text": [
      "shortest string in list ['DS', 'Python', 'EDA', 'M'] is M\n"
     ]
    }
   ],
   "source": [
    "l1 = ['DS','Python','EDA','M']\n",
    "print(f\"shortest string in list {l1} is {min(l1,key=len)}\")"
   ]
  },
  {
   "cell_type": "markdown",
   "id": "2266e573-fa86-42fa-a922-7df6732cbf09",
   "metadata": {},
   "source": [
    "### 48. Create a list of the first `n` triangular numbers."
   ]
  },
  {
   "cell_type": "code",
   "execution_count": 103,
   "id": "6fc20610-9ca3-4a04-8537-0cd0caf1467e",
   "metadata": {},
   "outputs": [],
   "source": [
    "def list_tri(n):\n",
    "    l1 = []\n",
    "    x = 0\n",
    "    for i in range(1,n+1):\n",
    "        x = x+i\n",
    "        l1.append(x)\n",
    "    return l1"
   ]
  },
  {
   "cell_type": "code",
   "execution_count": 104,
   "id": "d14e058d-a251-456e-8c3c-01aa1a8dea55",
   "metadata": {},
   "outputs": [
    {
     "name": "stdin",
     "output_type": "stream",
     "text": [
      "Enter any number 20\n"
     ]
    },
    {
     "name": "stdout",
     "output_type": "stream",
     "text": [
      "List triangular number is [1, 3, 6, 10, 15, 21, 28, 36, 45, 55, 66, 78, 91, 105, 120, 136, 153, 171, 190, 210]\n"
     ]
    }
   ],
   "source": [
    "list_tri_n = int(input(\"Enter any number\"))\n",
    "print(\"List triangular number is\",list_tri(list_tri_n))"
   ]
  },
  {
   "cell_type": "markdown",
   "id": "5eda4b59-0da2-4bae-9f4c-1279a8101dad",
   "metadata": {},
   "source": [
    "### 49. Check if a list contains another list as a subsequence."
   ]
  },
  {
   "cell_type": "code",
   "execution_count": 110,
   "id": "0e82e0a3-7043-4aff-a4cc-d76ede545fef",
   "metadata": {},
   "outputs": [],
   "source": [
    "def subseq(l1,l2):\n",
    "    len_l1 = len(l1)\n",
    "    len_l2 = len(l2)\n",
    "    print(len_l1,len_l2)\n",
    "    if len_l2 < len_l1:\n",
    "        l = 0\n",
    "        for i in range(0,len_l2):\n",
    "            if l2 == l1[l:len_l2+l]:\n",
    "                return True\n",
    "            else:\n",
    "                l += 1\n",
    "    return False\n"
   ]
  },
  {
   "cell_type": "code",
   "execution_count": 111,
   "id": "6418a693-a30b-457a-9442-f7b5d3802c4f",
   "metadata": {},
   "outputs": [
    {
     "name": "stdout",
     "output_type": "stream",
     "text": [
      "5 3\n",
      "List2 is subsequence of list1 True\n"
     ]
    }
   ],
   "source": [
    "l1 = [1,2,3,4,5]\n",
    "l2 = [3,4,5]\n",
    "print(\"List2 is subsequence of list1\",subseq(l1,l2))"
   ]
  },
  {
   "cell_type": "markdown",
   "id": "e97c6faa-4e60-46bd-8a73-e881cbb53249",
   "metadata": {},
   "source": [
    "### 50. Swap two elements in a list by their indices."
   ]
  },
  {
   "cell_type": "code",
   "execution_count": 112,
   "id": "064feb44-c522-403e-a4be-716210f6ae9b",
   "metadata": {},
   "outputs": [
    {
     "name": "stdout",
     "output_type": "stream",
     "text": [
      "Before swapping [1, 2]\n",
      "After swapping [2, 1]\n"
     ]
    }
   ],
   "source": [
    "l1 = [1,2]\n",
    "print(\"Before swapping\",l1)\n",
    "l1[0],l1[1] = l1[1],l1[0]\n",
    "print(\"After swapping\",l1)"
   ]
  },
  {
   "cell_type": "markdown",
   "id": "a8111b00-f2ab-4622-ae60-76cf15f220d1",
   "metadata": {},
   "source": [
    "### Tuple Based Practice Problem"
   ]
  },
  {
   "cell_type": "markdown",
   "id": "8820449c-76bc-4bd2-88d0-a8cf520ed211",
   "metadata": {},
   "source": [
    "### 1. Create a tuple with integers from 1 to 5."
   ]
  },
  {
   "cell_type": "code",
   "execution_count": 113,
   "id": "876a87c1-7bc4-4273-ba88-78aa348f5fd0",
   "metadata": {},
   "outputs": [
    {
     "name": "stdout",
     "output_type": "stream",
     "text": [
      "Typle with intergers (1, 2, 3, 4, 5)\n"
     ]
    }
   ],
   "source": [
    "mytuple = (1,2,3,4,5)\n",
    "print(\"Typle with intergers\",mytuple)"
   ]
  },
  {
   "cell_type": "markdown",
   "id": "9f4d8bde-98ce-4f66-a5a7-f9723937025d",
   "metadata": {},
   "source": [
    "### 2. Access the third element of a tuple."
   ]
  },
  {
   "cell_type": "code",
   "execution_count": 114,
   "id": "c1036882-b264-49d4-9b35-207923222f7a",
   "metadata": {},
   "outputs": [
    {
     "name": "stdout",
     "output_type": "stream",
     "text": [
      "(1, 2, 3, 4, 5)\n",
      "Third element of tuple is  3\n"
     ]
    }
   ],
   "source": [
    "print(mytuple)\n",
    "print(\"Third element of tuple is \",mytuple[2])"
   ]
  },
  {
   "cell_type": "markdown",
   "id": "dfbd8398-959d-4f3c-a412-c87fe3a6d0e4",
   "metadata": {},
   "source": [
    "### 3. Find the length of a tuple without using the `len()` function."
   ]
  },
  {
   "cell_type": "code",
   "execution_count": 115,
   "id": "3980ff04-1349-471e-ba05-4549176f6c26",
   "metadata": {},
   "outputs": [
    {
     "name": "stdout",
     "output_type": "stream",
     "text": [
      "Length of tuple is 5\n"
     ]
    }
   ],
   "source": [
    "i = 0\n",
    "for x in mytuple:\n",
    "    i +=1\n",
    "print(\"Length of tuple is\",i)"
   ]
  },
  {
   "cell_type": "markdown",
   "id": "879d7b7a-f66b-417b-9b82-5b8935590870",
   "metadata": {},
   "source": [
    "### 4. Count the occurrences of an element in a tuple."
   ]
  },
  {
   "cell_type": "code",
   "execution_count": 116,
   "id": "ca3bca76-7cc7-42c2-a549-04fcd54fb665",
   "metadata": {},
   "outputs": [
    {
     "name": "stdout",
     "output_type": "stream",
     "text": [
      "In tuple (2, 4, 6, 8, 10, 2, 8, 22, 34) element 8 occured 2 times\n"
     ]
    }
   ],
   "source": [
    "mytuple = (2,4,6,8,10,2,8,22,34)\n",
    "element_occurence = 8\n",
    "count = 0\n",
    "for i in mytuple:\n",
    "    if element_occurence == i:\n",
    "        count += 1\n",
    "print(\"In tuple\",mytuple,\"element\",element_occurence,\"occured\",count,\"times\")"
   ]
  },
  {
   "cell_type": "markdown",
   "id": "4d29b385-a224-48fa-82d2-9582866a792e",
   "metadata": {},
   "source": [
    "### 5. Find the index of the first occurrence of an element in a tuple."
   ]
  },
  {
   "cell_type": "code",
   "execution_count": 117,
   "id": "e1dac163-554e-4d0e-84e4-b811dc8d8348",
   "metadata": {},
   "outputs": [
    {
     "name": "stdout",
     "output_type": "stream",
     "text": [
      "In tuple (2, 4, 6, 8, 10, 2, 8, 22, 34) element 8 is at position 3\n"
     ]
    }
   ],
   "source": [
    "mytuple = (2,4,6,8,10,2,8,22,34)\n",
    "element_occurence = 8\n",
    "print(\"In tuple\",mytuple,\"element\",element_occurence,\"is at position\",mytuple.index(element_occurence))"
   ]
  },
  {
   "cell_type": "markdown",
   "id": "a4a7bf0d-c69e-498b-b5b1-81b97101e344",
   "metadata": {},
   "source": [
    "### 6. Check if an element exists in a tuple."
   ]
  },
  {
   "cell_type": "code",
   "execution_count": 118,
   "id": "c9679ecc-63fb-406b-9357-4baaac1eb76c",
   "metadata": {},
   "outputs": [
    {
     "name": "stdout",
     "output_type": "stream",
     "text": [
      "Element 40 not found in tuple (2, 4, 6, 8, 10, 2, 8, 22, 34) \n"
     ]
    }
   ],
   "source": [
    "mytuple = (2,4,6,8,10,2,8,22,34)\n",
    "element_find = 40\n",
    "if element_find in mytuple:\n",
    "    print(f\"Element {element_find} found in tuple {mytuple} \")\n",
    "else:\n",
    "    print(f\"Element {element_find} not found in tuple {mytuple} \")"
   ]
  },
  {
   "cell_type": "markdown",
   "id": "05d141f0-3723-412d-b80f-62214df47b7c",
   "metadata": {},
   "source": [
    "### 7. Convert a tuple to a list."
   ]
  },
  {
   "cell_type": "code",
   "execution_count": 119,
   "id": "db138c5a-8999-43d7-85a2-30a2b5c053ba",
   "metadata": {},
   "outputs": [
    {
     "name": "stdout",
     "output_type": "stream",
     "text": [
      "Tuple (2, 4, 6, 8, 10, 2, 8, 22, 34) has been converted into list  [2, 4, 6, 8, 10, 2, 8, 22, 34]\n"
     ]
    }
   ],
   "source": [
    "mytuple = (2,4,6,8,10,2,8,22,34)\n",
    "mylist = list(mytuple)\n",
    "print(\"Tuple\",mytuple,\"has been converted into list \",mylist)"
   ]
  },
  {
   "cell_type": "markdown",
   "id": "4360c594-c55b-410a-b0e4-9924a2870a37",
   "metadata": {},
   "source": [
    "### 8. Convert a list to a tuple."
   ]
  },
  {
   "cell_type": "code",
   "execution_count": 120,
   "id": "8ef97ff2-084e-4968-a0cf-f7d6325a5830",
   "metadata": {},
   "outputs": [
    {
     "name": "stdout",
     "output_type": "stream",
     "text": [
      "List [2, 4, 6, 8, 10, 2, 8, 22, 34] has been converted into tuple (2, 4, 6, 8, 10, 2, 8, 22, 34)\n"
     ]
    }
   ],
   "source": [
    "print(f\"List {mylist} has been converted into tuple {tuple(mylist)}\")"
   ]
  },
  {
   "cell_type": "markdown",
   "id": "08989db4-b54a-4e71-8e34-8cc089105884",
   "metadata": {},
   "source": [
    "### 9. Unpack the elements of a tuple into variables."
   ]
  },
  {
   "cell_type": "code",
   "execution_count": 121,
   "id": "f93ee1ea-f758-401d-ad57-656dc2fa945d",
   "metadata": {},
   "outputs": [
    {
     "name": "stdout",
     "output_type": "stream",
     "text": [
      "Number 1 is 3\n",
      "Number 2 is 4\n",
      "Number 3 is 5\n"
     ]
    }
   ],
   "source": [
    "packed_tuple = (3,4,5)\n",
    "\n",
    "num1 , num2 , num3 = packed_tuple\n",
    "print(\"Number 1 is\",num1)\n",
    "print(f\"Number 2 is {num2}\")\n",
    "print(\"Number 3 is %i\"%num3)"
   ]
  },
  {
   "cell_type": "markdown",
   "id": "e842be5f-c7e0-4ed9-ab10-bf3ef90855c9",
   "metadata": {},
   "source": [
    "### 10. Create a tuple of even numbers from 1 to 10."
   ]
  },
  {
   "cell_type": "code",
   "execution_count": 122,
   "id": "f16f1fef-b51b-45d8-9a91-52ba46fe24ef",
   "metadata": {},
   "outputs": [
    {
     "name": "stdout",
     "output_type": "stream",
     "text": [
      "Tuple which has even number from 1 to 10 is (2, 4, 6, 8, 10)\n"
     ]
    }
   ],
   "source": [
    "even_list = [i for i in range(1,11) if i % 2 == 0 ]\n",
    "even_tuple = tuple(even_list)\n",
    "print(\"Tuple which has even number from 1 to 10 is\",even_tuple)"
   ]
  },
  {
   "cell_type": "markdown",
   "id": "49e27b1f-f390-418a-9d2c-17d64ea01ae2",
   "metadata": {},
   "source": [
    "### 11. Create a tuple of odd numbers from 1 to 10."
   ]
  },
  {
   "cell_type": "code",
   "execution_count": 123,
   "id": "7262f7dd-da89-4152-9bc2-3191be32e81b",
   "metadata": {},
   "outputs": [
    {
     "name": "stdout",
     "output_type": "stream",
     "text": [
      "Tuple which has odd number from 1 to 10 is (1, 3, 5, 7, 9)\n"
     ]
    }
   ],
   "source": [
    "odd_list = [i for i in range(1,11) if i % 2 != 0 ]\n",
    "odd_tuple = tuple(odd_list)\n",
    "print(\"Tuple which has odd number from 1 to 10 is\",odd_tuple)"
   ]
  },
  {
   "cell_type": "markdown",
   "id": "8d0b202f-b84c-4b5a-9bf6-2d8fa4a727c7",
   "metadata": {},
   "source": [
    "### 12. Concatenate two tuples."
   ]
  },
  {
   "cell_type": "code",
   "execution_count": 124,
   "id": "83248e09-82c0-498e-ac53-7fe55c748916",
   "metadata": {},
   "outputs": [
    {
     "name": "stdout",
     "output_type": "stream",
     "text": [
      "Concatenated of two tuples is (1, 2, 3, 4, 5, 6)\n"
     ]
    }
   ],
   "source": [
    "m1 = (1,2,3)\n",
    "m2 = (4,5,6)\n",
    "m3 = m1 + m2\n",
    "print(\"Concatenated of two tuples is\", m3)"
   ]
  },
  {
   "cell_type": "markdown",
   "id": "3a3eff6a-27cc-42f7-a9e7-8dc6baa89035",
   "metadata": {},
   "source": [
    "### 13. Repeat a tuple three times."
   ]
  },
  {
   "cell_type": "code",
   "execution_count": 125,
   "id": "ed981d31-7f88-47c9-a636-52595ca95543",
   "metadata": {},
   "outputs": [
    {
     "name": "stdout",
     "output_type": "stream",
     "text": [
      "(1, 2, 3)\n",
      "Repeat of tuple 3 times is (1, 2, 3, 1, 2, 3, 1, 2, 3)\n"
     ]
    }
   ],
   "source": [
    "print(m1)\n",
    "print(\"Repeat of tuple 3 times is\",(m1 * 3))"
   ]
  },
  {
   "cell_type": "markdown",
   "id": "fd704800-92e3-4c31-abeb-b38cdddbe4ca",
   "metadata": {},
   "source": [
    "### 14. Check if a tuple is empty."
   ]
  },
  {
   "cell_type": "code",
   "execution_count": 126,
   "id": "11f1c3d9-9eba-4d1c-8da0-e65ae5fc3536",
   "metadata": {},
   "outputs": [
    {
     "name": "stdout",
     "output_type": "stream",
     "text": [
      "Tuple is empty\n"
     ]
    }
   ],
   "source": [
    "m4 = ()\n",
    "if len(m4) == 0:\n",
    "    print(\"Tuple is empty\")\n",
    "else:\n",
    "    print(\"Tuple is not empty\")"
   ]
  },
  {
   "cell_type": "markdown",
   "id": "dacc5278-2865-46c7-9254-0a3f052062c5",
   "metadata": {},
   "source": [
    "### 15. Create a nested tuple."
   ]
  },
  {
   "cell_type": "code",
   "execution_count": 127,
   "id": "f96f524a-5d0e-4d1e-93a2-7f756cf3b048",
   "metadata": {},
   "outputs": [
    {
     "name": "stdout",
     "output_type": "stream",
     "text": [
      "Nested tuple is (1, 3, 56.89, ('data science', 'ML'), (90+89j), ('CV', 'NLP'))\n"
     ]
    }
   ],
   "source": [
    "nested_tuple = (1,3,56.89,('data science','ML'), 90+89j,('CV','NLP'))\n",
    "print(\"Nested tuple is\", nested_tuple)"
   ]
  },
  {
   "cell_type": "markdown",
   "id": "2e740cf5-baf2-454d-a147-8211aab593af",
   "metadata": {},
   "source": [
    "### 16. Access the first element of a nested tuple."
   ]
  },
  {
   "cell_type": "code",
   "execution_count": 128,
   "id": "213eb068-0136-4f99-812d-21c302534afe",
   "metadata": {},
   "outputs": [
    {
     "name": "stdout",
     "output_type": "stream",
     "text": [
      "First element of tuple (4, 5, 6) is 4\n"
     ]
    }
   ],
   "source": [
    "print(f\"First element of tuple {m2} is {m2[0]}\")"
   ]
  },
  {
   "cell_type": "markdown",
   "id": "388f111c-243f-4006-8d3a-269526f440e1",
   "metadata": {},
   "source": [
    "### 17. Create a tuple with a single element."
   ]
  },
  {
   "cell_type": "code",
   "execution_count": 129,
   "id": "f94aeee3-994e-43b5-94ea-6cbf7bb6b8f3",
   "metadata": {},
   "outputs": [
    {
     "name": "stdout",
     "output_type": "stream",
     "text": [
      "Single lemenet tuple is ('Text',) and type is <class 'tuple'>\n"
     ]
    }
   ],
   "source": [
    "single_ele = ('Text',)\n",
    "print(\"Single lemenet tuple is\", single_ele, \"and type is\",type(single_ele))"
   ]
  },
  {
   "cell_type": "markdown",
   "id": "277f08e4-00f7-452b-a83a-641bbc49f1d3",
   "metadata": {},
   "source": [
    "### 18. Compare two tuples."
   ]
  },
  {
   "cell_type": "code",
   "execution_count": 130,
   "id": "a18e23f6-6abf-4a08-b92e-d072cb8d9a08",
   "metadata": {},
   "outputs": [
    {
     "name": "stdout",
     "output_type": "stream",
     "text": [
      "Tuple 1 (4, 5, 6)\n",
      "Tuple 2 (1, 2, 3, 4, 5, 6)\n",
      "tuple1 == tuple2: False\n",
      "tuple1 != tuple2: True\n",
      "tuple1 >= tuple2: True\n",
      "tuple1 <= tuple2: False\n"
     ]
    }
   ],
   "source": [
    "print(\"Tuple 1\",m2)\n",
    "print(\"Tuple 2\",m3)\n",
    "\n",
    "print(\"tuple1 == tuple2:\", m2 == m3)\n",
    "print(\"tuple1 != tuple2:\", m2 != m3)\n",
    "print(\"tuple1 >= tuple2:\", m2 >= m3)\n",
    "print(\"tuple1 <= tuple2:\", m2 <= m3)"
   ]
  },
  {
   "cell_type": "markdown",
   "id": "f579096d-479c-413b-957b-2d28c759e348",
   "metadata": {},
   "source": [
    "### 19. Delete a tuple."
   ]
  },
  {
   "cell_type": "code",
   "execution_count": 131,
   "id": "d2b11b7a-456f-44de-8747-dcafd48eefd7",
   "metadata": {},
   "outputs": [
    {
     "name": "stdout",
     "output_type": "stream",
     "text": [
      "Before delete\n",
      "(1, 2, 3)\n",
      "After delete:\n"
     ]
    },
    {
     "ename": "NameError",
     "evalue": "name 'm1' is not defined",
     "output_type": "error",
     "traceback": [
      "\u001b[0;31m---------------------------------------------------------------------------\u001b[0m",
      "\u001b[0;31mNameError\u001b[0m                                 Traceback (most recent call last)",
      "Cell \u001b[0;32mIn[131], line 5\u001b[0m\n\u001b[1;32m      3\u001b[0m \u001b[38;5;28;01mdel\u001b[39;00m(m1)\n\u001b[1;32m      4\u001b[0m \u001b[38;5;28mprint\u001b[39m(\u001b[38;5;124m\"\u001b[39m\u001b[38;5;124mAfter delete:\u001b[39m\u001b[38;5;124m\"\u001b[39m)\n\u001b[0;32m----> 5\u001b[0m \u001b[38;5;28mprint\u001b[39m(\u001b[43mm1\u001b[49m)\n",
      "\u001b[0;31mNameError\u001b[0m: name 'm1' is not defined"
     ]
    }
   ],
   "source": [
    "print(\"Before delete\")\n",
    "print(m1)\n",
    "del(m1)\n",
    "print(\"After delete:\")\n",
    "print(m1)"
   ]
  },
  {
   "cell_type": "markdown",
   "id": "85fa99c0-63df-47f4-90d4-69a5c0af13ca",
   "metadata": {},
   "source": [
    "### 20. Slice a tuple."
   ]
  },
  {
   "cell_type": "code",
   "execution_count": 132,
   "id": "c0cfc201-7c77-45c8-be19-9fda363b5b59",
   "metadata": {},
   "outputs": [
    {
     "name": "stdout",
     "output_type": "stream",
     "text": [
      "Slicing of tuple (2, 3, 4)\n"
     ]
    }
   ],
   "source": [
    "print(f\"Slicing of tuple {m3[1:4]}\")"
   ]
  },
  {
   "cell_type": "markdown",
   "id": "7fdfd958-13d2-464b-ba16-d1461a0c1220",
   "metadata": {},
   "source": [
    "### 21. Find the maximum value in a tuple."
   ]
  },
  {
   "cell_type": "code",
   "execution_count": 133,
   "id": "357887dd-6ec0-4957-8943-2a42ee6ba523",
   "metadata": {},
   "outputs": [
    {
     "name": "stdout",
     "output_type": "stream",
     "text": [
      "Maximum valud in tuple (1, 2, 3, 4, 5, 6) is 6\n"
     ]
    }
   ],
   "source": [
    "print(f\"Maximum valud in tuple {m3} is {max(m3)}\")"
   ]
  },
  {
   "cell_type": "markdown",
   "id": "0522d442-b22b-4055-96c9-59e2cd778bb0",
   "metadata": {},
   "source": [
    "### 22. Find the minimum value in a tuple."
   ]
  },
  {
   "cell_type": "code",
   "execution_count": 134,
   "id": "2bcfdb5f-7378-4f26-b151-a7d357a01f52",
   "metadata": {},
   "outputs": [
    {
     "name": "stdout",
     "output_type": "stream",
     "text": [
      "Minimum valud in tuple (1, 2, 3, 4, 5, 6) is 1\n"
     ]
    }
   ],
   "source": [
    "print(f\"Minimum valud in tuple {m3} is {min(m3)}\")"
   ]
  },
  {
   "cell_type": "markdown",
   "id": "984fffa1-06bf-48de-9d86-04f8ec3be432",
   "metadata": {},
   "source": [
    "### 23. Convert a string to a tuple of characters."
   ]
  },
  {
   "cell_type": "code",
   "execution_count": 135,
   "id": "2a06d514-976a-40ed-8a85-e986d20fe735",
   "metadata": {},
   "outputs": [
    {
     "name": "stdout",
     "output_type": "stream",
     "text": [
      "Strin to tuple is ('D', 'a', 't', 'a', ' ', 's', 'c', 'i', 'e', 'n', 'c', 'e')\n"
     ]
    }
   ],
   "source": [
    "mystr = 'Data science'\n",
    "mytuple_str = tuple(mystr)\n",
    "print(\"Strin to tuple is\", mytuple_str)"
   ]
  },
  {
   "cell_type": "markdown",
   "id": "4f09af8c-41b6-43e3-8d4b-8e8fe71894d3",
   "metadata": {},
   "source": [
    "### 24. Convert a tuple of characters to a string."
   ]
  },
  {
   "cell_type": "code",
   "execution_count": 136,
   "id": "a4ffeb8b-e614-41a6-950f-54bce3923c6b",
   "metadata": {},
   "outputs": [
    {
     "name": "stdout",
     "output_type": "stream",
     "text": [
      "String before tuple ('D', 'a', 't', 'a', ' ', 's', 'c', 'i', 'e', 'n', 'c', 'e')\n",
      "Tuple to String is Data science\n"
     ]
    }
   ],
   "source": [
    "print(\"String before tuple\",mytuple_str)\n",
    "mytup_str = ''\n",
    "for i in mytuple_str:\n",
    "    mytup_str += i\n",
    "print('Tuple to String is',mytup_str)"
   ]
  },
  {
   "cell_type": "markdown",
   "id": "0439cd24-3405-463c-a35a-24f584a3f3d2",
   "metadata": {},
   "source": [
    "### 25. Create a tuple from multiple data types."
   ]
  },
  {
   "cell_type": "code",
   "execution_count": 137,
   "id": "155ea7ce-17a2-49df-ad36-e6e2b1df699e",
   "metadata": {},
   "outputs": [
    {
     "name": "stdout",
     "output_type": "stream",
     "text": [
      "(1, 20.8, True, (90+89j), [34, 56, 'DS'], (45, 23, 'Pyton'), {'ML'}, {'course': 'Full Stack DS'})\n"
     ]
    }
   ],
   "source": [
    "tuple_hetro = (1, 20.8,True, 90+89j,[34,56,'DS'], (45,23,\"Pyton\"), {\"ML\"}, {'course':'Full Stack DS'})\n",
    "print(tuple_hetro)\n",
    "                                                                    "
   ]
  },
  {
   "cell_type": "markdown",
   "id": "483f2d2b-789d-4517-8caf-c9518ff91f5f",
   "metadata": {},
   "source": [
    "### 26. Check if two tuples are identical."
   ]
  },
  {
   "cell_type": "code",
   "execution_count": 138,
   "id": "ef933100-5e42-4e44-bac8-e50a17fcdf11",
   "metadata": {},
   "outputs": [
    {
     "name": "stdout",
     "output_type": "stream",
     "text": [
      "tuples (1, 2, 3) and (1, 2, 3) are identical\n",
      "tuples (1, 2, 3) and (1, 2, 4) are not identical\n"
     ]
    }
   ],
   "source": [
    "m1 = (1,2,3)\n",
    "m2 = (1,2,3)\n",
    "m3 = (1,2,4)\n",
    "\n",
    "if m1 == m2 :\n",
    "    print(f\"tuples {m1} and {m2} are identical\")\n",
    "if m1 != m3:\n",
    "    print(f\"tuples {m1} and {m3} are not identical\")\n"
   ]
  },
  {
   "cell_type": "markdown",
   "id": "af09ebe7-6622-40c8-a7ae-098844a0a90c",
   "metadata": {},
   "source": [
    "### 27. Sort the elements of a tuple."
   ]
  },
  {
   "cell_type": "code",
   "execution_count": 139,
   "id": "47ef49d0-fdab-495c-9a8a-34536ae7670b",
   "metadata": {},
   "outputs": [
    {
     "name": "stdout",
     "output_type": "stream",
     "text": [
      "Sorted format [1, 2, 4, 4, 8, 56, 90, 100]\n"
     ]
    }
   ],
   "source": [
    "m1 = (1,100,2,4,56,8,90,4)\n",
    "print(\"Sorted format\", sorted(m1))"
   ]
  },
  {
   "cell_type": "markdown",
   "id": "1f4d8d28-132c-42a9-b4c8-5a295b213552",
   "metadata": {},
   "source": [
    "### 28. Convert a tuple of integers to a tuple of strings."
   ]
  },
  {
   "cell_type": "code",
   "execution_count": 140,
   "id": "b6e26ec8-9103-4172-af62-9be2bb3045d3",
   "metadata": {},
   "outputs": [
    {
     "name": "stdout",
     "output_type": "stream",
     "text": [
      "(1, 100, 2, 4, 56, 8, 90, 4)\n",
      "Integers to String  ('1', '100', '2', '4', '56', '8', '90', '4')\n"
     ]
    }
   ],
   "source": [
    "print(m1)\n",
    "m4 = tuple((str(i) for i in m1 ))\n",
    "print('Integers to String ',m4)"
   ]
  },
  {
   "cell_type": "markdown",
   "id": "34e8b46b-61bb-4612-aa68-b3968a850cf9",
   "metadata": {},
   "source": [
    "### 29. Convert a tuple of strings to a tuple of integers."
   ]
  },
  {
   "cell_type": "code",
   "execution_count": 141,
   "id": "3220419b-c8f0-4c9b-bdee-ef83e169b118",
   "metadata": {},
   "outputs": [
    {
     "name": "stdout",
     "output_type": "stream",
     "text": [
      "('1', '100', '2', '4', '56', '8', '90', '4')\n",
      "String to Integers (1, 100, 2, 4, 56, 8, 90, 4)\n"
     ]
    }
   ],
   "source": [
    "print(m4)\n",
    "m5 = tuple((int(i) for i in m4 ))\n",
    "print('String to Integers',m5)"
   ]
  },
  {
   "cell_type": "markdown",
   "id": "2f0efbd2-92b8-4fb9-90e3-a90921153157",
   "metadata": {},
   "source": [
    "### 30. Merge two tuples."
   ]
  },
  {
   "cell_type": "code",
   "execution_count": 142,
   "id": "ad6ea40a-5c53-4dcb-9a44-2a3bdcfbbb33",
   "metadata": {},
   "outputs": [
    {
     "name": "stdout",
     "output_type": "stream",
     "text": [
      "tuple (5, 6, 7) and tuple (8, 9, 10) were merged as (5, 6, 7, 8, 9, 10)\n"
     ]
    }
   ],
   "source": [
    "t1 = (5,6,7)\n",
    "t2 = (8,9,10)\n",
    "t3 = t1 + t2\n",
    "print(f\"tuple {t1} and tuple {t2} were merged as {t3}\")"
   ]
  },
  {
   "cell_type": "markdown",
   "id": "4ce1d1d6-9bf4-4c3d-8835-3d21de5189ba",
   "metadata": {},
   "source": [
    "### 31. Flatten a nested tuple."
   ]
  },
  {
   "cell_type": "code",
   "execution_count": 143,
   "id": "4152fd6b-1011-4956-b835-93a30671e466",
   "metadata": {},
   "outputs": [],
   "source": [
    "def flatten_tuple(mytuple):\n",
    "    flatten = []\n",
    "    for item in mytuple:\n",
    "        if isinstance(item,tuple):\n",
    "            flatten.extend(flatten_tuple(item))\n",
    "        else:\n",
    "            flatten.append(item)\n",
    "    else:\n",
    "        return flatten"
   ]
  },
  {
   "cell_type": "code",
   "execution_count": 144,
   "id": "b724e819-8914-4033-b83f-edf2f2848f7e",
   "metadata": {},
   "outputs": [
    {
     "name": "stdout",
     "output_type": "stream",
     "text": [
      "Our flatten tuple is  (1, 2, 3, 'DS', (34+90j), True, 'Python', 'ML')\n"
     ]
    }
   ],
   "source": [
    "nested_tuple = ((1,2,3),'DS',(34+90j,True),('Python','ML'))\n",
    "print(\"Our flatten tuple is \",tuple(flatten_tuple(nested_tuple)))"
   ]
  },
  {
   "cell_type": "markdown",
   "id": "db21061c-0954-48ea-b8da-aceafe0dae7a",
   "metadata": {},
   "source": [
    "### 32. Create a tuple of the first 5 prime numbers."
   ]
  },
  {
   "cell_type": "code",
   "execution_count": 145,
   "id": "f6b68ca4-6ac6-40c1-a1f7-badd1867578c",
   "metadata": {},
   "outputs": [],
   "source": [
    "def prime_no(no):\n",
    "    for i in range(2, int(no ** 0.5) + 1):\n",
    "        if no % i == 0:\n",
    "            return False\n",
    "        else:\n",
    "            return True"
   ]
  },
  {
   "cell_type": "code",
   "execution_count": 146,
   "id": "5fdcc512-9017-4c14-95b1-af0a2b72ca45",
   "metadata": {},
   "outputs": [
    {
     "name": "stdout",
     "output_type": "stream",
     "text": [
      "First 5 prime numbers are  (5, 7, 9, 11, 13)\n"
     ]
    }
   ],
   "source": [
    "prime_list = [i for i in range(2,20) if prime_no(i)][:5]\n",
    "prime_tuple = tuple(prime_list)\n",
    "print(\"First 5 prime numbers are \",prime_tuple)"
   ]
  },
  {
   "cell_type": "markdown",
   "id": "2083b333-8278-492e-9479-f14396ababb2",
   "metadata": {},
   "source": [
    "### 33. Check if a tuple is a palindrome."
   ]
  },
  {
   "cell_type": "code",
   "execution_count": 147,
   "id": "5000dc61-07ba-4446-86b7-33ed300443e9",
   "metadata": {},
   "outputs": [
    {
     "name": "stdout",
     "output_type": "stream",
     "text": [
      "Yes tuple is palindrome\n"
     ]
    }
   ],
   "source": [
    "t1 = (1,3,5,7)\n",
    "t2 = (7,5,3,1)\n",
    "if t1 == t2[::-1]:\n",
    "    print(\"Yes tuple is palindrome\")\n",
    "else:\n",
    "    print(\"Tuple is not palindrome\")"
   ]
  },
  {
   "cell_type": "markdown",
   "id": "4bf68ae3-4167-46ab-8cb9-dbf80b15b082",
   "metadata": {},
   "source": [
    "### 34. Create a tuple of squares of numbers from 1 to 5."
   ]
  },
  {
   "cell_type": "code",
   "execution_count": 148,
   "id": "236e4086-073b-48ab-bfd2-bacc4d0e80a6",
   "metadata": {},
   "outputs": [
    {
     "name": "stdout",
     "output_type": "stream",
     "text": [
      "Squares of numbers (1, 4, 9, 16, 25)\n"
     ]
    }
   ],
   "source": [
    "sqr_tuple = tuple([i**2 for i in range(1,6) ])\n",
    "print('Squares of numbers',sqr_tuple)"
   ]
  },
  {
   "cell_type": "markdown",
   "id": "5d8291d0-ef20-4961-a4b5-eb4a13bef8dd",
   "metadata": {},
   "source": [
    "### 35. Filter out all even numbers from a tuple."
   ]
  },
  {
   "cell_type": "code",
   "execution_count": 149,
   "id": "68b4b53c-ac3b-409d-91a2-15de099cd3ba",
   "metadata": {},
   "outputs": [
    {
     "name": "stdout",
     "output_type": "stream",
     "text": [
      "Even numbers are  (2, 4, 6, 80, 134, 12)\n"
     ]
    }
   ],
   "source": [
    "l = (1,3,2,4,5,6,7,80,99,121,134,12)\n",
    "\n",
    "even_filter = filter( lambda a : a % 2 == 0, l)\n",
    "print(\"Even numbers are \",tuple(even_filter))"
   ]
  },
  {
   "cell_type": "markdown",
   "id": "9e0ee0fe-2380-4a03-90fe-9238c41b8884",
   "metadata": {},
   "source": [
    "### 36. Multiply all elements in a tuple by 2."
   ]
  },
  {
   "cell_type": "code",
   "execution_count": 150,
   "id": "01fff84b-1811-42c2-911e-2a8e0f968dfa",
   "metadata": {},
   "outputs": [
    {
     "name": "stdout",
     "output_type": "stream",
     "text": [
      "before multiply  (1, 3, 2, 4, 5, 6, 7, 80, 99, 121, 134, 12)\n",
      "After multiply   (2, 6, 4, 8, 10, 12, 14, 160, 198, 242, 268, 24)\n"
     ]
    }
   ],
   "source": [
    "print(\"before multiply \",l)\n",
    "multiply_2 = map( lambda a : a * 2 , l)\n",
    "print(\"After multiply  \",tuple(multiply_2))"
   ]
  },
  {
   "cell_type": "markdown",
   "id": "26593fcb-2ac4-4318-abf5-c7b13a734f3b",
   "metadata": {},
   "source": [
    "### 37. Create a tuple of random numbers."
   ]
  },
  {
   "cell_type": "code",
   "execution_count": 151,
   "id": "c28464af-e30a-4957-bed2-e340c9305117",
   "metadata": {},
   "outputs": [
    {
     "name": "stdout",
     "output_type": "stream",
     "text": [
      "Random generated tuple (1, 6, 5, 4, 0, 0, 8, 8, 7)\n"
     ]
    }
   ],
   "source": [
    "random_tuple = tuple([random.randint(0, 9) for i in range(1,10) ])\n",
    "print(\"Random generated tuple\", random_tuple)"
   ]
  },
  {
   "cell_type": "markdown",
   "id": "3d247d50-cebb-457f-b806-aeca5ccc900f",
   "metadata": {},
   "source": [
    "### 38. Check if a tuple is sorted."
   ]
  },
  {
   "cell_type": "code",
   "execution_count": 152,
   "id": "b93ba269-cf04-49bf-8eb7-45038c8ac109",
   "metadata": {},
   "outputs": [
    {
     "name": "stdout",
     "output_type": "stream",
     "text": [
      "tuple 1  (1, 3, 2, 4, 5, 6, 7, 80, 99, 121, 134, 12)\n",
      " tuple 2  [1, 2, 3, 4, 5, 6, 7, 12, 80, 99, 121, 134]\n",
      "Tuples are not sorted\n"
     ]
    }
   ],
   "source": [
    "print(\"tuple 1 \",l)\n",
    "sorted_l = sorted(l)\n",
    "print(\" tuple 2 \",sorted_l)\n",
    "if l == sorted_l:\n",
    "    print(\"both tuple are sorted\")\n",
    "else:\n",
    "    print(\"Tuples are not sorted\")"
   ]
  },
  {
   "cell_type": "markdown",
   "id": "c8f502d5-2409-4de6-b982-85e0865b29d8",
   "metadata": {},
   "source": [
    "### 39. Rotate a tuple to the left by `n` positions."
   ]
  },
  {
   "cell_type": "code",
   "execution_count": 153,
   "id": "bf37bd67-098d-44fd-a9cd-b1b31f9894ea",
   "metadata": {},
   "outputs": [
    {
     "name": "stdin",
     "output_type": "stream",
     "text": [
      "Input any number 2\n"
     ]
    },
    {
     "name": "stdout",
     "output_type": "stream",
     "text": [
      "After rotation to left  (3, 4, 5, 1, 2)\n"
     ]
    }
   ],
   "source": [
    "mytuple = (1,2,3,4,5)\n",
    "rotate_position = int(input(\"Input any number\"))\n",
    "if rotate_position > len(mytuple):\n",
    "    print(\"Position exceeded element count\")\n",
    "else:\n",
    "    rotate_list = list(mytuple)\n",
    "    rotated_left = tuple(rotate_list[rotate_position:] + rotate_list[:rotate_position])\n",
    "print(\"After rotation to left \",rotated_left)"
   ]
  },
  {
   "cell_type": "markdown",
   "id": "c0561d32-27c2-4b49-af6f-ae9f398cf92c",
   "metadata": {},
   "source": [
    "### 40. Rotate a tuple to the right by `n` positions."
   ]
  },
  {
   "cell_type": "code",
   "execution_count": 154,
   "id": "7d5cf808-7f67-4073-8d62-a0b8449d2ec7",
   "metadata": {},
   "outputs": [
    {
     "name": "stdin",
     "output_type": "stream",
     "text": [
      "Input any number 3\n"
     ]
    },
    {
     "name": "stdout",
     "output_type": "stream",
     "text": [
      "After rotation to right  (3, 4, 5, 1, 2)\n"
     ]
    }
   ],
   "source": [
    "mytuple = (1,2,3,4,5)\n",
    "rotate_position = int(input(\"Input any number\"))\n",
    "if rotate_position > len(mytuple):\n",
    "    print(\"Position exceeded element count\")\n",
    "else:\n",
    "    rotate_list = list(mytuple)\n",
    "    rotated_right = tuple(rotate_list[-rotate_position:] + rotate_list[:-rotate_position])\n",
    "print(\"After rotation to right \",rotated_right)"
   ]
  },
  {
   "cell_type": "markdown",
   "id": "59e068ae-c3c3-4410-bc93-9d3acc533660",
   "metadata": {},
   "source": [
    "### 41. Create a tuple of the first 5 Fibonacci numbers."
   ]
  },
  {
   "cell_type": "code",
   "execution_count": 155,
   "id": "00fb571e-29ee-4734-acae-4cc508cd95f8",
   "metadata": {},
   "outputs": [],
   "source": [
    "def fib_n(n):\n",
    "    if n <= 1:\n",
    "        return 1\n",
    "    else:\n",
    "        return fib_n(n-1) + fib_n(n-2)"
   ]
  },
  {
   "cell_type": "code",
   "execution_count": 156,
   "id": "17a4028a-b131-4336-ae5a-60d5236b80e9",
   "metadata": {},
   "outputs": [
    {
     "name": "stdout",
     "output_type": "stream",
     "text": [
      "First 5 fibnnocci numbers are (1, 2, 3, 5, 8)\n"
     ]
    }
   ],
   "source": [
    "fib_tuple = tuple([fib_n(i) for i in range(1,6)])\n",
    "print(\"First 5 fibnnocci numbers are\",fib_tuple)"
   ]
  },
  {
   "cell_type": "markdown",
   "id": "08288130-b434-46f8-86f1-70a006f61659",
   "metadata": {},
   "source": [
    "### 42. Create a tuple from user input."
   ]
  },
  {
   "cell_type": "code",
   "execution_count": 159,
   "id": "847fde1c-f2e6-4b88-8700-c51d8e7feffc",
   "metadata": {},
   "outputs": [
    {
     "name": "stdin",
     "output_type": "stream",
     "text": [
      "Enter anything 12345\n"
     ]
    },
    {
     "name": "stdout",
     "output_type": "stream",
     "text": [
      "Input from user is  ('1', '2', '3', '4', '5')\n"
     ]
    }
   ],
   "source": [
    "input_user = tuple(input(\"Enter anything\"))\n",
    "print(\"Input from user is \",input_user)"
   ]
  },
  {
   "cell_type": "markdown",
   "id": "0aaf4169-6d56-4c9b-af70-ee71f6f8fddf",
   "metadata": {},
   "source": [
    "### 43. Swap two elements in a tuple."
   ]
  },
  {
   "cell_type": "code",
   "execution_count": 160,
   "id": "d7bdc087-e2bd-4d5e-8812-9c93de761d74",
   "metadata": {},
   "outputs": [
    {
     "name": "stdout",
     "output_type": "stream",
     "text": [
      "After swapping (2, 1)\n"
     ]
    }
   ],
   "source": [
    "t1 = (1,2)\n",
    "t2 = list(t1)\n",
    "t3 = list(t1)\n",
    "t2[1] = t2[0]\n",
    "t3[0] = t3[1]\n",
    "t1 = list(t1)\n",
    "t1[0] = t3[0]\n",
    "t1[1] = t2[1]\n",
    "print(\"After swapping\",tuple(t1))"
   ]
  },
  {
   "cell_type": "markdown",
   "id": "25f3376c-4049-4ea0-8152-6a0a2bb1af60",
   "metadata": {},
   "source": [
    "### 44. Reverse the elements of a tuple."
   ]
  },
  {
   "cell_type": "code",
   "execution_count": 161,
   "id": "f39323b5-501c-4f79-a05a-92a63886b5cd",
   "metadata": {},
   "outputs": [
    {
     "name": "stdout",
     "output_type": "stream",
     "text": [
      "before reversal  (1, 3, 2, 4, 5, 6, 7, 80, 99, 121, 134, 12)\n",
      "After recevrsal  (12, 134, 121, 99, 80, 7, 6, 5, 4, 2, 3, 1)\n"
     ]
    }
   ],
   "source": [
    "print(\"before reversal \",l)\n",
    "print(\"After recevrsal \",l[::-1])"
   ]
  },
  {
   "cell_type": "markdown",
   "id": "78414662-9f05-443f-b4fa-0d19e8be2b10",
   "metadata": {},
   "source": [
    "### 45. Create a tuple of the first `n` powers of 2."
   ]
  },
  {
   "cell_type": "code",
   "execution_count": 162,
   "id": "fc5abb64-5944-4a8d-a1e7-e782762dde36",
   "metadata": {},
   "outputs": [
    {
     "name": "stdin",
     "output_type": "stream",
     "text": [
      "Input any number 10\n"
     ]
    },
    {
     "name": "stdout",
     "output_type": "stream",
     "text": [
      "2 to the power of first n numebers (1, 4, 9, 16, 25, 36, 49, 64, 81, 100)\n"
     ]
    }
   ],
   "source": [
    "power_n = int(input(\"Input any number\"))\n",
    "\n",
    "power_tuple = tuple(map( lambda a : a **2, range(1,power_n+1)))\n",
    "print(\"2 to the power of first n numebers\",power_tuple)"
   ]
  },
  {
   "cell_type": "markdown",
   "id": "d904e8d4-5f04-4b5b-8319-4ce6fe427a01",
   "metadata": {},
   "source": [
    "### 46. Find the longest string in a tuple of strings."
   ]
  },
  {
   "cell_type": "code",
   "execution_count": 163,
   "id": "bd99ea0f-a380-404f-8712-6a4743221b4f",
   "metadata": {},
   "outputs": [
    {
     "name": "stdout",
     "output_type": "stream",
     "text": [
      "The longest string in tuple is  Machine Learning\n"
     ]
    }
   ],
   "source": [
    "long_t = (\"DS\", \"JAVA\",\"Python\",\"Machine Learning\")\n",
    "print(\"The longest string in tuple is \", max(long_t , key=len))"
   ]
  },
  {
   "cell_type": "markdown",
   "id": "7bacbee6-3e40-458f-b74b-448798318fc9",
   "metadata": {},
   "source": [
    "### 47. Find the shortest string in a tuple of strings."
   ]
  },
  {
   "cell_type": "code",
   "execution_count": 164,
   "id": "1a39ab61-e7f6-473a-af7c-00c31fce4339",
   "metadata": {},
   "outputs": [
    {
     "name": "stdout",
     "output_type": "stream",
     "text": [
      "The shortest string in tuple is  DS\n"
     ]
    }
   ],
   "source": [
    "short_t = (\"DS\", \"JAVA\",\"Python\",\"Machine Learning\")\n",
    "print(\"The shortest string in tuple is \", min(short_t,key=len))"
   ]
  },
  {
   "cell_type": "markdown",
   "id": "eefc9d0e-e076-42e1-a5c1-fb23ab79cd41",
   "metadata": {},
   "source": [
    "### 48. Create a tuple of the first `n` triangular numbers."
   ]
  },
  {
   "cell_type": "code",
   "execution_count": 165,
   "id": "8bff1d07-bcc5-4f38-bf4e-b88aa432e6ea",
   "metadata": {},
   "outputs": [],
   "source": [
    "def tri_no(n):\n",
    "    l1 = []\n",
    "    x = 0\n",
    "    for i in range(1,n+1):\n",
    "        x = x + i\n",
    "        l1.append(x)\n",
    "    return l1"
   ]
  },
  {
   "cell_type": "code",
   "execution_count": 166,
   "id": "235dc05e-f077-4a42-a860-b287a37df95f",
   "metadata": {},
   "outputs": [
    {
     "name": "stdin",
     "output_type": "stream",
     "text": [
      "enter any number 5\n"
     ]
    },
    {
     "name": "stdout",
     "output_type": "stream",
     "text": [
      "Triangular series for given number (1, 3, 6, 10, 15)\n"
     ]
    }
   ],
   "source": [
    "tri_no_input = int(input(\"enter any number\"))\n",
    "print(\"Triangular series for given number\",tuple(tri_no(tri_no_input)))\n"
   ]
  },
  {
   "cell_type": "markdown",
   "id": "29b9bd55-97b7-45d6-a276-cb006a72e1c7",
   "metadata": {},
   "source": [
    "### 49. Check if a tuple contains another tuple as a subsequence."
   ]
  },
  {
   "cell_type": "code",
   "execution_count": 167,
   "id": "6ec4d9c3-a6ce-4117-b168-d85bb943a681",
   "metadata": {},
   "outputs": [],
   "source": [
    "def fin_subseq(parent_t,child_t):\n",
    "    parent_len = len(parent_t) #6\n",
    "    child_len = len(child_t) # 3\n",
    "    for i in range(parent_len - child_len+1):\n",
    "        if parent_t[i:i+child_len] == child_t:\n",
    "            return True\n",
    "    return False"
   ]
  },
  {
   "cell_type": "code",
   "execution_count": 168,
   "id": "e15cbe1a-239b-4522-b245-c6534c656b70",
   "metadata": {},
   "outputs": [
    {
     "name": "stdout",
     "output_type": "stream",
     "text": [
      "Yes child is subsequence of parent\n"
     ]
    }
   ],
   "source": [
    "if fin_subseq((1,2,3,4,5,6),(3,4,5)):\n",
    "    print(\"Yes child is subsequence of parent\")\n",
    "else:\n",
    "    print(\"Parent and child are different\")"
   ]
  },
  {
   "cell_type": "markdown",
   "id": "f2b6aae2-932b-4469-ae0a-1383c27c6788",
   "metadata": {},
   "source": [
    "### 50. Create a tuple of alternating 1s and 0s of length `n`."
   ]
  },
  {
   "cell_type": "code",
   "execution_count": 171,
   "id": "771d4272-9b27-4266-b734-12589381fd39",
   "metadata": {},
   "outputs": [
    {
     "name": "stdin",
     "output_type": "stream",
     "text": [
      "Enter any number 20\n"
     ]
    },
    {
     "name": "stdout",
     "output_type": "stream",
     "text": [
      "Alternating 1s and 0s [1, 0, 1, 0, 1, 0, 1, 0, 1, 0, 1, 0, 1, 0, 1, 0, 1, 0, 1]\n"
     ]
    }
   ],
   "source": [
    "length_input = int(input(\"Enter any number\"))\n",
    "\n",
    "length0s_1s = [i % 2 for i in range(1,length_input)]\n",
    "\n",
    "print(\"Alternating 1s and 0s\",length0s_1s)\n"
   ]
  },
  {
   "cell_type": "markdown",
   "id": "5ca3b0aa-acb2-48d1-aa3c-393cf83531f3",
   "metadata": {},
   "source": [
    "## Set Based Practice Problem "
   ]
  },
  {
   "cell_type": "markdown",
   "id": "7ac322c5-14c5-4b69-b42f-6d7cb58fef7a",
   "metadata": {},
   "source": [
    "### 1. Create a set with integers from 1 to 5."
   ]
  },
  {
   "cell_type": "code",
   "execution_count": 198,
   "id": "d1bbca6d-3579-4dd9-9702-f4ec436049da",
   "metadata": {},
   "outputs": [
    {
     "name": "stdout",
     "output_type": "stream",
     "text": [
      "New set from 1to 5 is {1, 2, 3, 4, 5}\n"
     ]
    }
   ],
   "source": [
    "s1 = {1,2,3,4,5}\n",
    "print(\"New set from 1to 5 is\",s1)"
   ]
  },
  {
   "cell_type": "markdown",
   "id": "d4beeb36-7265-4b3e-a1b5-fca118097a5a",
   "metadata": {},
   "source": [
    "### 2. Add an element to a set."
   ]
  },
  {
   "cell_type": "code",
   "execution_count": 199,
   "id": "52e660b9-fe68-4d41-8bcb-a51d186cc2df",
   "metadata": {},
   "outputs": [],
   "source": [
    "s1.add('DS')"
   ]
  },
  {
   "cell_type": "code",
   "execution_count": 200,
   "id": "485318d4-2e78-47c7-968a-05c8a4ced8f7",
   "metadata": {},
   "outputs": [
    {
     "name": "stdout",
     "output_type": "stream",
     "text": [
      "Newly element is added {1, 2, 3, 4, 5, 'DS'}\n"
     ]
    }
   ],
   "source": [
    "print(\"Newly element is added\",s1)"
   ]
  },
  {
   "cell_type": "markdown",
   "id": "3c9aaa7c-41e8-4945-b970-2663ad009310",
   "metadata": {},
   "source": [
    "### 3. Remove an element from a set."
   ]
  },
  {
   "cell_type": "code",
   "execution_count": 201,
   "id": "d0800871-0ba4-452e-8e8e-7b717dcc955c",
   "metadata": {},
   "outputs": [
    {
     "name": "stdout",
     "output_type": "stream",
     "text": [
      "Set after element is removed {1, 2, 3, 4, 5}\n"
     ]
    }
   ],
   "source": [
    "s1.remove('DS')\n",
    "print(\"Set after element is removed\",s1)"
   ]
  },
  {
   "cell_type": "markdown",
   "id": "236f0285-2d4b-440d-8f63-1f2b40fa915a",
   "metadata": {},
   "source": [
    "\n",
    "### 4. Check if an element exists in a set."
   ]
  },
  {
   "cell_type": "code",
   "execution_count": 202,
   "id": "2406ace5-25fd-40d9-8e93-223fcb2dc8a2",
   "metadata": {},
   "outputs": [
    {
     "name": "stdout",
     "output_type": "stream",
     "text": [
      "Element from set1 {1, 2, 3, 4, 5}\n"
     ]
    },
    {
     "name": "stdin",
     "output_type": "stream",
     "text": [
      "Enter any number 4\n"
     ]
    },
    {
     "name": "stdout",
     "output_type": "stream",
     "text": [
      "Element 4 is exist in set {1, 2, 3, 4, 5}\n"
     ]
    }
   ],
   "source": [
    "print(\"Element from set1\",s1)\n",
    "element_check = int(input(\"Enter any number\"))\n",
    "if element_check in s1:\n",
    "    print(f\"Element {element_check} is exist in set {s1}\")\n",
    "else:\n",
    "    print(f\"Element { element_check} not exist in set\")"
   ]
  },
  {
   "cell_type": "markdown",
   "id": "1963454c-e53a-4983-82e7-704816c83810",
   "metadata": {},
   "source": [
    "### 5. Find the length of a set without using the `len()` function."
   ]
  },
  {
   "cell_type": "code",
   "execution_count": 203,
   "id": "74ae2778-51cc-4ac8-ac4d-795845db60a1",
   "metadata": {},
   "outputs": [
    {
     "name": "stdout",
     "output_type": "stream",
     "text": [
      "Total elements in set is 5\n"
     ]
    }
   ],
   "source": [
    "cnt = 0\n",
    "for i in s1:\n",
    "    cnt += 1\n",
    "print(\"Total elements in set is\",cnt)"
   ]
  },
  {
   "cell_type": "markdown",
   "id": "482ad805-2500-49a2-981e-bf65427ecaaf",
   "metadata": {},
   "source": [
    "### 6. Clear all elements from a set."
   ]
  },
  {
   "cell_type": "code",
   "execution_count": 204,
   "id": "cc63042c-0ea0-47cc-bf60-d29f7b5bb71d",
   "metadata": {},
   "outputs": [],
   "source": [
    "s1.clear()"
   ]
  },
  {
   "cell_type": "code",
   "execution_count": 205,
   "id": "e2238777-5590-4f7f-ab03-5f2e328e49bd",
   "metadata": {},
   "outputs": [
    {
     "name": "stdout",
     "output_type": "stream",
     "text": [
      "After all elements were removed from set set()\n"
     ]
    }
   ],
   "source": [
    "print('After all elements were removed from set',s1)"
   ]
  },
  {
   "cell_type": "markdown",
   "id": "b535a329-fbdd-4d4d-b595-3334ee778ab0",
   "metadata": {},
   "source": [
    "### 7. Create a set of even numbers from 1 to 10."
   ]
  },
  {
   "cell_type": "code",
   "execution_count": 206,
   "id": "d8095298-1b02-4d55-a750-585b988e9912",
   "metadata": {},
   "outputs": [
    {
     "name": "stdout",
     "output_type": "stream",
     "text": [
      "Set with even numbers {2, 4, 6, 8, 10}\n"
     ]
    }
   ],
   "source": [
    "s_even = set()\n",
    "for i in range(1,11):\n",
    "    if i % 2 == 0:\n",
    "        s_even.add(i)\n",
    "print(\"Set with even numbers\",s_even)"
   ]
  },
  {
   "cell_type": "markdown",
   "id": "26148726-36c5-44c6-b6dd-8da8065c45fd",
   "metadata": {},
   "source": [
    "### 8. Create a set of odd numbers from 1 to 10."
   ]
  },
  {
   "cell_type": "code",
   "execution_count": 207,
   "id": "2eb78915-ae95-4c94-9d15-7a15f030e3a6",
   "metadata": {},
   "outputs": [],
   "source": [
    "s_odd = set([i for i in range(1,11) if i % 2 !=0])"
   ]
  },
  {
   "cell_type": "code",
   "execution_count": 208,
   "id": "75f5b547-27b3-48e7-ad45-817f4eb41fd5",
   "metadata": {},
   "outputs": [
    {
     "name": "stdout",
     "output_type": "stream",
     "text": [
      "Set with odd numbers {1, 3, 5, 7, 9}\n"
     ]
    }
   ],
   "source": [
    "print(\"Set with odd numbers\",s_odd)"
   ]
  },
  {
   "cell_type": "markdown",
   "id": "cf03310b-f9ff-40a7-965a-e631ad466c0e",
   "metadata": {},
   "source": [
    "### 9. Find the union of two sets."
   ]
  },
  {
   "cell_type": "code",
   "execution_count": 209,
   "id": "437abe32-6713-4c3f-ad31-45636f450733",
   "metadata": {},
   "outputs": [],
   "source": [
    "s_union = s2.union(s_odd)"
   ]
  },
  {
   "cell_type": "code",
   "execution_count": 210,
   "id": "a5c58507-6705-417b-9a13-cc4ee2a20c17",
   "metadata": {},
   "outputs": [
    {
     "name": "stdout",
     "output_type": "stream",
     "text": [
      "Two sets are  {1, 2, 3, 4, 5, 6, 8, 10} {1, 3, 5, 7, 9}\n",
      "New set after union of two sets {1, 2, 3, 4, 5, 6, 7, 8, 9, 10}\n"
     ]
    }
   ],
   "source": [
    "print(\"Two sets are \",s2,s_odd)\n",
    "print(\"New set after union of two sets\",s_union)"
   ]
  },
  {
   "cell_type": "markdown",
   "id": "1d5969c2-395a-4627-83cc-369839c32e05",
   "metadata": {},
   "source": [
    "### 10. Find the intersection of two sets."
   ]
  },
  {
   "cell_type": "code",
   "execution_count": 211,
   "id": "4e4256cc-e581-45d6-96c0-583aab357a6e",
   "metadata": {},
   "outputs": [
    {
     "name": "stdout",
     "output_type": "stream",
     "text": [
      "Intersection of two sets with common elements {1, 3, 5, 7, 9}\n",
      "Intersection of two sets where there is no common element {1, 3, 5}\n"
     ]
    }
   ],
   "source": [
    "print(\"Intersection of two sets with common elements\",s_odd.intersection(s_union))\n",
    "print(\"Intersection of two sets where there is no common element\",s2.intersection(s_odd))"
   ]
  },
  {
   "cell_type": "markdown",
   "id": "cfc8bf62-55c8-4c09-b1c6-693ab4c07131",
   "metadata": {},
   "source": [
    "### 11. Find the difference between two sets."
   ]
  },
  {
   "cell_type": "code",
   "execution_count": 212,
   "id": "627607ea-59b0-4c15-b80c-9d83f2c7eae5",
   "metadata": {},
   "outputs": [
    {
     "name": "stdout",
     "output_type": "stream",
     "text": [
      "Two sets are  {1, 2, 3, 4, 5, 6, 7, 8, 9, 10} {1, 3, 5, 7, 9}\n",
      "Difference elements between two sets {2, 4, 6, 8, 10}\n"
     ]
    }
   ],
   "source": [
    "print(\"Two sets are \",s_union,s_odd)\n",
    "print(\"Difference elements between two sets\",s_union.difference(s_odd))"
   ]
  },
  {
   "cell_type": "markdown",
   "id": "7109ad72-a17a-4158-9d24-8803ab88ba34",
   "metadata": {},
   "source": [
    "### 12. Check if a set is a subset of another set."
   ]
  },
  {
   "cell_type": "code",
   "execution_count": 213,
   "id": "304127b2-0296-41dc-8cb5-8b6c1ae2f5db",
   "metadata": {},
   "outputs": [
    {
     "name": "stdout",
     "output_type": "stream",
     "text": [
      "parent set is  {1, 2, 3, 4, 5, 6, 7, 8, 9, 10}\n",
      "child set is  {1, 3, 5, 7, 9}\n",
      "child set is subset of super set\n"
     ]
    }
   ],
   "source": [
    "print(\"parent set is \",s_union)\n",
    "print(\"child set is \",s_odd)\n",
    "\n",
    "if s_odd.issubset(s_union) :\n",
    "    print(\"child set is subset of super set\")\n",
    "else:\n",
    "    print(\"child set is not subset of parent\")"
   ]
  },
  {
   "cell_type": "markdown",
   "id": "7f5a3160-e8f9-4037-bd54-285b7e571c75",
   "metadata": {},
   "source": [
    "### 13. Check if a set is a superset of another set."
   ]
  },
  {
   "cell_type": "code",
   "execution_count": 214,
   "id": "bc907d03-a814-4285-aa8a-c3d42c756673",
   "metadata": {},
   "outputs": [
    {
     "name": "stdout",
     "output_type": "stream",
     "text": [
      "parent set is  {1, 2, 3, 4, 5, 6, 7, 8, 9, 10}\n",
      "child set is  {1, 3, 5, 7, 9}\n",
      "parent is superset of child\n"
     ]
    }
   ],
   "source": [
    "print(\"parent set is \",s_union)\n",
    "print(\"child set is \",s_odd)\n",
    "\n",
    "if s_union.issuperset(s_odd):\n",
    "    print(\"parent is superset of child\")\n",
    "else:\n",
    "    print(\"parent is not superset of child\")"
   ]
  },
  {
   "cell_type": "markdown",
   "id": "8d653477-405d-4f06-aefa-9a45ee3dcd13",
   "metadata": {},
   "source": [
    "### 14. Create a set from a list."
   ]
  },
  {
   "cell_type": "code",
   "execution_count": 215,
   "id": "05ac68c7-2950-4521-9931-1a4850fce1d7",
   "metadata": {},
   "outputs": [
    {
     "name": "stdout",
     "output_type": "stream",
     "text": [
      "list ['DS', 12, 34.56, (90+89j), (1, 2, 3, 4)] converted into set {34.56, (90+89j), 'DS', 12, (1, 2, 3, 4)}\n"
     ]
    }
   ],
   "source": [
    "mylist = [\"DS\",12,34.56,90+89j,(1,2,3,4)]\n",
    "myset = set(mylist)\n",
    "print(f\"list {mylist} converted into set {myset}\")"
   ]
  },
  {
   "cell_type": "markdown",
   "id": "47affb19-3e98-45c4-ba2a-a0453dc8360e",
   "metadata": {},
   "source": [
    "### 15. Convert a set to a list."
   ]
  },
  {
   "cell_type": "code",
   "execution_count": 216,
   "id": "fed0413f-1ece-454d-8b43-4e39f46b53bc",
   "metadata": {},
   "outputs": [
    {
     "name": "stdout",
     "output_type": "stream",
     "text": [
      "set {34.56, (90+89j), 'DS', 12, (1, 2, 3, 4)} converted into list ['DS', 12, 34.56, (90+89j), (1, 2, 3, 4)]\n"
     ]
    }
   ],
   "source": [
    "print(f\"set {myset} converted into list {mylist}\")"
   ]
  },
  {
   "cell_type": "markdown",
   "id": "f7b58eef-4363-4b81-a0e2-e630b985a962",
   "metadata": {},
   "source": [
    "### 16. Remove a random element from a set."
   ]
  },
  {
   "cell_type": "code",
   "execution_count": 217,
   "id": "6572929e-7692-4b3d-9920-ae3e0cda7df9",
   "metadata": {},
   "outputs": [
    {
     "name": "stdout",
     "output_type": "stream",
     "text": [
      "element (1, 2, 3, 4) is removed from set, then set will be {34.56, (90+89j), 'DS', 12}\n"
     ]
    }
   ],
   "source": [
    "element_remove = (1,2,3,4)\n",
    "myset.remove(element_remove)\n",
    "print(f\"element {element_remove} is removed from set, then set will be {myset}\")"
   ]
  },
  {
   "cell_type": "markdown",
   "id": "ea19bb60-754c-4422-82b6-562d51e916b4",
   "metadata": {},
   "source": [
    "### 17. Pop an element from a set."
   ]
  },
  {
   "cell_type": "code",
   "execution_count": 218,
   "id": "3269e02b-360c-415c-9968-d146dc081474",
   "metadata": {},
   "outputs": [
    {
     "name": "stdout",
     "output_type": "stream",
     "text": [
      "before popping element from set {34.56, (90+89j), 'DS', 12}\n",
      "after popping element from set {(90+89j), 'DS', 12}\n"
     ]
    }
   ],
   "source": [
    "print(\"before popping element from set\",myset)\n",
    "myset.pop()\n",
    "print(\"after popping element from set\",myset)"
   ]
  },
  {
   "cell_type": "markdown",
   "id": "ddb556b2-d70d-4850-afbd-059a5a2af7c0",
   "metadata": {},
   "source": [
    "### 18. Check if two sets have no elements in common."
   ]
  },
  {
   "cell_type": "code",
   "execution_count": 219,
   "id": "0eeafb39-9bf7-496c-9a16-6c45b7182dc9",
   "metadata": {},
   "outputs": [
    {
     "name": "stdout",
     "output_type": "stream",
     "text": [
      "odd set {1, 3, 5, 7, 9}\n",
      "even set {2, 4, 6, 8, 10}\n",
      "Two sets have no common element\n"
     ]
    }
   ],
   "source": [
    "print(\"odd set\",s_odd)\n",
    "print(\"even set\",s_even)\n",
    "if not s_odd.intersection(s_even):\n",
    "    print(\"Two sets have no common element\")\n",
    "else:\n",
    "    print(\"Set has common element\")"
   ]
  },
  {
   "cell_type": "markdown",
   "id": "e38ab432-91a8-4e9d-9b15-a5a4a2cc5be6",
   "metadata": {},
   "source": [
    "### 19. Find the symmetric difference between two sets."
   ]
  },
  {
   "cell_type": "code",
   "execution_count": 220,
   "id": "18124cbf-48dd-4cfe-aa8c-b745726c2528",
   "metadata": {},
   "outputs": [
    {
     "name": "stdout",
     "output_type": "stream",
     "text": [
      "Two sets are  {1, 2, 3} {1, 3, 5, 6}\n",
      "Symmetric difference is to bring out elements which are not common from both sets\n",
      "Symmetric difference is {2, 5, 6}\n"
     ]
    }
   ],
   "source": [
    "s1 = {1,2,3}\n",
    "s2 = {1, 5, 3 ,6}\n",
    "print(\"Two sets are \",s1,s2)\n",
    "print(\"Symmetric difference is to bring out elements which are not common from both sets\")\n",
    "print(\"Symmetric difference is\",s1.symmetric_difference(s2))\n"
   ]
  },
  {
   "cell_type": "markdown",
   "id": "35044ba7-2fce-42c4-94b0-f0e37d07dc3b",
   "metadata": {},
   "source": [
    "### 20. Update a set with elements from another set."
   ]
  },
  {
   "cell_type": "code",
   "execution_count": 221,
   "id": "d79e0d7e-228d-4185-b3e7-dfc462e364a0",
   "metadata": {},
   "outputs": [
    {
     "name": "stdout",
     "output_type": "stream",
     "text": [
      "Set updated with other elements {1, 2, 3, 5, 6}\n"
     ]
    }
   ],
   "source": [
    "s3 = set()\n",
    "s3.update(s1,s2)\n",
    "print(\"Set updated with other elements\",s3)"
   ]
  },
  {
   "cell_type": "markdown",
   "id": "dc979645-69d2-4879-8285-3e3e4850e5eb",
   "metadata": {},
   "source": [
    "### 21. Create a set of the first 5 prime numbers."
   ]
  },
  {
   "cell_type": "code",
   "execution_count": 222,
   "id": "dfa26c2c-6165-4963-9442-3b4436c6579e",
   "metadata": {},
   "outputs": [
    {
     "name": "stdout",
     "output_type": "stream",
     "text": [
      "Set of first 5 prime numbers {1, 3, 5, 7, 11}\n"
     ]
    }
   ],
   "source": [
    "prime_list = [1]\n",
    "i = 3\n",
    "while i<= 12:\n",
    "    for j in range(2,i):\n",
    "        if i % j == 0:\n",
    "            break;\n",
    "    else:\n",
    "        prime_list.append(i)\n",
    "        i += 1\n",
    "    i += 1\n",
    "print(\"Set of first 5 prime numbers\",set(prime_list))\n",
    "            "
   ]
  },
  {
   "cell_type": "markdown",
   "id": "a33f42b1-f00e-481d-8762-e024f1cfb739",
   "metadata": {},
   "source": [
    "### 22. Check if two sets are identical."
   ]
  },
  {
   "cell_type": "code",
   "execution_count": 223,
   "id": "270920aa-ddbc-4445-904e-6d9288261eef",
   "metadata": {},
   "outputs": [
    {
     "name": "stdout",
     "output_type": "stream",
     "text": [
      "two sets are  {1, 2, 3, 5, 6} {1, 2, 3, 5, 6}\n",
      "Two sets are identical\n"
     ]
    }
   ],
   "source": [
    "s4 = set()\n",
    "s4.update(s3)\n",
    "print(\"two sets are \",s3,s4)\n",
    "if s4 == s3 :\n",
    "    print(\"Two sets are identical\")\n",
    "else:\n",
    "    print(\"Two sets are not identical\")\n",
    "\n"
   ]
  },
  {
   "cell_type": "markdown",
   "id": "ce2ced3b-c744-49e5-8b2f-f023590e2883",
   "metadata": {},
   "source": [
    "### 23. Create a frozen set."
   ]
  },
  {
   "cell_type": "code",
   "execution_count": 224,
   "id": "bc5ca7a2-d1ba-4745-9f57-04d51318d038",
   "metadata": {},
   "outputs": [
    {
     "name": "stdout",
     "output_type": "stream",
     "text": [
      "Created frozenset is frozenset({1, 2, 3})\n"
     ]
    }
   ],
   "source": [
    "s_fset = frozenset([1,2,3])\n",
    "print(\"Created frozenset is\",s_fset)"
   ]
  },
  {
   "cell_type": "markdown",
   "id": "056e227f-ed42-4862-9dda-44954ebd371d",
   "metadata": {},
   "source": [
    "### 24. Check if a set is disjoint with another set."
   ]
  },
  {
   "cell_type": "code",
   "execution_count": 225,
   "id": "0d531240-3a5b-419c-a926-adcbbdc743c5",
   "metadata": {},
   "outputs": [
    {
     "name": "stdout",
     "output_type": "stream",
     "text": [
      "set1 {1, 3, 5, 7, 9}\n",
      "set2 {2, 4, 6, 8, 10}\n",
      "returns True if two sets have no common element\n",
      "Two sets does not have common element\n"
     ]
    }
   ],
   "source": [
    "print(\"set1\",s_odd)\n",
    "print(\"set2\",s_even)\n",
    "print(\"returns True if two sets have no common element\")\n",
    "if s_odd.isdisjoint(s_even):\n",
    "    print(\"Two sets does not have common element\")\n",
    "else:\n",
    "    print(\"Common element present\")"
   ]
  },
  {
   "cell_type": "markdown",
   "id": "9bc666e4-bd69-408e-9961-4015be0e0d78",
   "metadata": {},
   "source": [
    "### 25. Create a set of squares of numbers from 1 to 5."
   ]
  },
  {
   "cell_type": "code",
   "execution_count": 226,
   "id": "538686f2-e8e3-43ee-82fa-ee73e18b1632",
   "metadata": {},
   "outputs": [
    {
     "name": "stdout",
     "output_type": "stream",
     "text": [
      "Square of 1 to 5 {1, 4, 9, 16, 25}\n"
     ]
    }
   ],
   "source": [
    "s_sqr = set([i**2 for i in range(1,6)])\n",
    "print(\"Square of 1 to 5\", s_sqr)"
   ]
  },
  {
   "cell_type": "markdown",
   "id": "83117412-63f1-42de-bb72-a8cca8918ebc",
   "metadata": {},
   "source": [
    "### 26. Filter out all even numbers from a set."
   ]
  },
  {
   "cell_type": "code",
   "execution_count": 227,
   "id": "17ce0921-2b25-4158-a6a6-621d14ba6b71",
   "metadata": {},
   "outputs": [
    {
     "name": "stdout",
     "output_type": "stream",
     "text": [
      "original set is {1, 4, 9, 16, 25} and extracted only even numers {16, 4}\n"
     ]
    }
   ],
   "source": [
    "s_even = set(filter(lambda a : a % 2 == 0,s_sqr))\n",
    "print(f\"original set is {s_sqr} and extracted only even numers {s_even}\")"
   ]
  },
  {
   "cell_type": "markdown",
   "id": "bbb0e435-cfcf-4b66-aa70-69cf6f0ac32c",
   "metadata": {},
   "source": [
    "### 27. Multiply all elements in a set by 2."
   ]
  },
  {
   "cell_type": "code",
   "execution_count": 228,
   "id": "1a97e046-8de5-4228-8010-81b77d467dde",
   "metadata": {},
   "outputs": [
    {
     "name": "stdout",
     "output_type": "stream",
     "text": [
      "set before multiply by 2 {1, 4, 9, 16, 25}\n",
      "After multiplication by 2 {32, 2, 8, 18, 50}\n"
     ]
    }
   ],
   "source": [
    "print(\"set before multiply by 2\",s_sqr)\n",
    "s_mul_2 = set(map(lambda a: a*2 , s_sqr))\n",
    "print(\"After multiplication by 2\",s_mul_2)"
   ]
  },
  {
   "cell_type": "markdown",
   "id": "f97c8a82-8b7e-49e7-b1d8-29f6d84479c7",
   "metadata": {},
   "source": [
    "### 28. Create a set of random numbers."
   ]
  },
  {
   "cell_type": "code",
   "execution_count": 229,
   "id": "c1de0deb-ed1d-43e4-a2d0-4115a4aec692",
   "metadata": {},
   "outputs": [
    {
     "name": "stdout",
     "output_type": "stream",
     "text": [
      "Random numebrs set {20, 22, 23, 24, 25, 27, 30}\n"
     ]
    }
   ],
   "source": [
    "import random\n",
    "rand_set = set([random.randint(20,30) for i in range(1,10)])\n",
    "print(\"Random numebrs set\",rand_set)"
   ]
  },
  {
   "cell_type": "markdown",
   "id": "e984b987-3a20-462a-900a-f89898c9ee3b",
   "metadata": {},
   "source": [
    "### 29. Check if a set is empty."
   ]
  },
  {
   "cell_type": "code",
   "execution_count": 230,
   "id": "ee2b73c7-9d9b-4830-ac9c-21a6bf77d116",
   "metadata": {},
   "outputs": [
    {
     "name": "stdout",
     "output_type": "stream",
     "text": [
      "set set() is empty\n"
     ]
    }
   ],
   "source": [
    "s1.clear()\n",
    "if not s1:\n",
    "    print(f\"set {s1} is empty\")\n",
    "else:\n",
    "    print(\"set is not empty\")"
   ]
  },
  {
   "cell_type": "markdown",
   "id": "7c23042b-a421-4687-811e-796cb5d05095",
   "metadata": {},
   "source": [
    "### 30. Create a nested set (hint: use frozenset)."
   ]
  },
  {
   "cell_type": "code",
   "execution_count": 231,
   "id": "ef46af44-fdf3-4e79-8ba3-18164bd4187e",
   "metadata": {},
   "outputs": [
    {
     "name": "stdout",
     "output_type": "stream",
     "text": [
      "Nested set using frozenset is {frozenset({3, 4}), frozenset({'DS', 'python'}), frozenset({1, 2})}\n"
     ]
    }
   ],
   "source": [
    "s_frozen = set()\n",
    "s_frozen = set([frozenset((1,2)), frozenset((3,4)),frozenset(('DS','python'))])\n",
    "print(\"Nested set using frozenset is\",s_frozen)"
   ]
  },
  {
   "cell_type": "markdown",
   "id": "c4517e4a-657f-4cfb-b4b2-f3dd7339fea7",
   "metadata": {},
   "source": [
    "### 31. Remove an element from a set using the discard method."
   ]
  },
  {
   "cell_type": "code",
   "execution_count": 232,
   "id": "fd8bf434-13a7-4b51-b501-c0106176df36",
   "metadata": {},
   "outputs": [
    {
     "name": "stdout",
     "output_type": "stream",
     "text": [
      "Set before removing {1, 3, 5, 7, 9}\n"
     ]
    },
    {
     "name": "stdin",
     "output_type": "stream",
     "text": [
      "Enter any number to remove from odd set 7\n"
     ]
    },
    {
     "name": "stdout",
     "output_type": "stream",
     "text": [
      "Set after removing {1, 3, 5, 9}\n"
     ]
    }
   ],
   "source": [
    "print(\"Set before removing\",s_odd)\n",
    "element_to_remove = int(input(\"Enter any number to remove from odd set\"))\n",
    "s_odd.discard(element_to_remove)\n",
    "print(\"Set after removing\",s_odd)"
   ]
  },
  {
   "cell_type": "markdown",
   "id": "10a169a7-e049-46d0-84ff-83919c58180b",
   "metadata": {},
   "source": [
    "### 32. Compare two sets."
   ]
  },
  {
   "cell_type": "code",
   "execution_count": 233,
   "id": "6167a772-62e9-4275-ba47-317695d1859a",
   "metadata": {},
   "outputs": [
    {
     "name": "stdout",
     "output_type": "stream",
     "text": [
      "Set1 is  {1, 2, 3, 4, 5}\n",
      "Set2 is  {3, 4, 5, 6}\n",
      "Set1 is subset of set2 False\n",
      "Set2 is subset of set1 False\n",
      "Intersection between sets {3, 4, 5}\n",
      "Difference between sets {1, 2}\n",
      "Summetric difference is {1, 2, 6}\n"
     ]
    }
   ],
   "source": [
    "s1 = {1,2,3,4,5}\n",
    "s2 = {3,4,5,6}\n",
    "\n",
    "print(\"Set1 is \",s1)\n",
    "print(\"Set2 is \",s2)\n",
    "\n",
    "print(\"Set1 is subset of set2\",s1.issubset(s2))\n",
    "print(\"Set2 is subset of set1\",s2.issubset(s1))\n",
    "print(\"Intersection between sets\",s1.intersection(s2))\n",
    "print(\"Difference between sets\",s1.difference(s2))\n",
    "print(\"Summetric difference is\",s1.symmetric_difference(s2))"
   ]
  },
  {
   "cell_type": "markdown",
   "id": "7cfe67b5-7194-42df-b746-c48775494bff",
   "metadata": {},
   "source": [
    "### 33. Create a set from a string."
   ]
  },
  {
   "cell_type": "code",
   "execution_count": 234,
   "id": "441a3922-cd2d-4375-b5b6-ef26d2fc53e8",
   "metadata": {},
   "outputs": [
    {
     "name": "stdout",
     "output_type": "stream",
     "text": [
      "Set from strings {'e', 'M', 'L', 'h', 'c', 'a', ' ', 'r', 'n', 'g', 'i'}\n"
     ]
    }
   ],
   "source": [
    "mystr = 'Machine Learning'\n",
    "mystr_set = set(mystr)\n",
    "print(\"Set from strings\",mystr_set)"
   ]
  },
  {
   "cell_type": "markdown",
   "id": "fef07f24-f062-467a-8bf4-5ad2bd09b07d",
   "metadata": {},
   "source": [
    "### 34. Convert a set of strings to a set of integers."
   ]
  },
  {
   "cell_type": "code",
   "execution_count": 235,
   "id": "665de0cc-b6cc-4d44-894c-dd113bb0de61",
   "metadata": {},
   "outputs": [
    {
     "name": "stdout",
     "output_type": "stream",
     "text": [
      "Before integer {'e', 'M', 'L', 'h', 'c', 'a', ' ', 'r', 'n', 'g', 'i'}\n",
      "ord() is function to derive value of character as pre ASCII code\n",
      "after converted to interger {32, 97, 99, 101, 103, 104, 105, 76, 77, 110, 114}\n"
     ]
    }
   ],
   "source": [
    "print(\"Before integer\",mystr_set)\n",
    "set_to_int = set([ord(i) for i in mystr_set])\n",
    "print(\"ord() is function to derive value of character as pre ASCII code\")\n",
    "print(\"after converted to interger\",set_to_int)"
   ]
  },
  {
   "cell_type": "markdown",
   "id": "45811387-0542-43c4-b8a1-5d53af7433fe",
   "metadata": {},
   "source": [
    "### 35. Convert a set of integers to a set of strings."
   ]
  },
  {
   "cell_type": "code",
   "execution_count": 236,
   "id": "43241373-446e-43b3-b1ca-57c96dbb1c33",
   "metadata": {},
   "outputs": [
    {
     "name": "stdout",
     "output_type": "stream",
     "text": [
      "Before string {32, 97, 99, 101, 103, 104, 105, 76, 77, 110, 114}\n",
      "After deriving string {'e', 'M', 'L', 'c', ' ', 'a', 'h', 'r', 'n', 'g', 'i'}\n"
     ]
    }
   ],
   "source": [
    "print(\"Before string\",set_to_int)\n",
    "int_to_set = set([chr(i) for i in set_to_int])\n",
    "print(\"After deriving string\",int_to_set)"
   ]
  },
  {
   "cell_type": "markdown",
   "id": "5d66736f-0633-4e1a-8296-0876009d8ac8",
   "metadata": {},
   "source": [
    "### 36. Create a set from a tuple."
   ]
  },
  {
   "cell_type": "code",
   "execution_count": 237,
   "id": "f70fdc3c-bb28-45d8-ad6e-8b4bbdb095bc",
   "metadata": {},
   "outputs": [
    {
     "name": "stdout",
     "output_type": "stream",
     "text": [
      "Set from tuple {'DS', 67, 45, (89+90j)}\n"
     ]
    }
   ],
   "source": [
    "t = (45,67,89+90j,'DS')\n",
    "t_s = set(t)\n",
    "print('Set from tuple',t_s)"
   ]
  },
  {
   "cell_type": "markdown",
   "id": "6a0465ca-5f6d-4e2f-851c-d0e17355c9f1",
   "metadata": {},
   "source": [
    "### 37. Convert a set to a tuple."
   ]
  },
  {
   "cell_type": "code",
   "execution_count": 238,
   "id": "7e463596-7cdb-4526-8b3b-86b444a919a9",
   "metadata": {},
   "outputs": [
    {
     "name": "stdout",
     "output_type": "stream",
     "text": [
      "Tuple from set ('DS', 67, 45, (89+90j))\n"
     ]
    }
   ],
   "source": [
    "print(\"Tuple from set\",tuple(t_s))"
   ]
  },
  {
   "cell_type": "markdown",
   "id": "1a20393c-9040-455e-bfe4-ba3ef968c25e",
   "metadata": {},
   "source": [
    "### 38. Find the maximum value in a set."
   ]
  },
  {
   "cell_type": "code",
   "execution_count": 239,
   "id": "10386efe-f81b-4987-a24b-2be7086ce17b",
   "metadata": {},
   "outputs": [
    {
     "name": "stdout",
     "output_type": "stream",
     "text": [
      "Maximum value in set is  10\n"
     ]
    }
   ],
   "source": [
    "print(f\"Maximum value in set is \",max(s_union))"
   ]
  },
  {
   "cell_type": "markdown",
   "id": "f1bab044-166b-4d0f-8f76-cb3af522934a",
   "metadata": {},
   "source": [
    "### 39. Find the minimum value in a set."
   ]
  },
  {
   "cell_type": "code",
   "execution_count": 240,
   "id": "4fef95dd-f2b5-4d87-9645-883a76da6023",
   "metadata": {},
   "outputs": [
    {
     "name": "stdout",
     "output_type": "stream",
     "text": [
      "Minimum value in set is  1\n"
     ]
    }
   ],
   "source": [
    "print(f\"Minimum value in set is \",min(s_union))"
   ]
  },
  {
   "cell_type": "markdown",
   "id": "e290ab1e-e39e-4197-99c8-5c751334c395",
   "metadata": {},
   "source": [
    "### 40. Create a set from user input."
   ]
  },
  {
   "cell_type": "code",
   "execution_count": 242,
   "id": "8c5d157f-b8fa-47ae-b7c2-2a631f93f8e2",
   "metadata": {},
   "outputs": [
    {
     "name": "stdin",
     "output_type": "stream",
     "text": [
      "Enter anything machine learning\n"
     ]
    },
    {
     "name": "stdout",
     "output_type": "stream",
     "text": [
      "set from user's input {'e', 'h', 'c', 'a', ' ', 'l', 'r', 'm', 'n', 'g', 'i'}\n"
     ]
    }
   ],
   "source": [
    "u_input = input(\"Enter anything\")\n",
    "u_set = set(u_input)\n",
    "print(\"set from user's input\",u_set)"
   ]
  },
  {
   "cell_type": "markdown",
   "id": "d27ecb9d-b689-4276-aa03-51cec5467e20",
   "metadata": {},
   "source": [
    "### 41. Check if the intersection of two sets is empty."
   ]
  },
  {
   "cell_type": "code",
   "execution_count": 243,
   "id": "6a7c48a1-ef1e-4498-adb3-7e362de31651",
   "metadata": {},
   "outputs": [
    {
     "name": "stdout",
     "output_type": "stream",
     "text": [
      "Odd set  {1, 3, 5, 9}\n",
      "Even set {16, 4}\n",
      "So intersection will be empty always\n",
      "Intersection is null\n"
     ]
    }
   ],
   "source": [
    "print(\"Odd set \",s_odd)\n",
    "print(\"Even set\",s_even)\n",
    "print(\"So intersection will be empty always\")\n",
    "if not s_odd.intersection(s_even) :\n",
    "    print(\"Intersection is null\")\n",
    "else:\n",
    "    print(\"There are common values\")"
   ]
  },
  {
   "cell_type": "markdown",
   "id": "033cc7f4-3839-4e8b-9f53-137bf9416998",
   "metadata": {},
   "source": [
    "### 42. Create a set of the first 5 Fibonacci numbers."
   ]
  },
  {
   "cell_type": "code",
   "execution_count": 244,
   "id": "b9e65dbd-fd75-48f9-bbda-34f92cc7ec27",
   "metadata": {},
   "outputs": [],
   "source": [
    "def fib_n(n):\n",
    "    if n <= 1:\n",
    "        return 1\n",
    "    else:\n",
    "        return fib_n(n-1) + fib_n(n-2)\n"
   ]
  },
  {
   "cell_type": "code",
   "execution_count": 245,
   "id": "877b11f9-c0a7-4189-b042-81a770be06fc",
   "metadata": {},
   "outputs": [
    {
     "name": "stdout",
     "output_type": "stream",
     "text": [
      "Set of 5 fibonacci numbers {1, 2, 3, 5, 8}\n"
     ]
    }
   ],
   "source": [
    "set_fib = set([fib_n(i) for i in range(1,6)])\n",
    "print(\"Set of 5 fibonacci numbers\",set_fib)"
   ]
  },
  {
   "cell_type": "markdown",
   "id": "4b453e2d-8b45-4c0c-87b5-d8c03e43af7a",
   "metadata": {},
   "source": [
    "### 43. Remove duplicates from a list using sets."
   ]
  },
  {
   "cell_type": "code",
   "execution_count": 246,
   "id": "14434d7d-5544-45ec-9335-a5cf98b9b3bf",
   "metadata": {},
   "outputs": [
    {
     "name": "stdout",
     "output_type": "stream",
     "text": [
      "List before removing duplicates [1, 2, 3, (56+90j), 2, 3, 'python', (56+90j)]\n",
      "List after removing duplicates [1, 2, 3, (56+90j), 'python']\n"
     ]
    }
   ],
   "source": [
    "mylist = [1,2,3,56+90j,2,3,'python',56+90j]\n",
    "print(\"List before removing duplicates\",mylist)\n",
    "mylist_no_dups = list(set(mylist))\n",
    "print(\"List after removing duplicates\",mylist_no_dups)"
   ]
  },
  {
   "cell_type": "markdown",
   "id": "a45b5ef2-73cf-463a-80db-9422a9e95270",
   "metadata": {},
   "source": [
    "### 44. Check if two sets have the same elements, regardless of their count."
   ]
  },
  {
   "cell_type": "code",
   "execution_count": 247,
   "id": "2dc9c262-e70d-40c8-83e5-fbd089372af5",
   "metadata": {},
   "outputs": [],
   "source": [
    "def is_same(set1,set2):\n",
    "    set1_list_sorted = sorted(list(set1))\n",
    "    set2_list_sorted = sorted(list(set2))\n",
    "    if set1_list_sorted == set2_list_sorted:\n",
    "        return True\n",
    "    "
   ]
  },
  {
   "cell_type": "code",
   "execution_count": 248,
   "id": "a25163e7-8da5-4b5c-93ce-adbdf0749ca6",
   "metadata": {},
   "outputs": [
    {
     "name": "stdout",
     "output_type": "stream",
     "text": [
      "Both sets have same element {1, 2, 3, 5, 6} {1, 2, 3, 5, 6}\n"
     ]
    }
   ],
   "source": [
    "s1 = {1,2,3,2,3,5,6}\n",
    "s2 = {1,2,3,5,6}\n",
    "\n",
    "if is_same(s1,s2):\n",
    "    print(\"Both sets have same element\",s1,s2)\n",
    "else:\n",
    "    print(\"Sets have different element\")"
   ]
  },
  {
   "cell_type": "markdown",
   "id": "e1e072e8-4543-4be0-9fad-78157c5964a7",
   "metadata": {},
   "source": [
    "### 45. Create a set of the first `n` powers of 2."
   ]
  },
  {
   "cell_type": "code",
   "execution_count": 249,
   "id": "0f2b2412-3de7-4c2c-9f2a-691cf2d51606",
   "metadata": {},
   "outputs": [
    {
     "name": "stdin",
     "output_type": "stream",
     "text": [
      "Enter any number 30\n"
     ]
    },
    {
     "name": "stdout",
     "output_type": "stream",
     "text": [
      "Set for power of 2 {256, 1, 4, 900, 9, 16, 144, 400, 529, 784, 25, 289, 36, 676, 169, 49, 441, 64, 576, 196, 324, 841, 81, 729, 225, 100, 484, 361, 625, 121}\n"
     ]
    }
   ],
   "source": [
    "power_2 = int(input(\"Enter any number\"))\n",
    "\n",
    "power_2_set = set([i**2 for i in range(1,power_2+1)])\n",
    "print(\"Set for power of 2\",power_2_set)"
   ]
  },
  {
   "cell_type": "markdown",
   "id": "41d80a01-525c-4c3a-936b-90e44a916bec",
   "metadata": {},
   "source": [
    "### 46. Find the common elements between a set and a list."
   ]
  },
  {
   "cell_type": "code",
   "execution_count": 250,
   "id": "32926e6a-a2ef-49c0-a3c0-c0b90f1c42b9",
   "metadata": {},
   "outputs": [
    {
     "name": "stdout",
     "output_type": "stream",
     "text": [
      "Set is {1, 2, 3, 4, 5, 6, 7, 8, 9, 10}\n",
      "List is  [1, 2, 3, (56+90j), 2, 3, 'python', (56+90j)]\n",
      "Common elements between set and list are {1, 2, 3}\n"
     ]
    }
   ],
   "source": [
    "print('Set is',s_union)\n",
    "print('List is ',mylist)\n",
    "s_l_common = s_union.intersection(mylist)\n",
    "print(\"Common elements between set and list are\",s_l_common)"
   ]
  },
  {
   "cell_type": "markdown",
   "id": "d632e1e4-0365-4ea7-9f2a-ad3ccecd29a3",
   "metadata": {},
   "source": [
    "### 47. Create a set of the first `n` triangular numbers."
   ]
  },
  {
   "cell_type": "code",
   "execution_count": 251,
   "id": "b4dd774f-2975-488a-b7df-f3ed62648949",
   "metadata": {},
   "outputs": [],
   "source": [
    "def n_tri(n):\n",
    "    l1 = []\n",
    "    x = 0\n",
    "    for i in range(1,n+1):\n",
    "        x = x+i\n",
    "        l1.append(x)\n",
    "    return l1"
   ]
  },
  {
   "cell_type": "code",
   "execution_count": 252,
   "id": "91c00331-7c3d-4b02-83b0-cfd3168e942d",
   "metadata": {},
   "outputs": [
    {
     "name": "stdin",
     "output_type": "stream",
     "text": [
      "Enter anu number 18\n"
     ]
    },
    {
     "name": "stdout",
     "output_type": "stream",
     "text": [
      "Set of tringular numebrs {1, 66, 3, 36, 6, 136, 105, 10, 171, 45, 78, 15, 21, 55, 120, 153, 91, 28}\n"
     ]
    }
   ],
   "source": [
    "set_tri_n = int(input(\"Enter anu number\"))\n",
    "print(\"Set of tringular numebrs\",set(n_tri(set_tri_n)))"
   ]
  },
  {
   "cell_type": "markdown",
   "id": "0625da08-d1c4-42a4-ab4a-9c64f30b7dc4",
   "metadata": {},
   "source": [
    "### 48. Check if a set contains another set as a subset."
   ]
  },
  {
   "cell_type": "code",
   "execution_count": 253,
   "id": "9cb1414c-0625-42e4-94f9-3d466f2d1113",
   "metadata": {},
   "outputs": [
    {
     "name": "stdout",
     "output_type": "stream",
     "text": [
      "paren set is {1, 2, 3, 4, 5, 6, 7, 8, 9, 10}\n",
      "child set is  {1, 3, 5, 9}\n",
      "Child set is subset of parent\n"
     ]
    }
   ],
   "source": [
    "print(\"paren set is\",s_union)\n",
    "print(\"child set is \",s_odd)\n",
    "if s_odd.issubset(s_union):\n",
    "    print(\"Child set is subset of parent\")\n",
    "else:\n",
    "    print(\"Child is not subset of parent\")"
   ]
  },
  {
   "cell_type": "markdown",
   "id": "2db1b09c-c1ce-4d69-b583-fa804e542591",
   "metadata": {},
   "source": [
    "### 49. Create a set of alternating 1s and 0s of length `n`."
   ]
  },
  {
   "cell_type": "code",
   "execution_count": 254,
   "id": "138ca7a4-6e4c-4379-bbdb-11c59162a90d",
   "metadata": {},
   "outputs": [
    {
     "name": "stdin",
     "output_type": "stream",
     "text": [
      "Enter any number 8\n"
     ]
    },
    {
     "name": "stdout",
     "output_type": "stream",
     "text": [
      "Set cannot have duplicate so it has unique value {0, 1}\n"
     ]
    }
   ],
   "source": [
    "length_input = int(input(\"Enter any number\"))\n",
    "set_0s_1s = set([i % 2 for i in range(1,length_input+1)])\n",
    "print(\"Set cannot have duplicate so it has unique value\",set_0s_1s)"
   ]
  },
  {
   "cell_type": "markdown",
   "id": "a05ea354-78af-4963-b935-0e6867c9bc30",
   "metadata": {},
   "source": [
    "### 50. Merge multiple sets into one."
   ]
  },
  {
   "cell_type": "code",
   "execution_count": 255,
   "id": "683a919a-9482-405e-954f-fdf4fc6a9ae8",
   "metadata": {},
   "outputs": [
    {
     "name": "stdout",
     "output_type": "stream",
     "text": [
      "Odd set  {1, 3, 5, 9}\n",
      "Even set  {16, 4}\n",
      "After odd and even merged {1, 2, 3, 4, 5, 6, 9, 16}\n"
     ]
    }
   ],
   "source": [
    "print(\"Odd set \",s_odd)\n",
    "print(\"Even set \",s_even)\n",
    "s_merge = s1.union(s_odd,s_even)\n",
    "print(\"After odd and even merged\",s_merge)"
   ]
  }
 ],
 "metadata": {
  "kernelspec": {
   "display_name": "Python 3 (ipykernel)",
   "language": "python",
   "name": "python3"
  },
  "language_info": {
   "codemirror_mode": {
    "name": "ipython",
    "version": 3
   },
   "file_extension": ".py",
   "mimetype": "text/x-python",
   "name": "python",
   "nbconvert_exporter": "python",
   "pygments_lexer": "ipython3",
   "version": "3.10.8"
  }
 },
 "nbformat": 4,
 "nbformat_minor": 5
}
