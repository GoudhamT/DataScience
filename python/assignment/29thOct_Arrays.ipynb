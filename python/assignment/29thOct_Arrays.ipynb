{
 "cells": [
  {
   "cell_type": "markdown",
   "id": "662ea3e1-e1b2-4655-848a-73af4de683aa",
   "metadata": {},
   "source": [
    "# Arrays"
   ]
  },
  {
   "cell_type": "markdown",
   "id": "28b454b2-1c01-49d4-bad0-3fbbc85ffb3f",
   "metadata": {},
   "source": [
    "### 1. Given an array, check if it contains any duplicates or not.\n",
    "### arr = [1, 2, 4, 2, 5, 9]\n",
    "### Output = True"
   ]
  },
  {
   "cell_type": "code",
   "execution_count": 22,
   "id": "3dd2dd3c-39d1-486f-a047-e31f2e49ee09",
   "metadata": {},
   "outputs": [
    {
     "name": "stdout",
     "output_type": "stream",
     "text": [
      "Array[1, 2, 4, 5, 9, 2] has duplicate elements? :True\n"
     ]
    }
   ],
   "source": [
    "arr = [1,2,4,5,9,2]\n",
    "\n",
    "def getduplicate(iparr):  \n",
    "    x = 0\n",
    "    for i in iparr:\n",
    "        x+= 1\n",
    "        for j in iparr[x:]:\n",
    "            if i == j:\n",
    "                return True\n",
    "    return False\n",
    "\n",
    "print(f\"Array{arr} has duplicate elements? :{getduplicate(arr)}\")\n",
    "# Time complexity is n**2 -> n square"
   ]
  },
  {
   "cell_type": "markdown",
   "id": "1fc7680a-7cd9-4db9-bd63-cfc09f1a1525",
   "metadata": {},
   "source": [
    "### 2. Given an array and an integer k, rotate the array to the right by k steps.\n",
    "### arr = [1, 2, 3, 4, 5, 6, 7] k = 3\n",
    "### Output = [5, 6, 7, 1, 2, 3, 4]"
   ]
  },
  {
   "cell_type": "code",
   "execution_count": 19,
   "id": "161d372a-6428-42bc-bccd-3741a6532152",
   "metadata": {},
   "outputs": [
    {
     "name": "stdout",
     "output_type": "stream",
     "text": [
      "5 6 7 1 2 3 4 \n",
      "\n"
     ]
    }
   ],
   "source": [
    "def RightRotate(a, n, k):\n",
    "    k = k % n; \n",
    "    for i in range(0, n): \n",
    "        if(i < k):\n",
    "            print(a[n + i - k], end = \" \");\n",
    "        else:\n",
    "            print(a[i - k], end = \" \")\n",
    "    print(\"\\n\");\n",
    " \n",
    "\n",
    "arr = [ 1, 2, 3, 4, 5,6,7 ];\n",
    "N = len(Array);\n",
    "K = 3;\n",
    "     \n",
    "RightRotate(Array, N, K);\n",
    "# Time complexity is O(n)"
   ]
  },
  {
   "cell_type": "markdown",
   "id": "b323137e-51ae-4552-8836-a1ca426fabd4",
   "metadata": {},
   "source": [
    "### 3. Reverse the given array in-place, means without using any extra data structure.\n",
    "### arr = [2, 4, 5, 7, 9, 12]\n",
    "### Output = [12, 9, 7, 5, 4, 2]"
   ]
  },
  {
   "cell_type": "code",
   "execution_count": 16,
   "id": "89a3356f-84d7-40be-86c7-c63bcde7108a",
   "metadata": {},
   "outputs": [
    {
     "name": "stdout",
     "output_type": "stream",
     "text": [
      "[12, 9, 7, 5, 4, 2]\n"
     ]
    }
   ],
   "source": [
    "arr = [2,4,5,7,9,12]\n",
    "\n",
    "for i in range(int(len(arr)/2)):\n",
    "    arr[i],arr[(len(arr)-1)-i] = arr[(len(arr)-1)-i],arr[i]\n",
    "print(arr)\n",
    "# Time complexity is O(n)"
   ]
  },
  {
   "cell_type": "markdown",
   "id": "362b2fad-e04b-4447-97fb-f395d838b7c9",
   "metadata": {},
   "source": [
    "### 4. Given an array of integers, find the maximum element in an array\n",
    "### arr = [10, 5, 20, 8, 15]\n",
    "### Output = 20"
   ]
  },
  {
   "cell_type": "code",
   "execution_count": 4,
   "id": "677f4fff-6fc5-4b65-b0d5-d0f92a6018de",
   "metadata": {},
   "outputs": [
    {
     "name": "stdout",
     "output_type": "stream",
     "text": [
      "Maximum element is  20\n"
     ]
    }
   ],
   "source": [
    "arr = [10,5,20,8,15]\n",
    "max_val = arr[0]\n",
    "for val in arr:\n",
    "    if val > max_val:\n",
    "        max_val = val\n",
    "print(\"Maximum element is \",max_val)\n",
    "# Time complexity is O(n)"
   ]
  },
  {
   "cell_type": "markdown",
   "id": "75b1d299-1df9-4ae9-bfee-289fd804fdda",
   "metadata": {},
   "source": [
    "### 5. Given a sorted array, remove the duplicate element without using any extra data structure.\n",
    "### arr = [1, 1, 2, 2, 2, 3, 3, 4, 4, 4, 5, 5]\n",
    "### Output = [1, 2, 3, 4, 5]"
   ]
  },
  {
   "cell_type": "code",
   "execution_count": 3,
   "id": "175fb7b3-3498-4747-8914-bd7ad819abd2",
   "metadata": {},
   "outputs": [],
   "source": [
    "arr = [1, 1, 2, 2, 2, 3, 3, 4, 4, 4, 5, 5]"
   ]
  },
  {
   "cell_type": "code",
   "execution_count": 6,
   "id": "8e42e593-963c-4cee-8d6d-469a8cb76d1e",
   "metadata": {},
   "outputs": [
    {
     "name": "stdout",
     "output_type": "stream",
     "text": [
      "[1, 2, 3, 4, 5]\n"
     ]
    }
   ],
   "source": [
    "for i in arr:\n",
    "    while arr.count(i) > 1:\n",
    "        arr.remove(i)\n",
    "print(arr)\n",
    "# Time complexity is n**2 -> n square"
   ]
  },
  {
   "cell_type": "code",
   "execution_count": null,
   "id": "d1560b73-d6e0-471e-a70e-45295da6ec3f",
   "metadata": {},
   "outputs": [],
   "source": []
  }
 ],
 "metadata": {
  "kernelspec": {
   "display_name": "Python 3 (ipykernel)",
   "language": "python",
   "name": "python3"
  },
  "language_info": {
   "codemirror_mode": {
    "name": "ipython",
    "version": 3
   },
   "file_extension": ".py",
   "mimetype": "text/x-python",
   "name": "python",
   "nbconvert_exporter": "python",
   "pygments_lexer": "ipython3",
   "version": "3.10.8"
  }
 },
 "nbformat": 4,
 "nbformat_minor": 5
}
