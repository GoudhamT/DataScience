{
 "cells": [
  {
   "cell_type": "markdown",
   "id": "62e0f8a2-2d1c-486c-b62f-a25f03f60a7e",
   "metadata": {},
   "source": [
    "## Basic Level"
   ]
  },
  {
   "cell_type": "markdown",
   "id": "c5c17100-c8e8-48f6-bcea-7573db2509b6",
   "metadata": {},
   "source": [
    "### 1. Write a Python program to print the numbers from 1 to 10 using a `for` loop."
   ]
  },
  {
   "cell_type": "code",
   "execution_count": 1,
   "id": "34066683-8d2e-4831-9f04-9993ca908d96",
   "metadata": {},
   "outputs": [
    {
     "name": "stdout",
     "output_type": "stream",
     "text": [
      "1\n",
      "2\n",
      "3\n",
      "4\n",
      "5\n",
      "6\n",
      "7\n",
      "8\n",
      "9\n",
      "10\n"
     ]
    }
   ],
   "source": [
    "def print_nos():\n",
    "    for i in range(1,11):\n",
    "        print(i)\n",
    "print_nos()"
   ]
  },
  {
   "cell_type": "markdown",
   "id": "7311ec53-4bf0-41bf-85b0-9b25d8e3a231",
   "metadata": {},
   "source": [
    "### 2. Create a program that calculates the sum of all numbers in a list using a `for` loop."
   ]
  },
  {
   "cell_type": "code",
   "execution_count": 2,
   "id": "28d368bc-6729-4b2a-9952-ade8614644e1",
   "metadata": {},
   "outputs": [],
   "source": [
    "def summ_list(l):\n",
    "    x = 0\n",
    "    for i in l:\n",
    "        x = x + i   \n",
    "    return x"
   ]
  },
  {
   "cell_type": "code",
   "execution_count": 3,
   "id": "836078a1-3de9-4db8-902a-122a954d9bec",
   "metadata": {},
   "outputs": [
    {
     "data": {
      "text/plain": [
       "66"
      ]
     },
     "execution_count": 3,
     "metadata": {},
     "output_type": "execute_result"
    }
   ],
   "source": [
    "summ_list([1,2,3,4,5,6,7,8,9,10,11])"
   ]
  },
  {
   "cell_type": "markdown",
   "id": "b71eab2a-3d2c-47f3-b94a-18975f971e20",
   "metadata": {},
   "source": [
    "### 3. Write a program to print the characters of a string in reverse order using a `for` loop."
   ]
  },
  {
   "cell_type": "code",
   "execution_count": 4,
   "id": "b3ee38aa-36b6-4d3f-bf9a-9193ce333ba8",
   "metadata": {},
   "outputs": [],
   "source": [
    "def revrse_str(s):\n",
    "    for i in range(len(s)-1,-1,-1):\n",
    "        print(s[i])"
   ]
  },
  {
   "cell_type": "code",
   "execution_count": 5,
   "id": "5d541348-73cd-4b53-9afc-d0123ed35e36",
   "metadata": {},
   "outputs": [
    {
     "name": "stdout",
     "output_type": "stream",
     "text": [
      "n\n",
      "o\n",
      "h\n",
      "t\n",
      "y\n",
      "p\n"
     ]
    }
   ],
   "source": [
    "revrse_str('python')"
   ]
  },
  {
   "cell_type": "markdown",
   "id": "7d01e512-39be-4003-aa39-28cdc5a27235",
   "metadata": {},
   "source": [
    "### 4. Develop a program that finds the factorial of a given number using a `for` loop."
   ]
  },
  {
   "cell_type": "code",
   "execution_count": 6,
   "id": "df50dc67-849d-483d-a756-99c724dd90e5",
   "metadata": {},
   "outputs": [
    {
     "name": "stdin",
     "output_type": "stream",
     "text": [
      "Enter any number 10\n"
     ]
    },
    {
     "name": "stdout",
     "output_type": "stream",
     "text": [
      "3628800\n"
     ]
    }
   ],
   "source": [
    "fac_n = int(input(\"Enter any number\"))\n",
    "x = 1\n",
    "for i in range(1,fac_n+1):\n",
    "    x = x * i\n",
    "print(x)"
   ]
  },
  {
   "cell_type": "markdown",
   "id": "f6272815-e6ac-46a6-a7a7-b3120838b19d",
   "metadata": {},
   "source": [
    "### 5. Create a program to print the multiplication table of a given number using a `for` loop."
   ]
  },
  {
   "cell_type": "code",
   "execution_count": 7,
   "id": "f20199d0-9d18-42e9-ba2b-17c3fc448a68",
   "metadata": {},
   "outputs": [
    {
     "name": "stdin",
     "output_type": "stream",
     "text": [
      "Enter any number 3\n"
     ]
    },
    {
     "name": "stdout",
     "output_type": "stream",
     "text": [
      "1 * 3 = 3\n",
      "2 * 3 = 6\n",
      "3 * 3 = 9\n",
      "4 * 3 = 12\n",
      "5 * 3 = 15\n",
      "6 * 3 = 18\n",
      "7 * 3 = 21\n",
      "8 * 3 = 24\n",
      "9 * 3 = 27\n",
      "10 * 3 = 30\n"
     ]
    }
   ],
   "source": [
    "mul_n = int(input(\"Enter any number\"))\n",
    "\n",
    "for i in range(1,11):\n",
    "    print(f\"{i} * {mul_n} = {i*mul_n}\" )"
   ]
  },
  {
   "cell_type": "markdown",
   "id": "e82cc370-9b1b-47c3-877d-c7e6c459608c",
   "metadata": {},
   "source": [
    "### 6. Write a program that counts the number of even and odd numbers in a list using a `for` loop."
   ]
  },
  {
   "cell_type": "code",
   "execution_count": 8,
   "id": "d1e3178f-4048-47c6-b8a8-4f1f48db1405",
   "metadata": {},
   "outputs": [
    {
     "name": "stdout",
     "output_type": "stream",
     "text": [
      " In given list [1, 2, 3, 4, 5, 6, 7, 8, 9, 10, 11, 12, 13, 14, 15] there are 7 even numbers and 8 odd numbers\n"
     ]
    }
   ],
   "source": [
    "mylist = [1,2,3,4,5,6,7,8,9,10,11,12,13,14,15]\n",
    "i_even = 0\n",
    "i_odd = 0\n",
    "for i in mylist:\n",
    "    if i % 2 ==0 :\n",
    "        i_even += 1\n",
    "    else:\n",
    "        i_odd += 1\n",
    "print(f\" In given list {mylist} there are {i_even} even numbers and {i_odd} odd numbers\")"
   ]
  },
  {
   "cell_type": "markdown",
   "id": "7c098a5e-950e-47c4-9ea0-b268fb7c1fe5",
   "metadata": {},
   "source": [
    "### 7. Develop a program that prints the squares of numbers from 1 to 5 using a `for` loop."
   ]
  },
  {
   "cell_type": "code",
   "execution_count": 9,
   "id": "bcabad0e-c0dc-4f52-aff4-0abad3340e48",
   "metadata": {},
   "outputs": [
    {
     "name": "stdout",
     "output_type": "stream",
     "text": [
      "1\n",
      "4\n",
      "9\n",
      "16\n",
      "25\n"
     ]
    }
   ],
   "source": [
    "for i in range(1,6):\n",
    "    print(i**2)"
   ]
  },
  {
   "cell_type": "markdown",
   "id": "13de5f10-ce58-4df5-b98b-60df93017795",
   "metadata": {},
   "source": [
    "### 8. Create a program to find the length of a string without using the `len()` function."
   ]
  },
  {
   "cell_type": "code",
   "execution_count": 10,
   "id": "afdd88d7-14f4-4526-865c-102ae955891c",
   "metadata": {},
   "outputs": [
    {
     "name": "stdout",
     "output_type": "stream",
     "text": [
      "Length for given string is  6\n"
     ]
    }
   ],
   "source": [
    "mystr = 'python'\n",
    "x = 0\n",
    "for i in mystr:\n",
    "    x += 1\n",
    "print(\"Length for given string is \",x)"
   ]
  },
  {
   "cell_type": "markdown",
   "id": "eb5b7614-f018-43c0-8ce0-fe660432a5da",
   "metadata": {},
   "source": [
    "### 9. Write a program that calculates the average of a list of numbers using a `for` loop."
   ]
  },
  {
   "cell_type": "code",
   "execution_count": 11,
   "id": "faec8e70-5813-4cee-9168-4b8ca948209a",
   "metadata": {},
   "outputs": [
    {
     "name": "stdout",
     "output_type": "stream",
     "text": [
      "Average is  6\n"
     ]
    }
   ],
   "source": [
    "from functools import reduce\n",
    "import math\n",
    "list_nos = [1,2,3,4,5,6,7,8,9,10]\n",
    "div = len(list_nos)\n",
    "sum_1= reduce(lambda a,b : a+b , list_nos)\n",
    "print(\"Average is \",math.ceil(sum_1/div))"
   ]
  },
  {
   "cell_type": "markdown",
   "id": "75398ae4-de2d-451a-bd9b-439aafc6e901",
   "metadata": {},
   "source": [
    "### 10. Develop a program that prints the first `n` Fibonacci numbers using a `for` loop."
   ]
  },
  {
   "cell_type": "code",
   "execution_count": 12,
   "id": "7b042e70-1002-4f01-80d0-d9babde2c1a5",
   "metadata": {},
   "outputs": [
    {
     "name": "stdin",
     "output_type": "stream",
     "text": [
      "enter any number 20\n"
     ]
    },
    {
     "name": "stdout",
     "output_type": "stream",
     "text": [
      "1\n",
      "2\n",
      "6\n",
      "24\n",
      "120\n",
      "720\n",
      "5040\n",
      "40320\n",
      "362880\n",
      "3628800\n",
      "39916800\n",
      "479001600\n",
      "6227020800\n",
      "87178291200\n",
      "1307674368000\n",
      "20922789888000\n",
      "355687428096000\n",
      "6402373705728000\n",
      "121645100408832000\n",
      "2432902008176640000\n"
     ]
    }
   ],
   "source": [
    "fib_no = int(input(\"enter any number\"))\n",
    "\n",
    "def print_fib(fib_no):\n",
    "    for i in range(1,fib_no+1):\n",
    "        if i <= 1:\n",
    "            print(1)\n",
    "        else:\n",
    "            x = 1\n",
    "            for j in range(2,i+1):\n",
    "                x = x * j\n",
    "            else:\n",
    "                print(x)\n",
    "print_fib(fib_no)"
   ]
  },
  {
   "cell_type": "markdown",
   "id": "774396ea-a792-41ca-8085-2c52be76a98f",
   "metadata": {},
   "source": [
    "## Intermediate Level:"
   ]
  },
  {
   "cell_type": "markdown",
   "id": "d20adc57-bc1d-460b-b878-8333d6a53c75",
   "metadata": {},
   "source": [
    "### 11. Write a program to check if a given list contains any duplicates using a `for` loop."
   ]
  },
  {
   "cell_type": "code",
   "execution_count": 13,
   "id": "ed4665a5-272e-43b7-805f-fb7f4421afda",
   "metadata": {},
   "outputs": [
    {
     "name": "stdout",
     "output_type": "stream",
     "text": [
      "List has duplicate element\n"
     ]
    }
   ],
   "source": [
    "l = [1,2,3,4,5,6,1,2]\n",
    "l1 = l.copy()\n",
    "for i in l :\n",
    "    l1.remove(i)\n",
    "    if i in l1:\n",
    "        print(\"List has duplicate element\")\n",
    "        break\n",
    "else:\n",
    "    print(\"List has no duplicates\")"
   ]
  },
  {
   "cell_type": "markdown",
   "id": "f7f2f0df-cf04-44eb-a174-8d61f4f5f05a",
   "metadata": {},
   "source": [
    "### 12. Create a program that prints the prime numbers in a given range using a `for` loop."
   ]
  },
  {
   "cell_type": "code",
   "execution_count": 14,
   "id": "288bbc20-b4b9-49d2-a747-f6e8a9b27ed5",
   "metadata": {},
   "outputs": [],
   "source": [
    "def prime_no(n):\n",
    "    for i in range(2,n):\n",
    "        if n % i == 0:\n",
    "            return False\n",
    "    return True\n"
   ]
  },
  {
   "cell_type": "code",
   "execution_count": 15,
   "id": "4447db8f-b6a3-49db-985c-4898ddbb7279",
   "metadata": {},
   "outputs": [
    {
     "name": "stdin",
     "output_type": "stream",
     "text": [
      "Enter any number 20\n"
     ]
    },
    {
     "name": "stdout",
     "output_type": "stream",
     "text": [
      "1\n",
      "3\n",
      "5\n",
      "7\n",
      "11\n",
      "13\n",
      "17\n",
      "19\n",
      "23\n"
     ]
    }
   ],
   "source": [
    "prime_n = int(input(\"Enter any number\"))\n",
    "y = 3\n",
    "z = y + prime_n+3\n",
    "print(1)\n",
    "while y <= z:\n",
    "    if prime_no(y):\n",
    "        print(y)\n",
    "    y += 1\n",
    "    "
   ]
  },
  {
   "cell_type": "markdown",
   "id": "7482463e-0683-44a9-b2b2-42de673c50fb",
   "metadata": {},
   "source": [
    "### 13. Develop a program that counts the number of vowels in a string using a `for` loop."
   ]
  },
  {
   "cell_type": "code",
   "execution_count": 16,
   "id": "ed876f38-d62a-4bfb-9f72-4af4446a95dd",
   "metadata": {},
   "outputs": [
    {
     "name": "stdout",
     "output_type": "stream",
     "text": [
      "Total vowels in given string is 6\n"
     ]
    }
   ],
   "source": [
    "vowel_str = 'machine learning'\n",
    "vowel_cnt = 0\n",
    "for i in vowel_str:\n",
    "    if i in ['a','e','i','o','u']:\n",
    "        vowel_cnt += 1\n",
    "print(\"Total vowels in given string is\",vowel_cnt)"
   ]
  },
  {
   "cell_type": "markdown",
   "id": "d95b1936-7ddd-437c-9d63-0610fd534dff",
   "metadata": {},
   "source": [
    "### 14. Write a program to find the maximum element in a 2D list using a nested `for` loop."
   ]
  },
  {
   "cell_type": "code",
   "execution_count": 17,
   "id": "ddf443e1-4546-4727-b33b-bf4fd0576761",
   "metadata": {},
   "outputs": [
    {
     "name": "stdout",
     "output_type": "stream",
     "text": [
      "Maximum value is  7\n"
     ]
    }
   ],
   "source": [
    "list_2d = [[1,2,3,4],[5,6,7,2]]\n",
    "x = 0\n",
    "for i in list_2d:\n",
    "    if type(i) == list:\n",
    "        for j in i:\n",
    "            if j > x:\n",
    "                x = j\n",
    "print(\"Maximum value is \",x)\n",
    "            "
   ]
  },
  {
   "cell_type": "markdown",
   "id": "ad84eac5-004f-41d1-8ee4-452b67213cd5",
   "metadata": {},
   "source": [
    "### 15. Create a program that removes all occurrences of a specific element from a list using a `for` loop."
   ]
  },
  {
   "cell_type": "code",
   "execution_count": 18,
   "id": "b474e2c1-2138-43ec-86f4-40a60a49350d",
   "metadata": {},
   "outputs": [
    {
     "name": "stdout",
     "output_type": "stream",
     "text": [
      "1 of all occurences has been removed from [2, 3, 4, 5, 2, 3, 56]\n"
     ]
    }
   ],
   "source": [
    "mylist = [1,2,3,4,5,1,1,1,2,3,1,1,56]\n",
    "value_remove = 1\n",
    "while value_remove in mylist:\n",
    "    mylist.remove(value_remove)\n",
    "print(f\"{value_remove} of all occurences has been removed from {mylist}\")"
   ]
  },
  {
   "cell_type": "markdown",
   "id": "544fbcb7-cdf2-4e7a-8f0c-731c4306b958",
   "metadata": {},
   "source": [
    "### 16. Develop a program that generates a multiplication table for numbers from 1 to 5 using a nested `for` loop."
   ]
  },
  {
   "cell_type": "code",
   "execution_count": 19,
   "id": "3fcbac7e-a62b-40de-81e6-be3aa65a5b57",
   "metadata": {},
   "outputs": [
    {
     "name": "stdout",
     "output_type": "stream",
     "text": [
      "Multiplication for table 1\n",
      "1 * 1 = 1\n",
      "2 * 1 = 2\n",
      "3 * 1 = 3\n",
      "4 * 1 = 4\n",
      "5 * 1 = 5\n",
      "6 * 1 = 6\n",
      "7 * 1 = 7\n",
      "8 * 1 = 8\n",
      "9 * 1 = 9\n",
      "10 * 1 = 10\n",
      "Multiplication for table 2\n",
      "1 * 2 = 2\n",
      "2 * 2 = 4\n",
      "3 * 2 = 6\n",
      "4 * 2 = 8\n",
      "5 * 2 = 10\n",
      "6 * 2 = 12\n",
      "7 * 2 = 14\n",
      "8 * 2 = 16\n",
      "9 * 2 = 18\n",
      "10 * 2 = 20\n",
      "Multiplication for table 3\n",
      "1 * 3 = 3\n",
      "2 * 3 = 6\n",
      "3 * 3 = 9\n",
      "4 * 3 = 12\n",
      "5 * 3 = 15\n",
      "6 * 3 = 18\n",
      "7 * 3 = 21\n",
      "8 * 3 = 24\n",
      "9 * 3 = 27\n",
      "10 * 3 = 30\n",
      "Multiplication for table 4\n",
      "1 * 4 = 4\n",
      "2 * 4 = 8\n",
      "3 * 4 = 12\n",
      "4 * 4 = 16\n",
      "5 * 4 = 20\n",
      "6 * 4 = 24\n",
      "7 * 4 = 28\n",
      "8 * 4 = 32\n",
      "9 * 4 = 36\n",
      "10 * 4 = 40\n",
      "Multiplication for table 5\n",
      "1 * 5 = 5\n",
      "2 * 5 = 10\n",
      "3 * 5 = 15\n",
      "4 * 5 = 20\n",
      "5 * 5 = 25\n",
      "6 * 5 = 30\n",
      "7 * 5 = 35\n",
      "8 * 5 = 40\n",
      "9 * 5 = 45\n",
      "10 * 5 = 50\n"
     ]
    }
   ],
   "source": [
    "for i in range(1,6):\n",
    "    print(f\"Multiplication for table {i}\")\n",
    "    for j in range(1,11):\n",
    "        print(f\"{j} * {i} = {j*i}\")"
   ]
  },
  {
   "cell_type": "markdown",
   "id": "5a092f24-5820-4348-a78f-09a573e4e554",
   "metadata": {},
   "source": [
    "### 17. Write a program that converts a list of Fahrenheit temperatures to Celsius using a `for` loop."
   ]
  },
  {
   "cell_type": "code",
   "execution_count": 20,
   "id": "633d3901-d977-4030-9909-93c99670a0ff",
   "metadata": {},
   "outputs": [
    {
     "name": "stdout",
     "output_type": "stream",
     "text": [
      "List of Farenheit to Celsius is  [32, 42, 72, 92, 27]\n"
     ]
    }
   ],
   "source": [
    "import math \n",
    "f_list = [50,60,90,110,45.7]\n",
    "c_list = []\n",
    "for i in f_list:\n",
    "    c_list.append(math.floor(i-32 * 5/9))\n",
    "print(\"List of Farenheit to Celsius is \",c_list)"
   ]
  },
  {
   "cell_type": "markdown",
   "id": "2f61a806-6c72-44f0-91f8-21104a7da003",
   "metadata": {},
   "source": [
    "### 18. Create a program to print the common elements from two lists using a `for` loop."
   ]
  },
  {
   "cell_type": "code",
   "execution_count": 21,
   "id": "54550d33-249b-44c7-8cd4-9bce5032bcf7",
   "metadata": {},
   "outputs": [
    {
     "name": "stdout",
     "output_type": "stream",
     "text": [
      "Element is available in list  DS\n",
      "Element is available in list  12\n",
      "Element is available in list  56\n",
      "Element is available in list  (90+89j)\n",
      "Element is available in list  [1, 2, 3, 4]\n"
     ]
    }
   ],
   "source": [
    "l1 = ['DS','ML',12,34,56,78,90+89j,[1,2,3,4]]\n",
    "l2 = ['python', 'DS', 90+89j,12,56,[1,2,3,4]]\n",
    "\n",
    "for i in l1:\n",
    "    if i in l2:\n",
    "        print(\"Element is available in list \",i)\n"
   ]
  },
  {
   "cell_type": "markdown",
   "id": "92ecf122-9ed3-4ad4-b44d-54b93ae913f4",
   "metadata": {},
   "source": [
    "### 19. Develop a program that prints the pattern of right-angled triangles using a `for` loop. Use ‘*’ to draw the\n",
    "### pattern"
   ]
  },
  {
   "cell_type": "code",
   "execution_count": 22,
   "id": "0890be5b-a937-4048-bac8-b222c5a404d0",
   "metadata": {},
   "outputs": [
    {
     "name": "stdout",
     "output_type": "stream",
     "text": [
      "* \n",
      "* * \n",
      "* * * \n",
      "* * * * \n",
      "* * * * * \n"
     ]
    }
   ],
   "source": [
    "n = 5\n",
    "for i in range(1,n+1):\n",
    "    for j in range(1,i+1):\n",
    "        print('*',end=' ')\n",
    "    print()"
   ]
  },
  {
   "cell_type": "markdown",
   "id": "2f5c0882-1e49-4e45-8638-3be954bc0bb9",
   "metadata": {},
   "source": [
    "### 20. Write a program to find the greatest common divisor (GCD) of two numbers using a `for` loop."
   ]
  },
  {
   "cell_type": "code",
   "execution_count": 23,
   "id": "bb327958-0a1c-47fd-af75-de9d6fc7cf0a",
   "metadata": {},
   "outputs": [
    {
     "name": "stdin",
     "output_type": "stream",
     "text": [
      "enter any number 100\n",
      "enter any number 200\n"
     ]
    },
    {
     "name": "stdout",
     "output_type": "stream",
     "text": [
      "Greatest common divisor is 100\n"
     ]
    }
   ],
   "source": [
    "gcd_1 = int(input(\"enter any number\"))\n",
    "gcd_2 = int(input(\"enter any number\"))\n",
    "\n",
    "diff = abs(gcd_1 - gcd_2)\n",
    "for i in range(diff,0,-1):\n",
    "    if gcd_1 % i == 0 and gcd_2 % i == 0:\n",
    "        print(\"Greatest common divisor is\",i)\n",
    "        break\n",
    "else:\n",
    "     print(\"Cannot be divided\")"
   ]
  },
  {
   "cell_type": "markdown",
   "id": "001c4a1d-06a5-444d-80f8-3823020ac82d",
   "metadata": {},
   "source": [
    "## Advanced Level:"
   ]
  },
  {
   "cell_type": "markdown",
   "id": "48bda5a5-873e-434e-aff3-15bc1c54d563",
   "metadata": {},
   "source": [
    "### 21. Create a program that calculates the sum of the digits of numbers in a list using a list comprehension."
   ]
  },
  {
   "cell_type": "code",
   "execution_count": 24,
   "id": "7d17441f-cdcf-459f-8caa-fcc79ba333fb",
   "metadata": {},
   "outputs": [
    {
     "name": "stdout",
     "output_type": "stream",
     "text": [
      "Sum of given list is 55\n"
     ]
    }
   ],
   "source": [
    "from functools import reduce\n",
    "sum_l = [1,2,3,4,5,6,7,8,9,10]\n",
    "sum_final = reduce(lambda a,b : a+b,sum_l)\n",
    "print(\"Sum of given list is\",sum_final)"
   ]
  },
  {
   "cell_type": "markdown",
   "id": "5f18ae46-9d0f-4e23-88bf-cb8d99313029",
   "metadata": {},
   "source": [
    "### 22. Write a program to find the prime factors of a given number using a `for` loop and list comprehension."
   ]
  },
  {
   "cell_type": "code",
   "execution_count": 25,
   "id": "e486e723-868e-4a21-9d16-79a898655a41",
   "metadata": {},
   "outputs": [
    {
     "name": "stdout",
     "output_type": "stream",
     "text": [
      "[2, 3, 5, 7, 11, 13, 17, 19, 23, 29]\n"
     ]
    }
   ],
   "source": [
    "value = 30\n",
    "prime = [x for x in range(2, value) if all(x % y != 0 for y in range(2, x))]\n",
    "print(prime)\n"
   ]
  },
  {
   "cell_type": "markdown",
   "id": "47cb6e85-90c7-40b1-9bb1-472ce20557b5",
   "metadata": {},
   "source": [
    "### 23. Develop a program that extracts unique elements from a list and stores them in a new list using a list\n",
    "### comprehension."
   ]
  },
  {
   "cell_type": "code",
   "execution_count": 26,
   "id": "363f2ff3-b8a9-4fe3-85ad-9fa475ccec20",
   "metadata": {},
   "outputs": [
    {
     "name": "stdout",
     "output_type": "stream",
     "text": [
      "Uniques elements are  [1, 2, 3, 4, 5, 6, 8, 9, 0]\n"
     ]
    }
   ],
   "source": [
    "mylist = [1,2,3,4,5,6,2,3,4,8,9,0]\n",
    "unique_list = []\n",
    "[ unique_list.append(i) for i in mylist if i not in unique_list]\n",
    "print(\"Uniques elements are \",unique_list)"
   ]
  },
  {
   "cell_type": "markdown",
   "id": "01f620e3-4a72-41fc-8dc2-03463d14b51a",
   "metadata": {},
   "source": [
    "### 24. Create a program that generates a list of all palindromic numbers up to a specified limit using a list\n",
    "### comprehension."
   ]
  },
  {
   "cell_type": "code",
   "execution_count": 27,
   "id": "b1d1beca-eab7-4ce9-a213-8cdfcda601f7",
   "metadata": {},
   "outputs": [
    {
     "name": "stdout",
     "output_type": "stream",
     "text": [
      "Palindrome numebrs [111, 121, 131, 141, 151]\n"
     ]
    }
   ],
   "source": [
    "n = 5\n",
    "palin_list = [int(\"%d%d%d\" %(x,y,x)) for x in range(1,2) for y in range(1,n+1) ]\n",
    "print(\"Palindrome numebrs\",palin_list)"
   ]
  },
  {
   "cell_type": "markdown",
   "id": "3a955fc6-b200-4077-987c-fd72e02f4402",
   "metadata": {},
   "source": [
    "### 25. Write a program to flatten a nested list using list comprehension."
   ]
  },
  {
   "cell_type": "code",
   "execution_count": 28,
   "id": "af8e6ed9-cc92-4d7e-a2d6-8c5843e2a530",
   "metadata": {},
   "outputs": [
    {
     "name": "stdout",
     "output_type": "stream",
     "text": [
      "[1, 2, 3, 4, 5, 6, 7, 8, 9, 0, 9, 90]\n"
     ]
    }
   ],
   "source": [
    "nested_list = [[1,2,3,4,5],[6,7,8,9,0],9,90]\n",
    "flat_list = []\n",
    "[flat_list.extend(i) if type(i) == list else flat_list.append(i) for i in nested_list ]\n",
    "print(flat_list)"
   ]
  },
  {
   "cell_type": "markdown",
   "id": "1eee1137-e7e7-4dba-881d-198e40ae7cb7",
   "metadata": {},
   "source": [
    "### 26. Develop a program that computes the sum of even and odd numbers in a list separately using list\n",
    "### comprehension."
   ]
  },
  {
   "cell_type": "code",
   "execution_count": 29,
   "id": "8e6f36ea-dbef-42d3-a9f1-017dafbf92ab",
   "metadata": {},
   "outputs": [
    {
     "name": "stdout",
     "output_type": "stream",
     "text": [
      "Sum of even numbers 30\n",
      "Sum of odd numbers 25\n"
     ]
    }
   ],
   "source": [
    "sum_odd = []\n",
    "sum_even = []\n",
    "mylist = [1,2,3,4,5,6,7,8,9,10]\n",
    "[sum_even.append(i) if i % 2 == 0 else sum_odd.append(i) for i in mylist]\n",
    "print(\"Sum of even numbers\",sum(sum_even))\n",
    "print(\"Sum of odd numbers\",sum(sum_odd))"
   ]
  },
  {
   "cell_type": "markdown",
   "id": "699a27a7-31b0-46b4-8c56-cbce4911d4ac",
   "metadata": {},
   "source": [
    "### 27. Create a program that generates a list of squares of odd numbers between 1 and 10 using list\n",
    "### comprehension."
   ]
  },
  {
   "cell_type": "code",
   "execution_count": 30,
   "id": "b3824cd5-59c5-446e-9a99-be3fd7ac5fe8",
   "metadata": {},
   "outputs": [
    {
     "name": "stdout",
     "output_type": "stream",
     "text": [
      "Square of odd numebrs  [1, 9, 25, 49, 81]\n"
     ]
    }
   ],
   "source": [
    "sqr_list = [ i ** 2 for i in range(1,11) if i % 2 != 0]\n",
    "print(\"Square of odd numebrs \",sqr_list)"
   ]
  },
  {
   "cell_type": "markdown",
   "id": "858595e2-128b-4850-b9ac-b3b72481b980",
   "metadata": {},
   "source": [
    "### 28. Write a program that combines two lists into a dictionary using list comprehension."
   ]
  },
  {
   "cell_type": "code",
   "execution_count": 31,
   "id": "005f9746-c546-4b0a-83ba-e5348615fc9b",
   "metadata": {},
   "outputs": [
    {
     "name": "stdout",
     "output_type": "stream",
     "text": [
      "Created dictionary is  {1: 5, 2: 6, 3: 7, 4: 8}\n"
     ]
    }
   ],
   "source": [
    "l1 = [1,2,3,4]\n",
    "l2 = [5,6,7,8]\n",
    "mydict = { l1[i] : l2[i] for i in range(0,len(l1))}\n",
    "print(\"Created dictionary is \",mydict)"
   ]
  },
  {
   "cell_type": "markdown",
   "id": "acfb57c8-656c-48ae-afd8-0dfc2c1ec2ac",
   "metadata": {},
   "source": [
    "### 29. Develop a program that extracts the vowels from a string and stores them in a list using list comprehension."
   ]
  },
  {
   "cell_type": "code",
   "execution_count": 32,
   "id": "db524f8c-ff92-4d4b-963d-fec8ab5ef1b0",
   "metadata": {},
   "outputs": [
    {
     "name": "stdout",
     "output_type": "stream",
     "text": [
      "Extracted vowel from string is  ['a', 'i', 'e', 'e', 'a', 'i']\n"
     ]
    }
   ],
   "source": [
    "mystr = 'machine learning'\n",
    "vowels_list = [i for i in mystr if i in ['a','e','i','o','u'] ]\n",
    "print(\"Extracted vowel from string is \",vowels_list)"
   ]
  },
  {
   "cell_type": "markdown",
   "id": "95ca8c30-be26-41f5-9cde-0b63aa1cfe25",
   "metadata": {},
   "source": [
    "### 30. Create a program that removes all non-numeric characters from a list of strings using list comprehension."
   ]
  },
  {
   "cell_type": "code",
   "execution_count": 33,
   "id": "b5aaa970-70c0-46f7-9dfc-689c773a4711",
   "metadata": {},
   "outputs": [
    {
     "name": "stdout",
     "output_type": "stream",
     "text": [
      "After removing non numeric characters [1, 2, 3, 4, 5, 5, 6, 9, 0, 5, 6, 7]\n"
     ]
    }
   ],
   "source": [
    "mystr = 'DS12345machine56Alearning90C56D7'\n",
    "non_num_list = [int(i) for i in mystr if i.isnumeric()]\n",
    "print(\"After removing non numeric characters\",non_num_list)"
   ]
  },
  {
   "cell_type": "markdown",
   "id": "dfc597ef-ac13-4e13-b22b-314ae24076ac",
   "metadata": {},
   "source": [
    "## Challenge Level"
   ]
  },
  {
   "cell_type": "markdown",
   "id": "69616301-c806-4933-9345-6339bfa7d5c9",
   "metadata": {},
   "source": [
    "### 31. Write a program to generate a list of prime numbers using the Sieve of Eratosthenes algorithm and list   comprehension."
   ]
  },
  {
   "cell_type": "code",
   "execution_count": 34,
   "id": "7eeaad22-c6cd-4546-93fa-f21db3890195",
   "metadata": {},
   "outputs": [
    {
     "name": "stdin",
     "output_type": "stream",
     "text": [
      "Enter any number to get prime 50\n"
     ]
    },
    {
     "name": "stdout",
     "output_type": "stream",
     "text": [
      "List of prime are [2, 3, 5, 7, 11, 13, 17, 19, 23, 29, 31, 37, 41, 43, 47]\n"
     ]
    }
   ],
   "source": [
    "from functools import reduce\n",
    "n = int(input(\"Enter any number to get prime\"))\n",
    "primes = list(reduce(lambda r, x: r - set(range(x**2, n, x)) if x in r else r, range(2, int(n**0.5) + 1), set(range(2,n))))\n",
    "print(\"List of prime are\",primes)"
   ]
  },
  {
   "cell_type": "markdown",
   "id": "f2368ac0-2c68-431d-8c19-1d3551c2e633",
   "metadata": {},
   "source": [
    "### 32. Create a program that generates a list of all Pythagorean triplets up to a specified limit using list comprehension."
   ]
  },
  {
   "cell_type": "code",
   "execution_count": 35,
   "id": "4b711bf3-7362-4990-a74f-6ddca0b6d4a6",
   "metadata": {},
   "outputs": [
    {
     "name": "stdin",
     "output_type": "stream",
     "text": [
      "Enter any number  20\n"
     ]
    },
    {
     "name": "stdout",
     "output_type": "stream",
     "text": [
      "[(3, 4, 5), (5, 12, 13), (6, 8, 10), (8, 15, 17), (9, 12, 15), (12, 16, 20)]\n"
     ]
    }
   ],
   "source": [
    "nos = int(input('Enter any number '))\n",
    "print([(a, b, c) for a in range(1, nos + 1) for b in range(a, nos + 1)\n",
    "       for c in range(b, nos + 1) if a**2 + b**2 == c**2])"
   ]
  },
  {
   "cell_type": "markdown",
   "id": "5fe0441f-505b-44ec-abdf-33c4b814bd6e",
   "metadata": {},
   "source": [
    "### 33. Develop a program that generates a list of all possible combinations of two lists using list comprehension."
   ]
  },
  {
   "cell_type": "code",
   "execution_count": 36,
   "id": "8cda89dc-3a35-4881-9fce-1006fcaeba91",
   "metadata": {},
   "outputs": [
    {
     "name": "stdout",
     "output_type": "stream",
     "text": [
      "Unique combinations are  [('a', 1), ('a', 2), ('a', 3), ('b', 1), ('b', 2), ('b', 3), ('c', 1), ('c', 2), ('c', 3)]\n"
     ]
    }
   ],
   "source": [
    "list_1 = [\"a\", \"b\", \"c\"]\n",
    "list_2 = [1, 2, 3]\n",
    "unique_combinations = []\n",
    "[unique_combinations.append((list_1[i],list_2[j])) for i in range(len(list_1)) for j in range(len(list_2)) ]\n",
    "print(\"Unique combinations are \",unique_combinations)"
   ]
  },
  {
   "cell_type": "markdown",
   "id": "01e6dc6d-132c-4bd2-9fc3-211e8837edac",
   "metadata": {},
   "source": [
    "### 34. Write a program that calculates the mean, median, and mode of a list of numbers using list comprehension."
   ]
  },
  {
   "cell_type": "code",
   "execution_count": 37,
   "id": "db498db4-bfb7-4b73-a1d5-e61554d0bcce",
   "metadata": {},
   "outputs": [
    {
     "name": "stdout",
     "output_type": "stream",
     "text": [
      "Mean is 3\n",
      "Median is 5\n",
      "Mode is 1\n"
     ]
    }
   ],
   "source": [
    "test = [1,2,3,4,5,6,7,1,1]\n",
    "from functools import reduce\n",
    "import math\n",
    "calculated_list = [(reduce(lambda a,b : a+b , test)//len(test)),(test[math.floor(len(test) / 2)]),max(set(test), key=test.count)]\n",
    "print(\"Mean is\",calculated_list[0])\n",
    "print(\"Median is\",calculated_list[1])\n",
    "print(\"Mode is\",calculated_list[2])"
   ]
  },
  {
   "cell_type": "markdown",
   "id": "70468bcf-13c4-4d70-a250-abd7887fa7e9",
   "metadata": {},
   "source": [
    "### 35. Create a program that generates Pascal's triangle up to a specified number of rows using list comprehension."
   ]
  },
  {
   "cell_type": "code",
   "execution_count": 38,
   "id": "9ddc549e-aebf-41c7-a2fc-069f7d85b2ad",
   "metadata": {},
   "outputs": [
    {
     "data": {
      "text/plain": [
       "[[1], [1, 1], [1, 2, 1], [1, 3, 3, 1], [1, 4, 6, 4, 1]]"
      ]
     },
     "execution_count": 38,
     "metadata": {},
     "output_type": "execute_result"
    }
   ],
   "source": [
    "[d.setdefault(j, [sum(d[len(d)-1][max(i, 0):i + 2]) for i in range(-1, j)])\n",
    " for j, d in enumerate([{0: [1]}] * 5)]"
   ]
  },
  {
   "cell_type": "markdown",
   "id": "969ac432-70cb-46a2-8417-c0c73b20e6cf",
   "metadata": {},
   "source": [
    "### 36. Develop a program that calculates the sum of the digits of a factorial of numbers from 1 to 5 using list comprehension."
   ]
  },
  {
   "cell_type": "code",
   "execution_count": 39,
   "id": "bc699630-00e4-4ce5-a718-32f8b046dc06",
   "metadata": {},
   "outputs": [
    {
     "name": "stdout",
     "output_type": "stream",
     "text": [
      "[1, 2, 6, 24, 120]\n"
     ]
    }
   ],
   "source": [
    "s=[]\n",
    "s=[s[-1] for x in range(1,6) if not s.append(x*s[-1] if s else 1)]\n",
    "print(s)"
   ]
  },
  {
   "cell_type": "markdown",
   "id": "28e404ce-ff7b-4ef1-8cdd-d0fe93343ac5",
   "metadata": {},
   "source": [
    "### 37. Write a program that finds the longest word in a sentence using list comprehension."
   ]
  },
  {
   "cell_type": "code",
   "execution_count": 40,
   "id": "8f928979-e3b4-4683-b0f8-96c86eab5d9c",
   "metadata": {},
   "outputs": [
    {
     "name": "stdout",
     "output_type": "stream",
     "text": [
      "the longest word is Exploratory Data Analysis\n"
     ]
    }
   ],
   "source": [
    "l = ['DS','python','machine learning','Exploratory Data Analysis','Computer vision']\n",
    "x = 0\n",
    "word_len = [len(i) if len(i)>x else x for i in l]\n",
    "print(\"the longest word is\",l[word_len.index(max(word_len))])"
   ]
  },
  {
   "cell_type": "markdown",
   "id": "bed10284-969e-4532-8371-d82967fc1790",
   "metadata": {},
   "source": [
    "### 38. Create a program that filters a list of strings to include only those with more than three vowels using list comprehension."
   ]
  },
  {
   "cell_type": "code",
   "execution_count": 41,
   "id": "4dd659c5-a061-4559-be70-b759c7ed122a",
   "metadata": {},
   "outputs": [
    {
     "name": "stdout",
     "output_type": "stream",
     "text": [
      "more vowels are [['a', 'i', 'e', 'e', 'a', 'i'], ['o', 'u', 'e', 'i', 'i', 'o']]\n"
     ]
    }
   ],
   "source": [
    "list_words = ['DS','machine learning','python','computer vision','stastics']\n",
    "vowels = ['a','e','i','o','u']\n",
    "list_words1 = 'machine learning'\n",
    "long_vowels = [ x for x in [list(filter(lambda a: a in vowels , i)) for i in list_words] if len(x) > 3]\n",
    "print(\"more vowels are\",long_vowels)"
   ]
  },
  {
   "cell_type": "markdown",
   "id": "88284c20-3901-4bd8-be93-79d0d6292fb9",
   "metadata": {},
   "source": [
    "### 39. Develop a program that calculates the sum of the digits of numbers from 1 to 1000 using list comprehension."
   ]
  },
  {
   "cell_type": "code",
   "execution_count": 42,
   "id": "5b34b3a2-63f2-4d87-a854-39e101605e97",
   "metadata": {},
   "outputs": [
    {
     "name": "stdout",
     "output_type": "stream",
     "text": [
      "sum of numbers 500500\n"
     ]
    }
   ],
   "source": [
    "sum_nos = sum([ i for i in range(1,1001)])\n",
    "print(\"sum of numbers\",sum_nos)"
   ]
  },
  {
   "cell_type": "markdown",
   "id": "6a1fc656-c61c-46f4-b914-a3f2420b77f5",
   "metadata": {},
   "source": [
    "### 40. Write a program that generates a list of prime palindromic numbers using list comprehension."
   ]
  },
  {
   "cell_type": "code",
   "execution_count": 46,
   "id": "d32432c6-d62c-4184-afa0-92c4993723db",
   "metadata": {},
   "outputs": [
    {
     "name": "stdin",
     "output_type": "stream",
     "text": [
      "Enter any number 3\n"
     ]
    },
    {
     "data": {
      "text/plain": [
       "[(2, 1, 2), (3, 1, 3), (3, 2, 3)]"
      ]
     },
     "execution_count": 46,
     "metadata": {},
     "output_type": "execute_result"
    }
   ],
   "source": [
    "n = int(input(\"Enter any number\"))\n",
    "[(x,y,x) for x in range(1,n+1) for y in range(1,x)]"
   ]
  },
  {
   "cell_type": "code",
   "execution_count": null,
   "id": "a5fa07c9-7fbf-4141-ac32-d1831da724db",
   "metadata": {},
   "outputs": [],
   "source": []
  }
 ],
 "metadata": {
  "kernelspec": {
   "display_name": "Python 3 (ipykernel)",
   "language": "python",
   "name": "python3"
  },
  "language_info": {
   "codemirror_mode": {
    "name": "ipython",
    "version": 3
   },
   "file_extension": ".py",
   "mimetype": "text/x-python",
   "name": "python",
   "nbconvert_exporter": "python",
   "pygments_lexer": "ipython3",
   "version": "3.10.8"
  }
 },
 "nbformat": 4,
 "nbformat_minor": 5
}
