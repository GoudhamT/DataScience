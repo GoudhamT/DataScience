{
 "cells": [
  {
   "cell_type": "markdown",
   "id": "0c54eddb-22a1-4a41-b496-e1dbf5147116",
   "metadata": {},
   "source": [
    "## OOPS Assignment"
   ]
  },
  {
   "cell_type": "markdown",
   "id": "94af54ab-5f77-4954-8d16-e12bb056b5f1",
   "metadata": {},
   "source": [
    "### Problem 1: Bank Account Create a class representing a bank account with attributes like account number, account holder name, and balance. Implement methods to deposit and withdraw money from the account."
   ]
  },
  {
   "cell_type": "code",
   "execution_count": 1,
   "id": "ccb4fd4d-3e9d-467f-b4c4-e11fcc4ee7f5",
   "metadata": {},
   "outputs": [],
   "source": [
    "import logging as log"
   ]
  },
  {
   "cell_type": "code",
   "execution_count": 2,
   "id": "4bf773b1-90a2-4be0-a1e3-fb3d0665d1ab",
   "metadata": {},
   "outputs": [],
   "source": [
    "log.basicConfig(filename = 'class.log',level = log.INFO, format=\"%(asctime)s - %(message)s\")"
   ]
  },
  {
   "cell_type": "code",
   "execution_count": 17,
   "id": "d6533715-0990-4de9-8da0-1b48001f7abe",
   "metadata": {},
   "outputs": [],
   "source": [
    "class bank:\n",
    "    \n",
    "    def __init__(self,account_no,acc_name,bal):\n",
    "        self.accountno = account_no\n",
    "        self.name = acc_name\n",
    "        self.balance = bal\n",
    "        log.info(\" account is created\")\n",
    "        \n",
    "    def get_holder_details(self):\n",
    "        log.info(self.name + \" account are sent\")\n",
    "        return self.name + \" your account is \"+ str(self.accountno) + \" has Balance of \" + str(self.balance)\n",
    "    \n",
    "    def deposit(self,amount):\n",
    "        try:\n",
    "            if amount < 0:\n",
    "                raise CannotbeNegative\n",
    "            else:\n",
    "                self.balance += amount\n",
    "                log.info(\"Balance amount \"+str(amount)+\" is deposited\")\n",
    "                return \"Current Balance is \"+str(self.balance)\n",
    "        except Exception as e:\n",
    "            log.error(e)\n",
    "    \n",
    "    def withdrwas(self,amount):\n",
    "        try:\n",
    "            if amount < 0:\n",
    "                raise CannotbeNegative\n",
    "            else:                \n",
    "                self.balance -= amount\n",
    "                log.info(\"Balance amount \"+str(amount)+\" is withdrawn\")\n",
    "                return \"Current Balance is \"+str(self.balance)\n",
    "        except Exception as e:\n",
    "            log.error(e)"
   ]
  },
  {
   "cell_type": "code",
   "execution_count": 18,
   "id": "c4c1a448-508a-4389-acd3-ff4ad0f8f89f",
   "metadata": {},
   "outputs": [],
   "source": [
    "user1 = bank(1234,'python',10000)"
   ]
  },
  {
   "cell_type": "markdown",
   "id": "4b46843a-4d21-4a09-a0e7-435c25a5b0da",
   "metadata": {},
   "source": [
    "user1.get_holder_details()"
   ]
  },
  {
   "cell_type": "code",
   "execution_count": 20,
   "id": "09afd3b1-2e9c-4984-a42a-7d9a53532893",
   "metadata": {},
   "outputs": [],
   "source": [
    "user1.deposit(-20)"
   ]
  },
  {
   "cell_type": "code",
   "execution_count": 21,
   "id": "4c2e296c-1629-4f79-9bb9-1010dc4a80ec",
   "metadata": {},
   "outputs": [
    {
     "data": {
      "text/plain": [
       "'Current Balance is 10030'"
      ]
     },
     "execution_count": 21,
     "metadata": {},
     "output_type": "execute_result"
    }
   ],
   "source": [
    "user1.deposit(30)"
   ]
  },
  {
   "cell_type": "code",
   "execution_count": 22,
   "id": "4f412bee-af21-4cfc-8585-2ea65f4c111a",
   "metadata": {},
   "outputs": [],
   "source": [
    "user1.withdrwas(-300)"
   ]
  },
  {
   "cell_type": "code",
   "execution_count": 23,
   "id": "97588acf-75ba-475d-ab01-e31688dd5b45",
   "metadata": {},
   "outputs": [
    {
     "data": {
      "text/plain": [
       "'Current Balance is 9630'"
      ]
     },
     "execution_count": 23,
     "metadata": {},
     "output_type": "execute_result"
    }
   ],
   "source": [
    "user1.withdrwas(400)"
   ]
  },
  {
   "cell_type": "markdown",
   "id": "abdada99-3a00-42ec-8ccf-865f674f4263",
   "metadata": {},
   "source": [
    "### Problem 2: Employee Management Create a class representing an employee with attributes like employee ID, name, and salary. Implement methods to calculate the yearly bonus and display employee details."
   ]
  },
  {
   "cell_type": "code",
   "execution_count": 22,
   "id": "bd3612e8-1e10-4c76-ba09-9872a7f684a9",
   "metadata": {},
   "outputs": [],
   "source": [
    "import logging as log\n",
    "log.basicConfig(filename = 'class.log',level = log.INFO, format=\"%(asctime)s - %(message)s\")"
   ]
  },
  {
   "cell_type": "code",
   "execution_count": 24,
   "id": "2d2470e4-ca8e-4c1f-9f39-9a5c6373fc8a",
   "metadata": {},
   "outputs": [],
   "source": [
    "class employee :\n",
    "    \n",
    "    def __init__(self,name,ID,salary,department):\n",
    "        self.name = name\n",
    "        self.ID = ID\n",
    "        self.salary = salary\n",
    "        self.department = department\n",
    "        log.info(\"employee is insterted\")\n",
    "        \n",
    "    def getDetails(self):\n",
    "        print(\"Employee Name: \",self.name)\n",
    "        print(\"Employee ID: \",self.ID)\n",
    "        print(\"Employee Salary : \",self.salary)\n",
    "        print(\"Employee Department: \",self.department)\n",
    "\n",
    "class project(employee):\n",
    "    \n",
    "    def __init__(self,projectID,projectname,hours,name,ID,salary,department):\n",
    "        super().__init__(name,ID,salary,department)\n",
    "        self.projectID = projectID\n",
    "        self.projectname = projectname\n",
    "        self.hours = hours\n",
    "        log.info(\"new project is assigned to employee %s\",self.name)\n",
    "        \n",
    "    def calculateBonus(self):\n",
    "        log.info(\"you are entitled to get bonus this year\")\n",
    "        return f\"you are entitled to get bonus of {self.hours*80} based on hours worked\"\n",
    "    \n",
    "    def acceptBonus(self):\n",
    "        self.salary += self.hours*80\n",
    "        log.info(\"accepted to receive bonus\")"
   ]
  },
  {
   "cell_type": "code",
   "execution_count": 25,
   "id": "bb96d998-7b88-4a29-bb61-6ac2bb1d39dd",
   "metadata": {},
   "outputs": [],
   "source": [
    "gouth_project = project(123,'TEST',40,'test',123,80000,'IT')"
   ]
  },
  {
   "cell_type": "code",
   "execution_count": 26,
   "id": "7154ac13-4907-4b40-9235-55306fb9f754",
   "metadata": {},
   "outputs": [
    {
     "name": "stdout",
     "output_type": "stream",
     "text": [
      "Employee Name:  test\n",
      "Employee ID:  123\n",
      "Employee Salary :  80000\n",
      "Employee Department:  IT\n"
     ]
    }
   ],
   "source": [
    "gouth_project.getDetails()"
   ]
  },
  {
   "cell_type": "code",
   "execution_count": 27,
   "id": "0518de60-34aa-4ba5-8da2-434fe09c7c50",
   "metadata": {},
   "outputs": [
    {
     "data": {
      "text/plain": [
       "'you are entitled to get bonus of 3200 based on hours worked'"
      ]
     },
     "execution_count": 27,
     "metadata": {},
     "output_type": "execute_result"
    }
   ],
   "source": [
    "gouth_project.calculateBonus()"
   ]
  },
  {
   "cell_type": "code",
   "execution_count": 28,
   "id": "0eeb094e-68fd-4612-b808-21e078a5567b",
   "metadata": {},
   "outputs": [],
   "source": [
    "gouth_project.acceptBonus()"
   ]
  },
  {
   "cell_type": "code",
   "execution_count": 29,
   "id": "e350904e-3d84-43ad-a7c9-c1ee87a7248a",
   "metadata": {},
   "outputs": [
    {
     "data": {
      "text/plain": [
       "83200"
      ]
     },
     "execution_count": 29,
     "metadata": {},
     "output_type": "execute_result"
    }
   ],
   "source": [
    "gouth_project.salary"
   ]
  },
  {
   "cell_type": "markdown",
   "id": "7b7d1c64-4890-477a-bce0-574bceef07fe",
   "metadata": {},
   "source": [
    "### Problem 3: Vehicle Rental Create a class representing a vehicle rental system. Implement methods to rent a vehicle, return a vehicle, and display available vehicles."
   ]
  },
  {
   "cell_type": "code",
   "execution_count": 62,
   "id": "21dcbc2a-94b4-4126-87f5-67be64cefe78",
   "metadata": {},
   "outputs": [],
   "source": [
    "import logging as log\n",
    "log.basicConfig(filename = 'class.log',level = log.INFO, format=\"%(asctime)s - %(message)s\")"
   ]
  },
  {
   "cell_type": "code",
   "execution_count": 75,
   "id": "3d1b1a3b-9007-401f-a532-5e500f22efa7",
   "metadata": {},
   "outputs": [],
   "source": [
    "class rental:\n",
    "    \n",
    "    cars = []\n",
    "    rent = dict()\n",
    "    \n",
    "    def addVehicle(self,car):\n",
    "        if car not in self.cars:\n",
    "            self.cars.append(car)\n",
    "            log.info(f\"{car} is added to our rental system\")\n",
    "        else:\n",
    "            log.info(f\"{car} is already available\")\n",
    "    \n",
    "    def rentVechicle(self,car,fromdate,todate):\n",
    "        self.rent[car] = {'fromdate':fromdate , 'todate': todate}\n",
    "        log.info(f\"{car} is rented to you from {fromdate} to {todate} \")\n",
    "    \n",
    "    def returnVehicle(self,car):\n",
    "        try:\n",
    "            self.rent.pop(car)\n",
    "        except Exception as e:\n",
    "            log.error(f\"{e} is not in our rental system\")\n",
    "    \n",
    "    def displayVehicle(self):\n",
    "        for i in self.cars:\n",
    "            if self.rent.get(i):\n",
    "                pass\n",
    "            else:\n",
    "                print(f\"Car is {i} is available \")"
   ]
  },
  {
   "cell_type": "code",
   "execution_count": 76,
   "id": "afb46bf6-f023-4ceb-86dc-035a12cc4638",
   "metadata": {},
   "outputs": [],
   "source": [
    "carr = rental()\n",
    "carr.addVehicle('i10')"
   ]
  },
  {
   "cell_type": "code",
   "execution_count": 77,
   "id": "cb524998-ec2a-49a4-a695-641691757e5d",
   "metadata": {},
   "outputs": [
    {
     "name": "stdout",
     "output_type": "stream",
     "text": [
      "Car is i10 is available \n"
     ]
    }
   ],
   "source": [
    "carr.displayVehicle()"
   ]
  },
  {
   "cell_type": "code",
   "execution_count": 78,
   "id": "5aedacb4-d308-4656-aaaa-5e67d4df8020",
   "metadata": {},
   "outputs": [],
   "source": [
    "carr.rentVechicle('i10',20231015,20231015)"
   ]
  },
  {
   "cell_type": "code",
   "execution_count": 79,
   "id": "62da1df2-e267-48fa-a8db-7936d29d6d48",
   "metadata": {},
   "outputs": [],
   "source": [
    "carr.displayVehicle()"
   ]
  },
  {
   "cell_type": "code",
   "execution_count": 80,
   "id": "adee4171-086c-46e6-a2b9-3dc692417201",
   "metadata": {},
   "outputs": [],
   "source": [
    "carr.returnVehicle('i20')"
   ]
  },
  {
   "cell_type": "code",
   "execution_count": 81,
   "id": "0de3fa59-11e7-4982-9e5c-6b0930968c16",
   "metadata": {},
   "outputs": [],
   "source": [
    "carr.displayVehicle()"
   ]
  },
  {
   "cell_type": "markdown",
   "id": "e8eff8b6-40f5-4c00-a8f9-731d2a81d069",
   "metadata": {},
   "source": [
    "### Problem 4: Library Catalog Create classes representing a library and a book. Implement methods to add books to the library, borrow books, and display available books."
   ]
  },
  {
   "cell_type": "code",
   "execution_count": 2,
   "id": "d7ce3884-5c12-4fdf-bfe3-973f36dc96bd",
   "metadata": {},
   "outputs": [],
   "source": [
    "import logging as log\n",
    "log.basicConfig(filename = 'class.log',level = log.INFO, format=\"%(asctime)s - %(message)s\")"
   ]
  },
  {
   "cell_type": "code",
   "execution_count": 6,
   "id": "a641d1bb-5465-4575-8464-776acfc2bf59",
   "metadata": {},
   "outputs": [],
   "source": [
    "class library:\n",
    "    \n",
    "    books = []\n",
    "    \n",
    "    def addBooks(self,bookname):\n",
    "        if bookname not in self.books:            \n",
    "            self.books.append(bookname)\n",
    "            log.info(f\"{bookname} book is added into library inventory\")\n",
    "        else:\n",
    "            log.error(f\"{bookname} is already available cannot be added as duplicate\")\n",
    "    \n",
    "    def borrowBooks(self,bookname):\n",
    "        if bookname in self.books:\n",
    "            print(\"Book is availbale you can rent it\")\n",
    "            self.books.remove(bookname)\n",
    "            log.info(f\"{bookname} is rented\")\n",
    "        else:\n",
    "            \n",
    "    \n",
    "    def returnBooks(self,bookname):\n",
    "        if bookname not in self.books:\n",
    "            log.info(\"Book is returned\")\n",
    "            self.addBooks(bookname)\n",
    "    \n",
    "    def displayBooks(self):\n",
    "        return 'Available books are ',self.books\n",
    "            "
   ]
  },
  {
   "cell_type": "code",
   "execution_count": 7,
   "id": "e6768c12-cf6f-433b-a5bb-42d369ec5e58",
   "metadata": {},
   "outputs": [],
   "source": [
    "myBook = library()"
   ]
  },
  {
   "cell_type": "code",
   "execution_count": 8,
   "id": "35765e7d-4905-42ff-a024-a362074f8a09",
   "metadata": {},
   "outputs": [],
   "source": [
    "myBook.addBooks(\"Baiscs of python\")"
   ]
  },
  {
   "cell_type": "code",
   "execution_count": 9,
   "id": "43b1946e-1496-44a7-b372-0cc1734a06d0",
   "metadata": {},
   "outputs": [
    {
     "data": {
      "text/plain": [
       "('Available books are ', ['Baiscs of python'])"
      ]
     },
     "execution_count": 9,
     "metadata": {},
     "output_type": "execute_result"
    }
   ],
   "source": [
    "myBook.displayBooks()"
   ]
  },
  {
   "cell_type": "code",
   "execution_count": 10,
   "id": "c99430bd-2501-452f-9472-ecbc9ceb3175",
   "metadata": {},
   "outputs": [],
   "source": [
    "myBook.addBooks(\"Statistics by Oreliey\")"
   ]
  },
  {
   "cell_type": "code",
   "execution_count": 11,
   "id": "ba04891b-b4ac-4635-bb16-5436715c6154",
   "metadata": {},
   "outputs": [
    {
     "data": {
      "text/plain": [
       "('Available books are ', ['Baiscs of python', 'Statistics by Oreliey'])"
      ]
     },
     "execution_count": 11,
     "metadata": {},
     "output_type": "execute_result"
    }
   ],
   "source": [
    "myBook.displayBooks()"
   ]
  },
  {
   "cell_type": "code",
   "execution_count": 14,
   "id": "b77b90d0-fc0f-47c3-834c-b9cca9be0b4d",
   "metadata": {},
   "outputs": [
    {
     "name": "stdout",
     "output_type": "stream",
     "text": [
      "Book is availbale you can rent it\n"
     ]
    }
   ],
   "source": [
    "myBook.borrowBooks('Baiscs of python')"
   ]
  },
  {
   "cell_type": "code",
   "execution_count": 16,
   "id": "4f37a0e0-696b-409e-8568-6c988884970c",
   "metadata": {},
   "outputs": [
    {
     "data": {
      "text/plain": [
       "('Available books are ', ['Statistics by Oreliey'])"
      ]
     },
     "execution_count": 16,
     "metadata": {},
     "output_type": "execute_result"
    }
   ],
   "source": [
    "myBook.displayBooks()"
   ]
  },
  {
   "cell_type": "code",
   "execution_count": 18,
   "id": "e6249de6-f43a-4228-a4c8-4f355d043108",
   "metadata": {},
   "outputs": [],
   "source": [
    "myBook.returnBooks('Baiscs of python')"
   ]
  },
  {
   "cell_type": "code",
   "execution_count": 19,
   "id": "684317c3-e0df-45f4-97ad-a23956c12376",
   "metadata": {},
   "outputs": [
    {
     "data": {
      "text/plain": [
       "('Available books are ', ['Statistics by Oreliey', 'Baiscs of python'])"
      ]
     },
     "execution_count": 19,
     "metadata": {},
     "output_type": "execute_result"
    }
   ],
   "source": [
    "myBook.displayBooks()"
   ]
  },
  {
   "cell_type": "markdown",
   "id": "e8ddc6e7-0cac-4464-baad-6f5c2d2f9dd6",
   "metadata": {},
   "source": [
    "### Problem 5: Product Inventory Create classes representing a product and an inventory system. Implement methods to add products to the inventory, update product quantity, and display available products."
   ]
  },
  {
   "cell_type": "code",
   "execution_count": 36,
   "id": "9d593911-f788-4b19-a907-025ea9a5359f",
   "metadata": {},
   "outputs": [],
   "source": [
    "import logging as log\n",
    "log.basicConfig(filename = 'class.log',level = log.INFO, format=\"%(asctime)s - %(message)s\")"
   ]
  },
  {
   "cell_type": "code",
   "execution_count": 45,
   "id": "9bfeef6b-e7ed-4c91-bd7d-aa0dc74f559d",
   "metadata": {},
   "outputs": [],
   "source": [
    "class inventory:\n",
    "    \n",
    "    products  = dict()\n",
    "    \n",
    "    def __init__(self,productname,quantity):\n",
    "        try:            \n",
    "            if type(quantity) != int:\n",
    "                raise TypeGT\n",
    "            self.products[productname] = quantity\n",
    "            log.info(f\"{productname} is added\")\n",
    "        except Exception as e:\n",
    "            log.error(\"Quantity cannot be string\")\n",
    "    \n",
    "    def updateQuantity(self,productname,quantity):\n",
    "        try:            \n",
    "            if self.products[productname]:\n",
    "                self.products[productname] = quantity\n",
    "                log.info(\"quantity are updated\")\n",
    "            else:\n",
    "                raise productnotfound\n",
    "        except Exception as E:\n",
    "            log.error(f\"{productname} product is invalid\")\n",
    "    \n",
    "    def displayProducts(self):\n",
    "        return 'Available products and quantity are',self.products\n",
    "    \n",
    "    def __str__(self):\n",
    "        return \"Procuts inventory details\",self.products\n",
    "    \n",
    "    def __del__(self):\n",
    "        pass"
   ]
  },
  {
   "cell_type": "code",
   "execution_count": 46,
   "id": "d5c565b5-2e21-4833-8849-cd2f692c53f1",
   "metadata": {},
   "outputs": [],
   "source": [
    "iPhone = inventory('iPhone 15 Pro',10)"
   ]
  },
  {
   "cell_type": "code",
   "execution_count": 47,
   "id": "8f97bc8f-17eb-492a-803e-a8e16c87b863",
   "metadata": {},
   "outputs": [
    {
     "data": {
      "text/plain": [
       "('Available products and quantity are', {'iPhone 15 Pro': 10})"
      ]
     },
     "execution_count": 47,
     "metadata": {},
     "output_type": "execute_result"
    }
   ],
   "source": [
    "iPhone.displayProducts()"
   ]
  },
  {
   "cell_type": "code",
   "execution_count": 48,
   "id": "d288d708-1605-4740-8729-05cf8ef0e09f",
   "metadata": {},
   "outputs": [],
   "source": [
    "iPhone15 = inventory('iPhone15',32)"
   ]
  },
  {
   "cell_type": "code",
   "execution_count": 49,
   "id": "72b87e12-d14d-40ff-9902-c26b1abc2074",
   "metadata": {},
   "outputs": [],
   "source": [
    "iPhone.updateQuantity('iPhone','test')"
   ]
  },
  {
   "cell_type": "code",
   "execution_count": 50,
   "id": "6287be14-d507-4c02-8515-29140ed8ce1d",
   "metadata": {},
   "outputs": [],
   "source": [
    "iPhone.updateQuantity('iPhone 15 Pro',22)"
   ]
  },
  {
   "cell_type": "code",
   "execution_count": 51,
   "id": "31427533-6498-4abf-a488-9cf4558dac28",
   "metadata": {},
   "outputs": [
    {
     "data": {
      "text/plain": [
       "('Available products and quantity are', {'iPhone 15 Pro': 22, 'iPhone15': 32})"
      ]
     },
     "execution_count": 51,
     "metadata": {},
     "output_type": "execute_result"
    }
   ],
   "source": [
    "iPhone.displayProducts()"
   ]
  },
  {
   "cell_type": "markdown",
   "id": "10bd6a74-282f-4c10-9d77-7160c164a8a5",
   "metadata": {},
   "source": [
    "### Problem 6: Shape Calculation Create a class representing a shape with attributes like length, width, and height. Implement methods to calculate the area and perimeter of the shape."
   ]
  },
  {
   "cell_type": "code",
   "execution_count": 95,
   "id": "75f70a32-7a8a-4eea-8224-58f85efbbbe5",
   "metadata": {},
   "outputs": [],
   "source": [
    "import logging as log\n",
    "log.basicConfig(filename = 'class.log',level = log.INFO, format=\"%(asctime)s - %(message)s\")"
   ]
  },
  {
   "cell_type": "code",
   "execution_count": 96,
   "id": "067662e7-7a87-4a0c-9eff-c40a9fe7cbbd",
   "metadata": {},
   "outputs": [],
   "source": [
    "class areaPerimeter:\n",
    "    \n",
    "    def __init__(self,length,width,height):\n",
    "        self.length = length\n",
    "        self.width = width\n",
    "        self.height = height\n",
    "        self.pi = 3.1414"
   ]
  },
  {
   "cell_type": "code",
   "execution_count": 97,
   "id": "b32bfd6b-e747-463c-b57a-e042b4e7855d",
   "metadata": {},
   "outputs": [],
   "source": [
    "class calctriangle(areaPerimeter):\n",
    "    \n",
    "    def __init__(self, length, width, height, side1, side2, side3):\n",
    "        super().__init__(length,width,height)\n",
    "        self.sidea = side1\n",
    "        self.sideb = side2\n",
    "        self.sidec = side3\n",
    "        log.info(\"Triangle value are received\")\n",
    "        \n",
    "    def area(self):\n",
    "        log.info(f\"Area of triangle is {0.5*(float(self.height) * float(self.length))}\")\n",
    "        return \"Area of triangle is \", 0.5*(float(self.height) * float(self.length))\n",
    "    \n",
    "    def perimeter(self):\n",
    "        log.info(f\"Perimeter of triable is {self.sidea + self.sideb + self.sidec}\")\n",
    "        return \"Perimeter of triable is \",self.sidea + self.sideb + self.sidec"
   ]
  },
  {
   "cell_type": "code",
   "execution_count": 104,
   "id": "e6bada7a-4fa8-4d4c-97d9-032c4c19c3d1",
   "metadata": {},
   "outputs": [],
   "source": [
    "class calcrectanle(areaPerimeter):\n",
    "    \n",
    "    def __init__(self,length,width):\n",
    "        super().__init__(length,width)\n",
    "        log.info(\"Rectangle value are received\")\n",
    "        \n",
    "    def area(self):\n",
    "        log.info(f\"Area of rectable is {(self.length * self.width)}\")\n",
    "        return \"Area of rectable is \", (self.length * self.width)\n",
    "    \n",
    "    def perimeter(self):\n",
    "        log.info(f\"Perimeter of rectangle is {2*(self.length * self.width)}\")\n",
    "        return \"Perimeter of rectangle is \",2*(self.length * self.width)"
   ]
  },
  {
   "cell_type": "code",
   "execution_count": 105,
   "id": "444ce711-b822-46ed-b645-dee3bfa5376f",
   "metadata": {},
   "outputs": [],
   "source": [
    "class calcsquare:\n",
    "    \n",
    "    def __init__(side):\n",
    "        self.side = side\n",
    "        log.info(\"Square value are received\")\n",
    "    \n",
    "    def area(self):\n",
    "        log.info(f\"Area of square is {(self.side * self.side) }\")\n",
    "        return \"Area of square is \", (self.side * self.side) \n",
    "    \n",
    "    def perimeter(self):\n",
    "        log.info(f\"Perimeter of square is {(4*self.side)}\")\n",
    "        return \"Perimeter of square is \",(4*self.side)"
   ]
  },
  {
   "cell_type": "code",
   "execution_count": 106,
   "id": "bd5e3633-9a70-450b-ac4b-3517cb695bfa",
   "metadata": {},
   "outputs": [],
   "source": [
    "class calccircle:\n",
    "    \n",
    "    def __init__(self,radius):\n",
    "        self.radius = radius\n",
    "        self.pi = 3.414\n",
    "        log.info(\"Circle value are received\")\n",
    "        \n",
    "    def area(self):\n",
    "        log.info(f\"Area of circle is {(self.pi*(self.radius ** 2))}\")\n",
    "        return \"Area of circle is \",(self.pi*(self.radius ** 2))\n",
    "    \n",
    "    def perimeter(self):\n",
    "        log.info(f\"Perimeter of circle is {2*self.pi*self.radius}\")\n",
    "        return \"Perimeter of circle is \",(2*self.pi*self.radius)"
   ]
  },
  {
   "cell_type": "code",
   "execution_count": 101,
   "id": "46f885d0-5809-46b4-ac96-7229bd059276",
   "metadata": {},
   "outputs": [],
   "source": [
    "mytriangle = calctriangle(10,20,30,10,10,10)"
   ]
  },
  {
   "cell_type": "code",
   "execution_count": 102,
   "id": "6fa1ace8-628a-461e-823e-04f68345240e",
   "metadata": {},
   "outputs": [
    {
     "data": {
      "text/plain": [
       "('Area of triangle is ', 150.0)"
      ]
     },
     "execution_count": 102,
     "metadata": {},
     "output_type": "execute_result"
    }
   ],
   "source": [
    "mytriangle.area()"
   ]
  },
  {
   "cell_type": "code",
   "execution_count": 103,
   "id": "aa2a90d9-d721-4322-80ec-71e43c7f7c86",
   "metadata": {},
   "outputs": [
    {
     "data": {
      "text/plain": [
       "('Perimeter of triable is ', 30)"
      ]
     },
     "execution_count": 103,
     "metadata": {},
     "output_type": "execute_result"
    }
   ],
   "source": [
    "mytriangle.perimeter()"
   ]
  },
  {
   "cell_type": "code",
   "execution_count": 107,
   "id": "81de581e-6ec0-4691-bda5-1f58ed59a89b",
   "metadata": {},
   "outputs": [],
   "source": [
    "mycircle = calccircle(40)"
   ]
  },
  {
   "cell_type": "code",
   "execution_count": 108,
   "id": "ca126ca0-8e26-4b62-851a-61b896f1a234",
   "metadata": {},
   "outputs": [
    {
     "data": {
      "text/plain": [
       "('Area of circle is ', 5462.400000000001)"
      ]
     },
     "execution_count": 108,
     "metadata": {},
     "output_type": "execute_result"
    }
   ],
   "source": [
    "mycircle.area()"
   ]
  },
  {
   "cell_type": "code",
   "execution_count": 109,
   "id": "1bc8aa36-17da-4885-8196-e0d3b7ee59ef",
   "metadata": {},
   "outputs": [
    {
     "data": {
      "text/plain": [
       "('Perimeter of circle is ', 273.12)"
      ]
     },
     "execution_count": 109,
     "metadata": {},
     "output_type": "execute_result"
    }
   ],
   "source": [
    "mycircle.perimeter()"
   ]
  },
  {
   "cell_type": "markdown",
   "id": "46527c88-e9c1-4497-9d5a-6bcdd1e37ae4",
   "metadata": {},
   "source": [
    "### Problem 7: Student Management Create a class representing a student with attributes like student ID, name, and grades. Implement methods to calculate the average grade and display student details."
   ]
  },
  {
   "cell_type": "code",
   "execution_count": 115,
   "id": "755e99be-e319-4a6c-b36f-75ccf2b5d686",
   "metadata": {},
   "outputs": [],
   "source": [
    "import logging as log\n",
    "log.basicConfig(filename = 'class.log',level = log.INFO, format=\"%(asctime)s - %(message)s\")"
   ]
  },
  {
   "cell_type": "code",
   "execution_count": 140,
   "id": "0764d40b-8b3b-49c9-aee2-66f1a9ff0812",
   "metadata": {},
   "outputs": [],
   "source": [
    "class student:\n",
    "    \n",
    "    grades = []\n",
    "    def __init__(self,name,ID):\n",
    "        self.name = name\n",
    "        self.ID = ID\n",
    "        log.info(f\"{self.name} is new student of this class\")\n",
    "        \n",
    "    def addGrades(self,grades):\n",
    "        self.grades.append(grades)\n",
    "    \n",
    "    def getAverage(self):\n",
    "        avg = 0\n",
    "        try:\n",
    "            for i in self.grades:\n",
    "                avg += i\n",
    "                log.info(f\"Average is calculated\")\n",
    "            return avg/len(self.grades)\n",
    "        except Exception as e:\n",
    "            log.error(e)\n",
    "    \n",
    "    def getDetails(self):\n",
    "        return \"Name is \" +self.name + \" ID is \"+str(self.ID) + \" and grades are \" +str(self.grades)"
   ]
  },
  {
   "cell_type": "code",
   "execution_count": 141,
   "id": "cc3b78a4-f12f-4b91-8241-50abdb8237f8",
   "metadata": {},
   "outputs": [],
   "source": [
    "studentA = student('A',1)"
   ]
  },
  {
   "cell_type": "code",
   "execution_count": 146,
   "id": "b9132900-1c21-42bf-97b9-0ef846976160",
   "metadata": {},
   "outputs": [
    {
     "data": {
      "text/plain": [
       "'Name is A ID is 1 and grades are [40, 50]'"
      ]
     },
     "execution_count": 146,
     "metadata": {},
     "output_type": "execute_result"
    }
   ],
   "source": [
    "studentA.getDetails()"
   ]
  },
  {
   "cell_type": "code",
   "execution_count": 145,
   "id": "23dc62bf-6062-452e-826c-092328ad3f3e",
   "metadata": {},
   "outputs": [],
   "source": [
    "studentA.addGrades(50)"
   ]
  },
  {
   "cell_type": "code",
   "execution_count": 147,
   "id": "dc5a945c-d0fc-4bb6-b8f5-964bf82b8c4e",
   "metadata": {},
   "outputs": [
    {
     "data": {
      "text/plain": [
       "45.0"
      ]
     },
     "execution_count": 147,
     "metadata": {},
     "output_type": "execute_result"
    }
   ],
   "source": [
    "studentA.getAverage()"
   ]
  },
  {
   "cell_type": "markdown",
   "id": "0f769c5f-8bbb-43c5-9cf4-95b5148f6020",
   "metadata": {},
   "source": [
    "### Problem 8: Email Management Create a class representing an email with attributes like sender, recipient, and subject. Implement methods to send an email and display email details."
   ]
  },
  {
   "cell_type": "code",
   "execution_count": 153,
   "id": "064115dc-23fa-4c6b-bc08-9ebffb0d0a30",
   "metadata": {},
   "outputs": [],
   "source": [
    "import logging as log\n",
    "log.basicConfig(filename = 'class.log',level = log.INFO, format=\"%(asctime)s - %(message)s\")"
   ]
  },
  {
   "cell_type": "code",
   "execution_count": 159,
   "id": "c3a42602-3e65-4f33-9801-ce1b1cfb0195",
   "metadata": {},
   "outputs": [],
   "source": [
    "class email :\n",
    "    \n",
    "    def __init__(self,sender,recipient,subject):\n",
    "        self.sender = sender\n",
    "        self.recipient = recipient\n",
    "        self.subject = subject\n",
    "        log.info(\"New email is added\")\n",
    "    \n",
    "    def addContent(self,content):\n",
    "        self.content = content\n",
    "        log.info(\"content is composed\")\n",
    "    \n",
    "    def sendemail(self):\n",
    "        log.info(\"Email is sent\")\n",
    "        return \"Email is sent to \"+self.recipient\n",
    "    \n",
    "    def displayemail(self):\n",
    "        print(f\"{self.sender} wants to send email to {self.recipient} with subject {self.subject}\")"
   ]
  },
  {
   "cell_type": "code",
   "execution_count": 160,
   "id": "6d597a31-d813-41c4-b4d0-3d2697e17fd6",
   "metadata": {},
   "outputs": [],
   "source": [
    "myemail = email('a','tob','pyton oops')"
   ]
  },
  {
   "cell_type": "code",
   "execution_count": 161,
   "id": "d09bc6f6-fc74-462a-a62c-5ac29c94e003",
   "metadata": {},
   "outputs": [],
   "source": [
    "myemail.addContent(\"This is email of email content\")"
   ]
  },
  {
   "cell_type": "code",
   "execution_count": 162,
   "id": "0ac24634-e01d-4a60-89d1-6474d22fce8f",
   "metadata": {},
   "outputs": [
    {
     "name": "stdout",
     "output_type": "stream",
     "text": [
      "a wants to send email to tob with subject pyton oops\n"
     ]
    }
   ],
   "source": [
    "myemail.displayemail()"
   ]
  },
  {
   "cell_type": "code",
   "execution_count": 163,
   "id": "9b273cfa-20ed-478a-bbd9-31541da8e64c",
   "metadata": {},
   "outputs": [
    {
     "data": {
      "text/plain": [
       "'Email is sent to tob'"
      ]
     },
     "execution_count": 163,
     "metadata": {},
     "output_type": "execute_result"
    }
   ],
   "source": [
    "myemail.sendemail()"
   ]
  },
  {
   "cell_type": "markdown",
   "id": "e4fcd12a-cfd7-4cf2-8db9-b177fa7e5119",
   "metadata": {},
   "source": [
    "### Problem 9: Social Media Profile Create a class representing a social media profile with attributes like username and posts. Implement methods to add posts, display posts, and search for posts by keyword."
   ]
  },
  {
   "cell_type": "code",
   "execution_count": 24,
   "id": "bef85017-0d0c-4307-9c0c-1badabaf7645",
   "metadata": {},
   "outputs": [],
   "source": [
    "import logging as log\n",
    "log.basicConfig(filename = 'class.log',level = log.INFO, format=\"%(asctime)s - %(message)s\")"
   ]
  },
  {
   "cell_type": "code",
   "execution_count": 37,
   "id": "dace5aaf-1c91-4d88-b213-361a16ddbcf7",
   "metadata": {},
   "outputs": [],
   "source": [
    "class socialMedia:\n",
    "    \n",
    "    posts = dict()\n",
    "    def __init__(self,userName):\n",
    "        self.userName = userName\n",
    "        log.info(f\"{userName} is registered to post online\")\n",
    "    \n",
    "    def addPosts(self,**kwargs):\n",
    "        for postHeading,postContent in kwargs.items():\n",
    "            self.posts[postHeading] = postContent\n",
    "            log.info(f\"{self.userName} has posted about {postHeading}\")\n",
    "    \n",
    "    def displayPosts(self):\n",
    "        for postHeading,postContent in self.posts.items():\n",
    "            print(f\"{postHeading} --- {postContent}\")\n",
    "    \n",
    "    def searchPosts(self,word):\n",
    "        for postHeading,postContent in self.posts.items():\n",
    "            if ( word in postHeading ) or (word in postContent):\n",
    "                print(f\"{postHeading} --- {postContent}\")\n",
    "                log.info(f\"{word} is being found in posts\")\n",
    "            else:\n",
    "                print(\"Not found in your posts\")\n",
    "                log.error(f\"{word} is not found in your posts\")\n",
    "            \n",
    "        "
   ]
  },
  {
   "cell_type": "code",
   "execution_count": 29,
   "id": "cdd6711b-3105-4a46-98b0-d155635d6a17",
   "metadata": {},
   "outputs": [],
   "source": [
    "instposts = socialMedia('python')"
   ]
  },
  {
   "cell_type": "code",
   "execution_count": 30,
   "id": "6b4ba758-8b4f-4d62-9300-e86af3d2b736",
   "metadata": {},
   "outputs": [],
   "source": [
    "instposts.addPosts(python = 'Easiest language to learn to become expert in Data Science')"
   ]
  },
  {
   "cell_type": "code",
   "execution_count": 31,
   "id": "409e5eee-1e64-48c7-9bdc-52e76fa94f95",
   "metadata": {},
   "outputs": [
    {
     "name": "stdout",
     "output_type": "stream",
     "text": [
      "python --- Easiest language to learn to become expert in Data Science\n"
     ]
    }
   ],
   "source": [
    "instposts.displayPosts()"
   ]
  },
  {
   "cell_type": "code",
   "execution_count": 32,
   "id": "b81c8200-901c-420f-a7ef-c532f2e8295d",
   "metadata": {},
   "outputs": [],
   "source": [
    "instposts.addPosts(BTP='SAP BTP which run on cloud foundry')"
   ]
  },
  {
   "cell_type": "code",
   "execution_count": 33,
   "id": "fde3133c-4a5e-4f80-a0f1-e9463c5b8032",
   "metadata": {},
   "outputs": [
    {
     "name": "stdout",
     "output_type": "stream",
     "text": [
      "python --- Easiest language to learn to become expert in Data Science\n",
      "BTP --- SAP BTP which run on cloud foundry\n"
     ]
    }
   ],
   "source": [
    "instposts.displayPosts()"
   ]
  },
  {
   "cell_type": "code",
   "execution_count": 35,
   "id": "f8d3cb95-4d27-4d65-b644-44ba8aa3d1bf",
   "metadata": {},
   "outputs": [
    {
     "name": "stdout",
     "output_type": "stream",
     "text": [
      "BTP --- SAP BTP which run on cloud foundry\n"
     ]
    }
   ],
   "source": [
    "instposts.searchPosts('BTP')"
   ]
  },
  {
   "cell_type": "code",
   "execution_count": 36,
   "id": "3a17a974-b3d6-4249-bd62-3442fb663e40",
   "metadata": {},
   "outputs": [],
   "source": [
    "instposts.searchPosts('ML')"
   ]
  },
  {
   "cell_type": "markdown",
   "id": "eab23694-2357-407d-96be-9bb1736abb6d",
   "metadata": {},
   "source": [
    "### Problem 10: ToDo List Create a class representing a ToDo list with attributes like tasks and due dates. Implement methods to add tasks, mark tasks as completed, and display pending tasks."
   ]
  },
  {
   "cell_type": "code",
   "execution_count": 74,
   "id": "8552cc21-bdaf-4a45-9c4a-11f06e4c21aa",
   "metadata": {},
   "outputs": [],
   "source": [
    "import logging as log\n",
    "log.basicConfig(filename = 'class.log',level = log.INFO, format=\"%(asctime)s - %(message)s\")"
   ]
  },
  {
   "cell_type": "code",
   "execution_count": 104,
   "id": "eda87bc6-f299-4277-9573-6077c12a4478",
   "metadata": {},
   "outputs": [],
   "source": [
    "class todolist:\n",
    "    \n",
    "    d = dict()\n",
    "    \n",
    "    def addTask(self, taskname , dueDate):\n",
    "        \n",
    "        if self.checkTask(taskname) != True:\n",
    "            self.d[taskname] = {\"dueDate\":dueDate, \"status\":\"added\"}\n",
    "            log.info(\"new task is added\")\n",
    "        else:\n",
    "            log.info(\"%s task is already added, try to add new task\",taskname)\n",
    "    \n",
    "    def markTask(self,taskname):\n",
    "        try :\n",
    "            if d[taskname]:\n",
    "                d[taskname][\"status\"] = \"completed\"\n",
    "                log.info(\"%s task is set to completed\",taskname)\n",
    "        except Exception as e:\n",
    "            log.info(\"%s task not found in list\",taskname)\n",
    "    \n",
    "    def getPending(self):\n",
    "        pending_task = []\n",
    "        \n",
    "        for i,j in d.items():\n",
    "            if j['status'] != 'completed':\n",
    "                pending_task.append(i)\n",
    "        return pending_task\n",
    "    \n",
    "    def checkTask(self,taskname):\n",
    "        if d[taskname]:\n",
    "            return True\n",
    "    \n",
    "    def __str__(self):\n",
    "        return \"This class is about creating To Do List\""
   ]
  },
  {
   "cell_type": "code",
   "execution_count": 105,
   "id": "32744b6a-43c1-48b2-9d07-d43065b08639",
   "metadata": {},
   "outputs": [],
   "source": [
    "goud = todolist()"
   ]
  },
  {
   "cell_type": "code",
   "execution_count": 103,
   "id": "71bd9a96-9070-41e5-a952-e4cd98307744",
   "metadata": {},
   "outputs": [],
   "source": [
    "goud.addTask(\"python\",20231014)"
   ]
  },
  {
   "cell_type": "code",
   "execution_count": 97,
   "id": "1cd2b651-0501-4c07-924e-8df76aa635d2",
   "metadata": {},
   "outputs": [
    {
     "data": {
      "text/plain": [
       "['python']"
      ]
     },
     "execution_count": 97,
     "metadata": {},
     "output_type": "execute_result"
    }
   ],
   "source": [
    "goud.getPending()"
   ]
  },
  {
   "cell_type": "code",
   "execution_count": 98,
   "id": "debc4e1c-afb1-4b96-a9a2-e74a3e6aea94",
   "metadata": {},
   "outputs": [],
   "source": [
    "goud.markTask('learn')"
   ]
  },
  {
   "cell_type": "code",
   "execution_count": 99,
   "id": "0920e8c4-7a83-416f-840c-9ed08b3b6db0",
   "metadata": {},
   "outputs": [],
   "source": [
    "goud.markTask('test')"
   ]
  },
  {
   "cell_type": "code",
   "execution_count": 106,
   "id": "857a5d92-1fc0-4205-9c32-1cc27f693fa9",
   "metadata": {},
   "outputs": [
    {
     "name": "stdout",
     "output_type": "stream",
     "text": [
      "This class is about creating To Do List\n"
     ]
    }
   ],
   "source": [
    "print(goud)"
   ]
  }
 ],
 "metadata": {
  "kernelspec": {
   "display_name": "Python 3 (ipykernel)",
   "language": "python",
   "name": "python3"
  },
  "language_info": {
   "codemirror_mode": {
    "name": "ipython",
    "version": 3
   },
   "file_extension": ".py",
   "mimetype": "text/x-python",
   "name": "python",
   "nbconvert_exporter": "python",
   "pygments_lexer": "ipython3",
   "version": "3.10.8"
  }
 },
 "nbformat": 4,
 "nbformat_minor": 5
}
